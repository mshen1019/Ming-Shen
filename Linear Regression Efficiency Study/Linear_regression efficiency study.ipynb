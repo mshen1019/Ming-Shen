{
 "cells": [
  {
   "cell_type": "code",
   "execution_count": 366,
   "metadata": {},
   "outputs": [],
   "source": [
    "import numpy as np\n",
    "import time\n",
    "import math "
   ]
  },
  {
   "cell_type": "markdown",
   "metadata": {},
   "source": [
    "## Normal Function"
   ]
  },
  {
   "cell_type": "code",
   "execution_count": 367,
   "metadata": {},
   "outputs": [],
   "source": [
    "def normal_function(x,y):\n",
    "    t=np.ones((len(x),1))\n",
    "    x_new=np.append(x,t,axis=1)\n",
    "    x_len=len(x_new.T)\n",
    "    m=len(x_new)\n",
    "    theta=np.matmul(np.matmul(np.linalg.inv(np.matmul(x_new.T,x_new)),x_new.T),y)\n",
    "    return theta"
   ]
  },
  {
   "cell_type": "markdown",
   "metadata": {},
   "source": [
    "## Cost Function"
   ]
  },
  {
   "cell_type": "code",
   "execution_count": 371,
   "metadata": {},
   "outputs": [],
   "source": [
    "def mse(x,y,theta_hat):\n",
    "    t=np.ones((len(x),1))\n",
    "    x_new=np.append(x,t,axis=1)\n",
    "    x_len=len(x_new.T)\n",
    "    m=len(x_new)\n",
    "    diff=np.dot(x_new,theta_hat)-y\n",
    "    mse=math.sqrt(sum(diff**2)/m)\n",
    "    return mse"
   ]
  },
  {
   "cell_type": "markdown",
   "metadata": {},
   "source": [
    "## Batch Gradient Descent Matrix"
   ]
  },
  {
   "cell_type": "code",
   "execution_count": null,
   "metadata": {},
   "outputs": [],
   "source": [
    "def gradient_descent(x,y,alpha):\n",
    "    t=np.ones((5000,1))\n",
    "    x_new=np.append(x,t,axis=1)\n",
    "    x_len=len(x_new.T)\n",
    "    m=len(x_new)\n",
    "    theta=np.ones(x_len)\n",
    "    for i in range(500):\n",
    "        diff=np.dot(x_new,theta)-y\n",
    "        diff_repeat=diff.repeat(x_len).reshape(m,x_len)\n",
    "        diff_mat=diff_repeat*x_new\n",
    "        theta-=alpha/m*sum(diff_mat)\n",
    "#        for j in range(len(x_new)):\n",
    "#            theta-=alpha/m*x_new[j]*diff[j]\n",
    "    return theta"
   ]
  },
  {
   "cell_type": "markdown",
   "metadata": {},
   "source": [
    "## Batch Gradient Descent Loop"
   ]
  },
  {
   "cell_type": "code",
   "execution_count": 370,
   "metadata": {},
   "outputs": [],
   "source": [
    "def gradient_descent_loop(x,y,alpha,epochs):\n",
    "    t=np.ones((len(x),1))\n",
    "    x_new=np.append(x,t,axis=1)\n",
    "    x_len=len(x_new.T)\n",
    "    m=len(x_new)\n",
    "    theta=np.ones(x_len)\n",
    "    for i in range(epochs):\n",
    "        diff=np.dot(x_new,theta)-y\n",
    "#        diff_repeat=diff.repeat(x_len).reshape(m,x_len)\n",
    "#        diff_mat=diff_repeat*x_new\n",
    "#        theta-=alpha/m*sum(diff_mat)\n",
    "        for j in range(len(x_new)):\n",
    "            theta-=alpha/m*x_new[j]*diff[j]\n",
    "    return theta"
   ]
  },
  {
   "cell_type": "markdown",
   "metadata": {},
   "source": [
    "## Mini Batch Gradient Descent"
   ]
  },
  {
   "cell_type": "code",
   "execution_count": 372,
   "metadata": {},
   "outputs": [],
   "source": [
    "def gradient_descent_loop_minibatch(x,y,alpha,epochs,batch_size):\n",
    "    t=np.ones((len(x),1))\n",
    "    x_new=np.append(x,t,axis=1)\n",
    "    x_len=len(x_new.T)\n",
    "    m=len(x_new)\n",
    "    theta=np.ones(x_len)\n",
    "    for i in range(epochs):\n",
    "        diff=np.dot(x_new,theta)-y\n",
    "#        diff_repeat=diff.repeat(x_len).reshape(m,x_len)\n",
    "#        diff_mat=diff_repeat*x_new\n",
    "#        theta-=alpha/m*sum(diff_mat)\n",
    "        batch_index=np.random.randint(m,size=batch_size)\n",
    "        for j in range(len(batch_index)):\n",
    "            theta-=alpha/m*x_new[batch_index[j]]*diff[batch_index[j]]\n",
    "    return theta"
   ]
  },
  {
   "cell_type": "markdown",
   "metadata": {},
   "source": [
    "## Test Case One "
   ]
  },
  {
   "cell_type": "markdown",
   "metadata": {},
   "source": [
    "50000 observations; 101 features"
   ]
  },
  {
   "cell_type": "code",
   "execution_count": 384,
   "metadata": {},
   "outputs": [],
   "source": [
    "epsilon=3*np.random.rand(5000)\n",
    "h_theta=np.array(range(100))\n",
    "x=5*np.random.rand(5000,100)\n",
    "y=np.dot(x,h_theta)+epsilon+50"
   ]
  },
  {
   "cell_type": "code",
   "execution_count": 385,
   "metadata": {},
   "outputs": [
    {
     "name": "stdout",
     "output_type": "stream",
     "text": [
      "time cost 0.011132955551147461 s. The mse is 0.8620659917475911\n"
     ]
    }
   ],
   "source": [
    "time_start=time.time()\n",
    "theta_normal=normal_function(x,y)\n",
    "time_end=time.time()\n",
    "mse_normal=mse(x,y,theta_normal)\n",
    "print('time cost',time_end-time_start,'s. The mse is', mse_normal)"
   ]
  },
  {
   "cell_type": "code",
   "execution_count": 387,
   "metadata": {},
   "outputs": [
    {
     "name": "stdout",
     "output_type": "stream",
     "text": [
      "time cost 19.74905300140381 s.The mse is 2.244101108434113\n"
     ]
    }
   ],
   "source": [
    "time_start=time.time()\n",
    "theta_gradient_descent_loop=gradient_descent_loop(x,y,0.003,1000)\n",
    "time_end=time.time()\n",
    "mse_gradient_descent_loop=mse(x,y,theta_gradient_descent_loop)\n",
    "print('time cost',time_end-time_start,'s.The mse is', mse_gradient_descent_loop)"
   ]
  },
  {
   "cell_type": "code",
   "execution_count": 388,
   "metadata": {},
   "outputs": [
    {
     "name": "stdout",
     "output_type": "stream",
     "text": [
      "time cost 15.139108180999756 s. The mse is 11.003470257982933\n"
     ]
    }
   ],
   "source": [
    "time_start=time.time()\n",
    "theta_hat_minibatch=gradient_descent_loop_minibatch(x,y,alpha=0.003,epochs=10000,batch_size=300)\n",
    "time_end=time.time()\n",
    "mse_minibatch=mse(x,y,theta_hat_minibatch)\n",
    "print('time cost',time_end-time_start,'s. The mse is', mse_minibatch)"
   ]
  },
  {
   "cell_type": "code",
   "execution_count": null,
   "metadata": {},
   "outputs": [],
   "source": []
  },
  {
   "cell_type": "code",
   "execution_count": 108,
   "metadata": {},
   "outputs": [
    {
     "data": {
      "text/plain": [
       "array([1.13666439, 2.11810151, 3.10428909, 4.06050459, 5.13454187,\n",
       "       6.14436843])"
      ]
     },
     "execution_count": 108,
     "metadata": {},
     "output_type": "execute_result"
    }
   ],
   "source": [
    "np.matmul(np.matmul(numpy.linalg.inv(np.matmul(x.T,x)),x.T),y)"
   ]
  },
  {
   "cell_type": "code",
   "execution_count": 217,
   "metadata": {},
   "outputs": [],
   "source": [
    "def gradient_descent(x,y,alpha):\n",
    "    t=np.ones((5000,1))\n",
    "    x_new=np.append(x,t,axis=1)\n",
    "    x_len=len(x_new.T)\n",
    "    m=len(x_new)\n",
    "    theta=np.ones(x_len)\n",
    "    for i in range(500):\n",
    "        diff=np.dot(x_new,theta)-y\n",
    "        diff_repeat=diff.repeat(x_len).reshape(m,x_len)\n",
    "        diff_mat=diff_repeat*x_new\n",
    "        theta-=alpha/m*sum(diff_mat)\n",
    "#        for j in range(len(x_new)):\n",
    "#            theta-=alpha/m*x_new[j]*diff[j]\n",
    "    return theta"
   ]
  },
  {
   "cell_type": "code",
   "execution_count": 224,
   "metadata": {},
   "outputs": [
    {
     "name": "stdout",
     "output_type": "stream",
     "text": [
      "time cost 19.5274441242218 s\n"
     ]
    }
   ],
   "source": [
    "time_start=time.time()\n",
    "sol_grad=gradient_descent(x,y,alpha=0.00031)\n",
    "sol_grad\n",
    "time_end=time.time()\n",
    "print('time cost',time_end-time_start,'s')"
   ]
  },
  {
   "cell_type": "code",
   "execution_count": 222,
   "metadata": {},
   "outputs": [
    {
     "data": {
      "text/plain": [
       "array([325.86886497, 327.34977381, 374.09841286, ..., 624.35382203,\n",
       "       649.62228076, 200.23867015])"
      ]
     },
     "execution_count": 222,
     "metadata": {},
     "output_type": "execute_result"
    }
   ],
   "source": [
    "sol_grad"
   ]
  },
  {
   "cell_type": "code",
   "execution_count": 286,
   "metadata": {},
   "outputs": [],
   "source": [
    "def gradient_descent_loop(x,y,alpha,epochs):\n",
    "    t=np.ones((len(x),1))\n",
    "    x_new=np.append(x,t,axis=1)\n",
    "    x_len=len(x_new.T)\n",
    "    m=len(x_new)\n",
    "    theta=np.ones(x_len)\n",
    "    for i in range(epochs):\n",
    "        diff=np.dot(x_new,theta)-y\n",
    "#        diff_repeat=diff.repeat(x_len).reshape(m,x_len)\n",
    "#        diff_mat=diff_repeat*x_new\n",
    "#        theta-=alpha/m*sum(diff_mat)\n",
    "        for j in range(len(x_new)):\n",
    "            theta-=alpha/m*x_new[j]*diff[j]\n",
    "    return theta"
   ]
  },
  {
   "cell_type": "code",
   "execution_count": 226,
   "metadata": {},
   "outputs": [
    {
     "name": "stdout",
     "output_type": "stream",
     "text": [
      "time cost 14.505366086959839 s\n"
     ]
    }
   ],
   "source": [
    "time_start=time.time()\n",
    "sol_grad_loop=gradient_descent_loop(x,y,alpha=0.000315)\n",
    "sol_grad_loop\n",
    "time_end=time.time()\n",
    "print('time cost',time_end-time_start,'s')"
   ]
  },
  {
   "cell_type": "code",
   "execution_count": 229,
   "metadata": {},
   "outputs": [
    {
     "data": {
      "text/plain": [
       "array([321.57151206, 323.11722226, 370.67384958, ..., 626.44756178,\n",
       "       652.21589151, 199.9606717 ])"
      ]
     },
     "execution_count": 229,
     "metadata": {},
     "output_type": "execute_result"
    }
   ],
   "source": [
    "sol_grad_loop=gradient_descent_loop(x,y,alpha=0.000318)\n",
    "sol_grad_loop"
   ]
  },
  {
   "cell_type": "code",
   "execution_count": 230,
   "metadata": {},
   "outputs": [
    {
     "data": {
      "text/plain": [
       "array([322.68428439, 324.2192951 , 371.67797429, ..., 626.76385803,\n",
       "       652.46172621, 200.22500508])"
      ]
     },
     "execution_count": 230,
     "metadata": {},
     "output_type": "execute_result"
    }
   ],
   "source": [
    "sol_grad_loop=gradient_descent_loop(x,y,alpha=0.000317)\n",
    "sol_grad_loop"
   ]
  },
  {
   "cell_type": "code",
   "execution_count": 231,
   "metadata": {},
   "outputs": [
    {
     "data": {
      "text/plain": [
       "array([305.54422507, 307.16973521, 354.76558832, ..., 611.2365041 ,\n",
       "       637.30085332, 193.77033979])"
      ]
     },
     "execution_count": 231,
     "metadata": {},
     "output_type": "execute_result"
    }
   ],
   "source": [
    "sol_grad_loop=gradient_descent_loop(x,y,alpha=0.000319)\n",
    "sol_grad_loop"
   ]
  },
  {
   "cell_type": "code",
   "execution_count": 232,
   "metadata": {},
   "outputs": [
    {
     "data": {
      "text/plain": [
       "array([243.34912827, 245.26562957, 292.66850324, ..., 549.52425728,\n",
       "       576.55670312, 169.14802791])"
      ]
     },
     "execution_count": 232,
     "metadata": {},
     "output_type": "execute_result"
    }
   ],
   "source": [
    "sol_grad_loop=gradient_descent_loop(x,y,alpha=0.0003195)\n",
    "sol_grad_loop"
   ]
  },
  {
   "cell_type": "code",
   "execution_count": 233,
   "metadata": {},
   "outputs": [
    {
     "data": {
      "text/plain": [
       "array([150.22655321, 152.57599696, 199.63908821, ..., 456.72896778,\n",
       "       485.18433854, 132.19343533])"
      ]
     },
     "execution_count": 233,
     "metadata": {},
     "output_type": "execute_result"
    }
   ],
   "source": [
    "sol_grad_loop=gradient_descent_loop(x,y,alpha=0.00031975)\n",
    "sol_grad_loop"
   ]
  },
  {
   "cell_type": "code",
   "execution_count": 239,
   "metadata": {},
   "outputs": [
    {
     "data": {
      "text/plain": [
       "array([-57.67410262, -54.04611183,  -1.70943692, ..., 298.20341067,\n",
       "       332.80775988,  60.46822452])"
      ]
     },
     "execution_count": 239,
     "metadata": {},
     "output_type": "execute_result"
    }
   ],
   "source": [
    "sol_grad_loop=gradient_descent_loop(x,y,alpha=0.000319999)\n",
    "sol_grad_loop"
   ]
  },
  {
   "cell_type": "code",
   "execution_count": 240,
   "metadata": {},
   "outputs": [
    {
     "data": {
      "text/plain": [
       "array([-39.67143235, -36.12694618,  16.27885739, ..., 316.16876305,\n",
       "       350.49991476,  67.61822028])"
      ]
     },
     "execution_count": 240,
     "metadata": {},
     "output_type": "execute_result"
    }
   ],
   "source": [
    "sol_grad_loop=gradient_descent_loop(x,y,alpha=0.000319985)\n",
    "sol_grad_loop"
   ]
  },
  {
   "cell_type": "code",
   "execution_count": 241,
   "metadata": {},
   "outputs": [
    {
     "data": {
      "text/plain": [
       "array([-43.45011664, -39.88810289,  12.50319737, ..., 312.39796596,\n",
       "       346.78646367,  66.11747836])"
      ]
     },
     "execution_count": 241,
     "metadata": {},
     "output_type": "execute_result"
    }
   ],
   "source": [
    "sol_grad_loop=gradient_descent_loop(x,y,alpha=0.000319988)\n",
    "sol_grad_loop"
   ]
  },
  {
   "cell_type": "code",
   "execution_count": null,
   "metadata": {},
   "outputs": [],
   "source": [
    "sol_grad_loop=gradient_descent_loop(x,y,alpha=0.000319988)\n",
    "sol_grad_loop"
   ]
  },
  {
   "cell_type": "code",
   "execution_count": 242,
   "metadata": {},
   "outputs": [
    {
     "data": {
      "text/plain": [
       "array([477.99589379, 476.28635433, 485.02589189, ..., 517.82039489,\n",
       "       515.74526764, 200.36924077])"
      ]
     },
     "execution_count": 242,
     "metadata": {},
     "output_type": "execute_result"
    }
   ],
   "source": [
    "sol_grad_loop=gradient_descent_loop(x,y,alpha=0.00003)\n",
    "sol_grad_loop"
   ]
  },
  {
   "cell_type": "code",
   "execution_count": 266,
   "metadata": {},
   "outputs": [],
   "source": [
    "epsilon=np.random.rand(1000)\n",
    "h_theta=np.array((6,3))\n",
    "x_2=np.random.rand(1000,2)\n",
    "y_2=np.dot(x_2,h_theta)+epsilon+5"
   ]
  },
  {
   "cell_type": "code",
   "execution_count": 283,
   "metadata": {},
   "outputs": [
    {
     "data": {
      "text/plain": [
       "array([5.96321487, 2.98089671, 5.5251487 ])"
      ]
     },
     "execution_count": 283,
     "metadata": {},
     "output_type": "execute_result"
    }
   ],
   "source": [
    "gradient_descent_loop(x_2,y_2,alpha=0.1)"
   ]
  },
  {
   "cell_type": "code",
   "execution_count": null,
   "metadata": {},
   "outputs": [],
   "source": [
    "h_theta=np.array(range(1000))"
   ]
  },
  {
   "cell_type": "code",
   "execution_count": 284,
   "metadata": {},
   "outputs": [],
   "source": [
    "epsilon=np.random.rand(1000)\n",
    "h_theta=np.array(range(10))\n",
    "x_2=np.random.rand(1000,10)\n",
    "y_2=np.dot(x_2,h_theta)+epsilon+5"
   ]
  },
  {
   "cell_type": "code",
   "execution_count": 287,
   "metadata": {},
   "outputs": [
    {
     "data": {
      "text/plain": [
       "array([0.01345737, 0.98599459, 1.94415261, 2.95439119, 3.97939869,\n",
       "       5.04749956, 5.97127713, 6.97464609, 7.93588939, 8.96587175,\n",
       "       5.62447134])"
      ]
     },
     "execution_count": 287,
     "metadata": {},
     "output_type": "execute_result"
    }
   ],
   "source": [
    "gradient_descent_loop(x_2,y_2,alpha=0.1,epochs=1000)"
   ]
  },
  {
   "cell_type": "code",
   "execution_count": null,
   "metadata": {},
   "outputs": [],
   "source": []
  },
  {
   "cell_type": "code",
   "execution_count": 303,
   "metadata": {},
   "outputs": [],
   "source": [
    "def gradient_descent_loop(x,y,alpha,epochs):\n",
    "    t=np.ones((len(x),1))\n",
    "    x_new=np.append(x,t,axis=1)\n",
    "    x_len=len(x_new.T)\n",
    "    m=len(x_new)\n",
    "    theta=np.ones(x_len)\n",
    "    for i in range(epochs):\n",
    "        diff=np.dot(x_new,theta)-y\n",
    "#        diff_repeat=diff.repeat(x_len).reshape(m,x_len)\n",
    "#        diff_mat=diff_repeat*x_new\n",
    "#        theta-=alpha/m*sum(diff_mat)\n",
    "        for j in range(len(x_new)):\n",
    "            theta-=alpha/m*x_new[j]*diff[j]\n",
    "    return theta"
   ]
  },
  {
   "cell_type": "code",
   "execution_count": 319,
   "metadata": {},
   "outputs": [],
   "source": [
    "def mse(x,y,theta_hat):\n",
    "    t=np.ones((len(x),1))\n",
    "    x_new=np.append(x,t,axis=1)\n",
    "    x_len=len(x_new.T)\n",
    "    m=len(x_new)\n",
    "    diff=np.dot(x_new,theta_hat)-y\n",
    "    mse=math.sqrt(sum(diff**2)/m)\n",
    "    return mse"
   ]
  },
  {
   "cell_type": "code",
   "execution_count": 296,
   "metadata": {},
   "outputs": [],
   "source": [
    "epsilon=3*np.random.rand(5000)\n",
    "h_theta=np.array(range(100))\n",
    "x=5*np.random.rand(5000,100)\n",
    "y=np.dot(x,h_theta)+epsilon+50"
   ]
  },
  {
   "cell_type": "code",
   "execution_count": 313,
   "metadata": {},
   "outputs": [
    {
     "data": {
      "text/plain": [
       "array([ 0.16428276,  1.16252321,  2.12322961,  3.15829911,  4.18645924,\n",
       "        5.16437619,  6.22021418,  7.19168299,  8.19790775,  9.13084629,\n",
       "       10.14049501, 11.15862324, 12.11089179, 13.13137041, 14.16424439,\n",
       "       15.13151319, 16.15026258, 17.15807502, 18.09271149, 19.08493472,\n",
       "       20.12913151, 21.09008609, 22.1360107 , 23.14911337, 24.15389207,\n",
       "       25.14821753, 26.15116787, 27.10299937, 28.11917851, 29.13782985,\n",
       "       30.13803711, 31.14609695, 32.13447355, 33.14106497, 34.09505453,\n",
       "       35.11760396, 36.09215233, 37.14495338, 38.17144211, 39.10646012,\n",
       "       40.13721157, 41.13434536, 42.15718454, 43.16379573, 44.12435812,\n",
       "       45.05086013, 46.11990581, 47.14596827, 48.08194898, 49.15494093,\n",
       "       50.17299535, 51.12437992, 52.12214543, 53.13635246, 54.1549651 ,\n",
       "       55.10899922, 56.10979987, 57.11330079, 58.08790636, 59.14971015,\n",
       "       60.1082532 , 61.11987134, 62.15152721, 63.1128242 , 64.19348898,\n",
       "       65.13454518, 66.09748163, 67.07891355, 68.04635232, 69.11015817,\n",
       "       70.13736777, 71.08082694, 72.11712492, 73.09593746, 74.09163458,\n",
       "       75.10208206, 76.11230215, 77.09924273, 78.1278213 , 79.10793523,\n",
       "       80.05324427, 81.08633433, 82.04442996, 83.08633284, 84.08683318,\n",
       "       85.14830018, 86.05549003, 87.0513031 , 88.06567137, 89.10561907,\n",
       "       90.0899256 , 91.12508343, 92.11083352, 93.06930786, 94.13406498,\n",
       "       95.08355149, 96.15067573, 97.06170685, 98.04790116, 99.07453301,\n",
       "       21.04304721])"
      ]
     },
     "execution_count": 313,
     "metadata": {},
     "output_type": "execute_result"
    }
   ],
   "source": [
    "theta_hat=gradient_descent_loop(x,y,alpha=0.003,epochs=1200)\n",
    "theta_hat"
   ]
  },
  {
   "cell_type": "code",
   "execution_count": 320,
   "metadata": {},
   "outputs": [
    {
     "data": {
      "text/plain": [
       "1.9995913490387127"
      ]
     },
     "execution_count": 320,
     "metadata": {},
     "output_type": "execute_result"
    }
   ],
   "source": [
    "mse(x,y,theta_hat)"
   ]
  },
  {
   "cell_type": "code",
   "execution_count": 324,
   "metadata": {},
   "outputs": [
    {
     "data": {
      "text/plain": [
       "1.7301392791840706"
      ]
     },
     "execution_count": 324,
     "metadata": {},
     "output_type": "execute_result"
    }
   ],
   "source": [
    "mse(x,y,h_theta_new)"
   ]
  },
  {
   "cell_type": "code",
   "execution_count": 322,
   "metadata": {},
   "outputs": [],
   "source": [
    "h_theta_new=np.append(h_theta,50)"
   ]
  },
  {
   "cell_type": "code",
   "execution_count": 323,
   "metadata": {},
   "outputs": [
    {
     "data": {
      "text/plain": [
       "array([ 0,  1,  2,  3,  4,  5,  6,  7,  8,  9, 10, 11, 12, 13, 14, 15, 16,\n",
       "       17, 18, 19, 20, 21, 22, 23, 24, 25, 26, 27, 28, 29, 30, 31, 32, 33,\n",
       "       34, 35, 36, 37, 38, 39, 40, 41, 42, 43, 44, 45, 46, 47, 48, 49, 50,\n",
       "       51, 52, 53, 54, 55, 56, 57, 58, 59, 60, 61, 62, 63, 64, 65, 66, 67,\n",
       "       68, 69, 70, 71, 72, 73, 74, 75, 76, 77, 78, 79, 80, 81, 82, 83, 84,\n",
       "       85, 86, 87, 88, 89, 90, 91, 92, 93, 94, 95, 96, 97, 98, 99, 50])"
      ]
     },
     "execution_count": 323,
     "metadata": {},
     "output_type": "execute_result"
    }
   ],
   "source": [
    "h_theta_new"
   ]
  },
  {
   "cell_type": "code",
   "execution_count": null,
   "metadata": {},
   "outputs": [],
   "source": [
    "theta_hat=gradient_descent_loop(x,y,alpha=0.003,epochs=1200)\n",
    "theta_hat"
   ]
  },
  {
   "cell_type": "code",
   "execution_count": null,
   "metadata": {},
   "outputs": [],
   "source": [
    "def gradient_descent_loop_minibatch(x,y,alpha,epochs,batch_size):\n",
    "    t=np.ones((len(x),1))\n",
    "    x_new=np.append(x,t,axis=1)\n",
    "    x_len=len(x_new.T)\n",
    "    m=len(x_new)\n",
    "    theta=np.ones(x_len)\n",
    "    for i in range(epochs):\n",
    "        diff=np.dot(x_new,theta)-y\n",
    "#        diff_repeat=diff.repeat(x_len).reshape(m,x_len)\n",
    "#        diff_mat=diff_repeat*x_new\n",
    "#        theta-=alpha/m*sum(diff_mat)\n",
    "        batch_index=np.random.randint(m,size=batch_size)\n",
    "        for j in range(len(batch_index)):\n",
    "            theta-=alpha/m*x_new[batch_index[j]]*diff[batch_index[j]]\n",
    "    return theta"
   ]
  },
  {
   "cell_type": "code",
   "execution_count": 360,
   "metadata": {},
   "outputs": [],
   "source": [
    "def normal_function(x,y):\n",
    "    t=np.ones((len(x),1))\n",
    "    x_new=np.append(x,t,axis=1)\n",
    "    x_len=len(x_new.T)\n",
    "    m=len(x_new)\n",
    "    theta=np.matmul(np.matmul(np.linalg.inv(np.matmul(x_new.T,x_new)),x_new.T),y)\n",
    "    return theta"
   ]
  },
  {
   "cell_type": "code",
   "execution_count": null,
   "metadata": {},
   "outputs": [],
   "source": []
  },
  {
   "cell_type": "code",
   "execution_count": 354,
   "metadata": {},
   "outputs": [
    {
     "name": "stdout",
     "output_type": "stream",
     "text": [
      "time cost 14.636261940002441 s. The mse is 11.682820137029758\n"
     ]
    }
   ],
   "source": [
    "time_start=time.time()\n",
    "theta_hat_minibatch=gradient_descent_loop_minibatch(x,y,alpha=0.003,epochs=10000,batch_size=300)\n",
    "time_end=time.time()\n",
    "mse_minibatch=mse(x,y,theta_hat_minibatch)\n",
    "print('time cost',time_end-time_start,'s. The mse is', mse_minibatch)"
   ]
  },
  {
   "cell_type": "code",
   "execution_count": null,
   "metadata": {},
   "outputs": [],
   "source": []
  },
  {
   "cell_type": "code",
   "execution_count": 362,
   "metadata": {},
   "outputs": [
    {
     "name": "stdout",
     "output_type": "stream",
     "text": [
      "time cost 23.58353900909424 s. The mse is 1.9995913490387127\n"
     ]
    }
   ],
   "source": [
    "time_start=time.time()\n",
    "theta_hat=gradient_descent_loop(x,y,alpha=0.003,epochs=1200)\n",
    "time_end=time.time()\n",
    "mse_total=mse(x,y,theta_hat)\n",
    "print('time cost',time_end-time_start,'s. The mse is', mse_total)"
   ]
  },
  {
   "cell_type": "code",
   "execution_count": 357,
   "metadata": {},
   "outputs": [],
   "source": [
    "theta_normal=np.matmul(np.matmul(np.linalg.inv(np.matmul(x.T,x)),x.T),y)"
   ]
  },
  {
   "cell_type": "code",
   "execution_count": 364,
   "metadata": {},
   "outputs": [
    {
     "name": "stdout",
     "output_type": "stream",
     "text": [
      "time cost 0.00960993766784668 s. The mse is 0.8515923705881321\n"
     ]
    }
   ],
   "source": [
    "time_start=time.time()\n",
    "theta_normal=normal_function(x,y)\n",
    "time_end=time.time()\n",
    "mse_normal=mse(x,y,theta_normal)\n",
    "print('time cost',time_end-time_start,'s. The mse is', mse_normal)"
   ]
  },
  {
   "cell_type": "code",
   "execution_count": null,
   "metadata": {},
   "outputs": [],
   "source": []
  }
 ],
 "metadata": {
  "kernelspec": {
   "display_name": "Python 3",
   "language": "python",
   "name": "python3"
  },
  "language_info": {
   "codemirror_mode": {
    "name": "ipython",
    "version": 3
   },
   "file_extension": ".py",
   "mimetype": "text/x-python",
   "name": "python",
   "nbconvert_exporter": "python",
   "pygments_lexer": "ipython3",
   "version": "3.7.6"
  }
 },
 "nbformat": 4,
 "nbformat_minor": 4
}
