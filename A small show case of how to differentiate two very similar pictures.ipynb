{
 "cells": [
  {
   "cell_type": "code",
   "execution_count": 95,
   "metadata": {},
   "outputs": [],
   "source": [
    "#This is an small show case of how to differentiate two very similar pictures\n",
    "import tensorflow as tf\n",
    "import numpy as np\n",
    "from PIL import Image"
   ]
  },
  {
   "cell_type": "code",
   "execution_count": 161,
   "metadata": {},
   "outputs": [],
   "source": [
    "img_digit=np.zeros(10000,dtype=int)\n",
    "img_digit_ten=img_digit+10\n",
    "img_digit_black=img_digit_ten.reshape(100,100)\n",
    "img_digit_for_test=img_digit_ten.reshape(100,100)"
   ]
  },
  {
   "cell_type": "code",
   "execution_count": 165,
   "metadata": {},
   "outputs": [
    {
     "data": {
      "text/plain": [
       "(100, 100)"
      ]
     },
     "execution_count": 165,
     "metadata": {},
     "output_type": "execute_result"
    }
   ],
   "source": [
    "img_digit_for_test.shape"
   ]
  },
  {
   "cell_type": "code",
   "execution_count": 166,
   "metadata": {},
   "outputs": [
    {
     "data": {
      "text/plain": [
       "(100, 100)"
      ]
     },
     "execution_count": 166,
     "metadata": {},
     "output_type": "execute_result"
    }
   ],
   "source": [
    "img_digit_black.shape"
   ]
  },
  {
   "cell_type": "code",
   "execution_count": 137,
   "metadata": {},
   "outputs": [],
   "source": [
    "img_digit_for_test[4,5]=11\n",
    "img_digit_for_test[4,6]=11\n",
    "img_digit_for_test[4,7]=11"
   ]
  },
  {
   "cell_type": "code",
   "execution_count": 155,
   "metadata": {},
   "outputs": [
    {
     "data": {
      "text/plain": [
       "array([[10, 10, 10, 10, 10, 10, 10, 10, 10, 10],\n",
       "       [10, 10, 10, 10, 10, 10, 10, 10, 10, 10],\n",
       "       [10, 10, 10, 10, 10, 10, 10, 10, 10, 10],\n",
       "       [10, 10, 10, 10, 10, 10, 10, 10, 10, 10],\n",
       "       [10, 10, 10, 10, 10, 11, 11, 11, 10, 10],\n",
       "       [10, 10, 10, 10, 10, 10, 10, 10, 10, 10],\n",
       "       [10, 10, 10, 10, 10, 10, 10, 10, 10, 10],\n",
       "       [10, 10, 10, 10, 10, 10, 10, 10, 10, 10],\n",
       "       [10, 10, 10, 10, 10, 10, 10, 10, 10, 10],\n",
       "       [10, 10, 10, 10, 10, 10, 10, 10, 10, 10]])"
      ]
     },
     "execution_count": 155,
     "metadata": {},
     "output_type": "execute_result"
    }
   ],
   "source": [
    "#with the steps above we create an image for test\n",
    "#only in the fifth row(row 4), some greyscale value changes from 10 to 11, all other points are 10\n",
    "img_digit_for_test[:10,:10]"
   ]
  },
  {
   "cell_type": "code",
   "execution_count": 139,
   "metadata": {},
   "outputs": [],
   "source": [
    "image_for_test = Image.fromarray(np.uint8(img_digit_for_test)) "
   ]
  },
  {
   "cell_type": "code",
   "execution_count": 140,
   "metadata": {},
   "outputs": [
    {
     "data": {
      "image/png": "[encoded data removed]",
      "text/plain": [
       "<PIL.Image.Image image mode=L size=100x100 at 0x64538E650>"
      ]
     },
     "execution_count": 140,
     "metadata": {},
     "output_type": "execute_result"
    }
   ],
   "source": [
    "#This image is almost purely black\n",
    "image_for_test"
   ]
  },
  {
   "cell_type": "code",
   "execution_count": 142,
   "metadata": {},
   "outputs": [],
   "source": [
    "image_test.save(\"image_test.png\", \"PNG\")"
   ]
  },
  {
   "cell_type": "code",
   "execution_count": 144,
   "metadata": {},
   "outputs": [],
   "source": [
    "#filter matrix\n",
    "filter_matrix=np.array([[1,8,1],[1,8,1],[1,8,1]])"
   ]
  },
  {
   "cell_type": "code",
   "execution_count": 150,
   "metadata": {},
   "outputs": [],
   "source": [
    "pooled_layer=np.zeros(98*98,dtype=int).reshape(98,98)\n",
    "for i in range(1,99):\n",
    "    for j in range(1,99):\n",
    "        target_matrix=img_digit_for_test[i-1:i+2,j-1:j+2]\n",
    "        outcome_matrix=target_matrix.dot(filter_matrix)\n",
    "        maxpool_value=np.max(outcome_matrix)\n",
    "        pooled_layer[i-1,j-1]=maxpool_value"
   ]
  },
  {
   "cell_type": "code",
   "execution_count": 156,
   "metadata": {},
   "outputs": [
    {
     "data": {
      "text/plain": [
       "array([[240, 240, 240, ..., 240, 240, 240],\n",
       "       [240, 240, 240, ..., 240, 240, 240],\n",
       "       [240, 240, 240, ..., 240, 240, 240],\n",
       "       ...,\n",
       "       [240, 240, 240, ..., 240, 240, 240],\n",
       "       [240, 240, 240, ..., 240, 240, 240],\n",
       "       [240, 240, 240, ..., 240, 240, 240]])"
      ]
     },
     "execution_count": 156,
     "metadata": {},
     "output_type": "execute_result"
    }
   ],
   "source": [
    "pooled_layer"
   ]
  },
  {
   "cell_type": "code",
   "execution_count": 157,
   "metadata": {},
   "outputs": [
    {
     "data": {
      "text/plain": [
       "array([[240, 240, 240, 240, 240, 240, 240, 240, 240, 240],\n",
       "       [240, 240, 240, 240, 240, 240, 240, 240, 240, 240],\n",
       "       [240, 240, 240, 248, 256, 264, 256, 248, 240, 240],\n",
       "       [240, 240, 240, 248, 256, 264, 256, 248, 240, 240],\n",
       "       [240, 240, 240, 248, 256, 264, 256, 248, 240, 240],\n",
       "       [240, 240, 240, 240, 240, 240, 240, 240, 240, 240],\n",
       "       [240, 240, 240, 240, 240, 240, 240, 240, 240, 240],\n",
       "       [240, 240, 240, 240, 240, 240, 240, 240, 240, 240],\n",
       "       [240, 240, 240, 240, 240, 240, 240, 240, 240, 240],\n",
       "       [240, 240, 240, 240, 240, 240, 240, 240, 240, 240]])"
      ]
     },
     "execution_count": 157,
     "metadata": {},
     "output_type": "execute_result"
    }
   ],
   "source": [
    "pooled_layer[:10,:10]"
   ]
  },
  {
   "cell_type": "code",
   "execution_count": 152,
   "metadata": {},
   "outputs": [],
   "source": [
    "pooled_layer_pic = Image.fromarray(np.uint8(pooled_layer)) "
   ]
  },
  {
   "cell_type": "code",
   "execution_count": 159,
   "metadata": {},
   "outputs": [
    {
     "data": {
      "image/png": "[encoded data removed]",
      "text/plain": [
       "<PIL.Image.Image image mode=L size=98x98 at 0x6453BB090>"
      ]
     },
     "execution_count": 159,
     "metadata": {},
     "output_type": "execute_result"
    }
   ],
   "source": [
    "#After pooling, we could locate the edge, which was hidden in the background in original picture\n",
    "pooled_layer_pic"
   ]
  },
  {
   "cell_type": "code",
   "execution_count": 167,
   "metadata": {},
   "outputs": [],
   "source": [
    "#Now we test a pure black picture\n",
    "image_black = Image.fromarray(np.uint8(img_digit_black)) "
   ]
  },
  {
   "cell_type": "code",
   "execution_count": 168,
   "metadata": {},
   "outputs": [
    {
     "data": {
      "image/png": "[encoded data removed]",
      "text/plain": [
       "<PIL.Image.Image image mode=L size=100x100 at 0x10B26F250>"
      ]
     },
     "execution_count": 168,
     "metadata": {},
     "output_type": "execute_result"
    }
   ],
   "source": [
    "image_black"
   ]
  },
  {
   "cell_type": "code",
   "execution_count": 169,
   "metadata": {},
   "outputs": [],
   "source": [
    "#Here we use the same filter matrix\n",
    "pooled_layer_black=np.zeros(98*98,dtype=int).reshape(98,98)\n",
    "for i in range(1,99):\n",
    "    for j in range(1,99):\n",
    "        target_matrix=img_digit_for_test[i-1:i+2,j-1:j+2]\n",
    "        outcome_matrix=target_matrix.dot(filter_matrix)\n",
    "        maxpool_value=np.max(outcome_matrix)\n",
    "        pooled_layer_black[i-1,j-1]=maxpool_value"
   ]
  },
  {
   "cell_type": "code",
   "execution_count": 170,
   "metadata": {},
   "outputs": [
    {
     "data": {
      "text/plain": [
       "array([[240, 240, 240, ..., 240, 240, 240],\n",
       "       [240, 240, 240, ..., 240, 240, 240],\n",
       "       [240, 240, 240, ..., 240, 240, 240],\n",
       "       ...,\n",
       "       [240, 240, 240, ..., 240, 240, 240],\n",
       "       [240, 240, 240, ..., 240, 240, 240],\n",
       "       [240, 240, 240, ..., 240, 240, 240]])"
      ]
     },
     "execution_count": 170,
     "metadata": {},
     "output_type": "execute_result"
    }
   ],
   "source": [
    "pooled_layer_black"
   ]
  },
  {
   "cell_type": "code",
   "execution_count": 171,
   "metadata": {},
   "outputs": [],
   "source": [
    "pooled_layer_black_pic = Image.fromarray(np.uint8(pooled_layer_black)) "
   ]
  },
  {
   "cell_type": "code",
   "execution_count": 173,
   "metadata": {},
   "outputs": [
    {
     "data": {
      "image/png": "[encoded data removed]",
      "text/plain": [
       "<PIL.Image.Image image mode=L size=98x98 at 0x10B27C410>"
      ]
     },
     "execution_count": 173,
     "metadata": {},
     "output_type": "execute_result"
    }
   ],
   "source": [
    "#With the comparation between two pooled layers, we could differentiate the img_for_test from a pure black picture, although they are very similar\n",
    "pooled_layer_black_pic"
   ]
  },
  {
   "cell_type": "code",
   "execution_count": 175,
   "metadata": {},
   "outputs": [],
   "source": [
    "#In this case we are using similar technique with the combination of convolutional layers and pooling layers.\n",
    "#It could differetiate the feature even if it is very close to the background\n",
    "#For some complicated patterns we could divided the feature into basic components,\n",
    "#and stack up the filter matrix for each component, it will dectect the complicated patterns\n",
    "#The hardest part is how to deal with background noise. \n",
    "#We usually use White Gaussian Noise to test the robustness of the model, but in real world, \n",
    "#different dataset and pictures would have different kind of noise, we need to solve it case by case"
   ]
  }
 ],
 "metadata": {
  "kernelspec": {
   "display_name": "Python 3",
   "language": "python",
   "name": "python3"
  },
  "language_info": {
   "codemirror_mode": {
    "name": "ipython",
    "version": 3
   },
   "file_extension": ".py",
   "mimetype": "text/x-python",
   "name": "python",
   "nbconvert_exporter": "python",
   "pygments_lexer": "ipython3",
   "version": "3.7.6"
  }
 },
 "nbformat": 4,
 "nbformat_minor": 4
}
