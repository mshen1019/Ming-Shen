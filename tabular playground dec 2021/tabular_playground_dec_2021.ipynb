{
  "cells": [
    {
      "cell_type": "code",
      "source": [
        "from google.colab import drive\n",
        "drive.mount('/content/drive/')"
      ],
      "metadata": {
        "colab": {
          "base_uri": "https://localhost:8080/"
        },
        "id": "CCG_xXuwEmcG",
        "outputId": "d0f585d2-2cab-462c-bd91-3f8083ae1867"
      },
      "execution_count": null,
      "outputs": [
        {
          "output_type": "stream",
          "name": "stdout",
          "text": [
            "Mounted at /content/drive/\n"
          ]
        }
      ]
    },
    {
      "cell_type": "code",
      "execution_count": null,
      "metadata": {
        "_cell_guid": "b1076dfc-b9ad-4769-8c92-a6c4dae69d19",
        "_uuid": "8f2839f25d086af736a60e9eeb907d3b93b6e0e5",
        "execution": {
          "iopub.execute_input": "2021-12-25T04:30:55.93653Z",
          "iopub.status.busy": "2021-12-25T04:30:55.936214Z",
          "iopub.status.idle": "2021-12-25T04:30:57.533581Z",
          "shell.execute_reply": "2021-12-25T04:30:57.532588Z",
          "shell.execute_reply.started": "2021-12-25T04:30:55.936493Z"
        },
        "id": "8a7_fyg_Ed2k"
      },
      "outputs": [],
      "source": [
        "# This Python 3 environment comes with many helpful analytics libraries installed\n",
        "# It is defined by the kaggle/python Docker image: https://github.com/kaggle/docker-python\n",
        "# For example, here's several helpful packages to load\n",
        "\n",
        "import numpy as np # linear algebra\n",
        "import pandas as pd # data processing, CSV file I/O (e.g. pd.read_csv)\n",
        "\n",
        "# Input data files are available in the read-only \"../input/\" directory\n",
        "# For example, running this (by clicking run or pressing Shift+Enter) will list all files under the input directory\n",
        "\n",
        "import os\n",
        "import matplotlib.pyplot as plt \n",
        "import seaborn as sns\n",
        "\n",
        "from statsmodels.stats.outliers_influence import variance_inflation_factor\n",
        "\n",
        "from sklearn.ensemble import RandomForestClassifier\n",
        "from xgboost import XGBClassifier\n",
        "from catboost import CatBoostClassifier, cv, Pool\n",
        "from sklearn.metrics import mean_absolute_error\n",
        "from sklearn.model_selection import train_test_split\n",
        "from sklearn.model_selection import cross_val_score\n",
        "from sklearn.model_selection import cross_val_predict\n",
        "from sklearn.model_selection import cross_validate\n",
        "from sklearn.model_selection import GridSearchCV\n",
        "from sklearn import preprocessing\n",
        "from lightgbm import LGBMClassifier\n",
        "\n",
        "from datetime import datetime\n",
        "from sklearn.model_selection import RandomizedSearchCV, GridSearchCV\n",
        "from sklearn.model_selection import StratifiedKFold\n",
        "from google.colab import files\n",
        "# You can write up to 20GB to the current directory (/kaggle/working/) that gets preserved as output when you create a version using \"Save & Run All\" \n",
        "# You can also write temporary files to /kaggle/temp/, but they won't be saved outside of the current session"
      ]
    },
    {
      "cell_type": "markdown",
      "metadata": {
        "id": "VAU7b_b0Ed2t"
      },
      "source": [
        "***read train and test dataset***"
      ]
    },
    {
      "cell_type": "code",
      "execution_count": null,
      "metadata": {
        "execution": {
          "iopub.execute_input": "2021-12-25T04:30:57.535928Z",
          "iopub.status.busy": "2021-12-25T04:30:57.535576Z",
          "iopub.status.idle": "2021-12-25T04:31:23.961304Z",
          "shell.execute_reply": "2021-12-25T04:31:23.96026Z",
          "shell.execute_reply.started": "2021-12-25T04:30:57.535882Z"
        },
        "id": "2Q_W_j-4Ed2x"
      },
      "outputs": [],
      "source": [
        "train = pd.read_csv(\"/content/drive/MyDrive/Colab Notebooks/playground/train.csv\")\n",
        "test = pd.read_csv(\"/content/drive/MyDrive/Colab Notebooks/playground/test.csv\")"
      ]
    },
    {
      "cell_type": "markdown",
      "metadata": {
        "id": "IuHMxadXEd2z"
      },
      "source": [
        "**check data state**"
      ]
    },
    {
      "cell_type": "code",
      "execution_count": null,
      "metadata": {
        "execution": {
          "iopub.status.busy": "2021-12-24T16:37:31.75356Z",
          "iopub.status.idle": "2021-12-24T16:37:31.753888Z",
          "shell.execute_reply": "2021-12-24T16:37:31.753734Z",
          "shell.execute_reply.started": "2021-12-24T16:37:31.753714Z"
        },
        "colab": {
          "base_uri": "https://localhost:8080/"
        },
        "id": "yDDKzk-fEd20",
        "outputId": "09ca19d3-ab51-418c-e09c-686e9bb16763"
      },
      "outputs": [
        {
          "output_type": "stream",
          "name": "stdout",
          "text": [
            "[]\n",
            "[]\n"
          ]
        }
      ],
      "source": [
        "cols_with_missing = [col for col in train.columns if train[col].isnull().any()]\n",
        "print(cols_with_missing)\n",
        "cols_with_missing = [col for col in test.columns if test[col].isnull().any()]\n",
        "print(cols_with_missing)"
      ]
    },
    {
      "cell_type": "markdown",
      "metadata": {
        "id": "GWh41s8AEd21"
      },
      "source": [
        "train and test have no missing value"
      ]
    },
    {
      "cell_type": "code",
      "execution_count": null,
      "metadata": {
        "execution": {
          "iopub.status.busy": "2021-12-24T16:37:31.754719Z",
          "iopub.status.idle": "2021-12-24T16:37:31.754998Z",
          "shell.execute_reply": "2021-12-24T16:37:31.754865Z",
          "shell.execute_reply.started": "2021-12-24T16:37:31.754851Z"
        },
        "colab": {
          "base_uri": "https://localhost:8080/"
        },
        "id": "ZYaALBP0Ed22",
        "outputId": "4306e158-1c37-4df6-9bd5-80d4927a83d1"
      },
      "outputs": [
        {
          "output_type": "stream",
          "name": "stdout",
          "text": [
            "train Categorical variables:\n",
            "[]\n",
            "test Categorical variables:\n",
            "[]\n"
          ]
        }
      ],
      "source": [
        "s = (train.dtypes == 'object')\n",
        "object_cols = list(s[s].index)\n",
        "\n",
        "s_ = (test.dtypes == 'object')\n",
        "object_cols_ = list(s[s].index)\n",
        "\n",
        "print(\"train Categorical variables:\")\n",
        "print(object_cols)\n",
        "print(\"test Categorical variables:\")\n",
        "print(object_cols_)"
      ]
    },
    {
      "cell_type": "markdown",
      "metadata": {
        "id": "Xp1qBDkAEd25"
      },
      "source": [
        "train and test have integer only"
      ]
    },
    {
      "cell_type": "code",
      "execution_count": null,
      "metadata": {
        "execution": {
          "iopub.execute_input": "2021-12-22T00:10:35.564483Z",
          "iopub.status.busy": "2021-12-22T00:10:35.564245Z",
          "iopub.status.idle": "2021-12-22T00:10:35.645312Z",
          "shell.execute_reply": "2021-12-22T00:10:35.644656Z",
          "shell.execute_reply.started": "2021-12-22T00:10:35.564455Z"
        },
        "colab": {
          "base_uri": "https://localhost:8080/"
        },
        "id": "ZZCca8vVEd27",
        "outputId": "eca23e42-48d3-4e3e-98e4-fd2fb90ee016"
      },
      "outputs": [
        {
          "output_type": "stream",
          "name": "stdout",
          "text": [
            "(4000000, 56) (1000000, 55)\n",
            "Cover_Type= 1  is : 1468136\n",
            "Cover_Type= 2  is : 2262087\n",
            "Cover_Type= 3  is : 195712\n",
            "Cover_Type= 4  is : 377\n",
            "Cover_Type= 5  is : 1\n",
            "Cover_Type= 6  is : 11426\n",
            "Cover_Type= 7  is : 62261\n"
          ]
        }
      ],
      "source": [
        "print(train.shape,test.shape)\n",
        "\n",
        "for r in range(7):\n",
        "    ct = (train['Cover_Type'] == r+1) \n",
        "    print('Cover_Type=',str(r+1),' is :',ct.sum())"
      ]
    },
    {
      "cell_type": "markdown",
      "metadata": {
        "id": "v5i6ux-oEd29"
      },
      "source": [
        "There is only one observation of Cover_Type='5', so I will drop it"
      ]
    },
    {
      "cell_type": "markdown",
      "metadata": {
        "id": "aPPfuOvVEd2-"
      },
      "source": [
        "**drop record Cover_Type='5'**"
      ]
    },
    {
      "cell_type": "code",
      "execution_count": null,
      "metadata": {
        "execution": {
          "iopub.execute_input": "2021-12-25T04:31:23.962978Z",
          "iopub.status.busy": "2021-12-25T04:31:23.962698Z",
          "iopub.status.idle": "2021-12-25T04:31:25.27904Z",
          "shell.execute_reply": "2021-12-25T04:31:25.277844Z",
          "shell.execute_reply.started": "2021-12-25T04:31:23.962946Z"
        },
        "colab": {
          "base_uri": "https://localhost:8080/"
        },
        "id": "xL52eRhiEd2_",
        "outputId": "adcab6c6-80ed-4fbe-cbcc-da5a764519be"
      },
      "outputs": [
        {
          "output_type": "stream",
          "name": "stdout",
          "text": [
            "(3999999, 56)\n"
          ]
        }
      ],
      "source": [
        "train.drop(train.index[train['Cover_Type'] == 5],inplace = True)\n",
        "print(train.shape)"
      ]
    },
    {
      "cell_type": "code",
      "execution_count": null,
      "metadata": {
        "execution": {
          "iopub.execute_input": "2021-12-22T14:56:34.68289Z",
          "iopub.status.busy": "2021-12-22T14:56:34.682127Z",
          "iopub.status.idle": "2021-12-22T14:56:39.679915Z",
          "shell.execute_reply": "2021-12-22T14:56:39.679022Z",
          "shell.execute_reply.started": "2021-12-22T14:56:34.682847Z"
        },
        "colab": {
          "base_uri": "https://localhost:8080/",
          "height": 1000
        },
        "id": "ddqUqDKmEd3A",
        "outputId": "33269381-e4fd-474d-bedc-ae5a41e34cc9"
      },
      "outputs": [
        {
          "output_type": "execute_result",
          "data": {
            "text/html": [
              "\n",
              "  <div id=\"df-14ba789f-af2c-4f0d-bca4-40a15215211a\">\n",
              "    <div class=\"colab-df-container\">\n",
              "      <div>\n",
              "<style scoped>\n",
              "    .dataframe tbody tr th:only-of-type {\n",
              "        vertical-align: middle;\n",
              "    }\n",
              "\n",
              "    .dataframe tbody tr th {\n",
              "        vertical-align: top;\n",
              "    }\n",
              "\n",
              "    .dataframe thead th {\n",
              "        text-align: right;\n",
              "    }\n",
              "</style>\n",
              "<table border=\"1\" class=\"dataframe\">\n",
              "  <thead>\n",
              "    <tr style=\"text-align: right;\">\n",
              "      <th></th>\n",
              "      <th>count</th>\n",
              "      <th>mean</th>\n",
              "      <th>std</th>\n",
              "      <th>min</th>\n",
              "      <th>25%</th>\n",
              "      <th>50%</th>\n",
              "      <th>75%</th>\n",
              "      <th>max</th>\n",
              "    </tr>\n",
              "  </thead>\n",
              "  <tbody>\n",
              "    <tr>\n",
              "      <th>Id</th>\n",
              "      <td>3999999.0</td>\n",
              "      <td>1.999999e+06</td>\n",
              "      <td>1.154701e+06</td>\n",
              "      <td>0.0</td>\n",
              "      <td>999999.5</td>\n",
              "      <td>1999999.0</td>\n",
              "      <td>2999998.5</td>\n",
              "      <td>3999999.0</td>\n",
              "    </tr>\n",
              "    <tr>\n",
              "      <th>Elevation</th>\n",
              "      <td>3999999.0</td>\n",
              "      <td>2.980192e+03</td>\n",
              "      <td>2.890482e+02</td>\n",
              "      <td>1773.0</td>\n",
              "      <td>2760.0</td>\n",
              "      <td>2966.0</td>\n",
              "      <td>3217.0</td>\n",
              "      <td>4383.0</td>\n",
              "    </tr>\n",
              "    <tr>\n",
              "      <th>Aspect</th>\n",
              "      <td>3999999.0</td>\n",
              "      <td>1.515857e+02</td>\n",
              "      <td>1.099611e+02</td>\n",
              "      <td>-33.0</td>\n",
              "      <td>60.0</td>\n",
              "      <td>123.0</td>\n",
              "      <td>247.0</td>\n",
              "      <td>407.0</td>\n",
              "    </tr>\n",
              "    <tr>\n",
              "      <th>Slope</th>\n",
              "      <td>3999999.0</td>\n",
              "      <td>1.509753e+01</td>\n",
              "      <td>8.546724e+00</td>\n",
              "      <td>-3.0</td>\n",
              "      <td>9.0</td>\n",
              "      <td>14.0</td>\n",
              "      <td>20.0</td>\n",
              "      <td>64.0</td>\n",
              "    </tr>\n",
              "    <tr>\n",
              "      <th>Horizontal_Distance_To_Hydrology</th>\n",
              "      <td>3999999.0</td>\n",
              "      <td>2.713155e+02</td>\n",
              "      <td>2.265497e+02</td>\n",
              "      <td>-92.0</td>\n",
              "      <td>110.0</td>\n",
              "      <td>213.0</td>\n",
              "      <td>361.0</td>\n",
              "      <td>1602.0</td>\n",
              "    </tr>\n",
              "    <tr>\n",
              "      <th>Vertical_Distance_To_Hydrology</th>\n",
              "      <td>3999999.0</td>\n",
              "      <td>5.166261e+01</td>\n",
              "      <td>6.821597e+01</td>\n",
              "      <td>-317.0</td>\n",
              "      <td>4.0</td>\n",
              "      <td>31.0</td>\n",
              "      <td>78.0</td>\n",
              "      <td>647.0</td>\n",
              "    </tr>\n",
              "    <tr>\n",
              "      <th>Horizontal_Distance_To_Roadways</th>\n",
              "      <td>3999999.0</td>\n",
              "      <td>1.766642e+03</td>\n",
              "      <td>1.315610e+03</td>\n",
              "      <td>-287.0</td>\n",
              "      <td>822.0</td>\n",
              "      <td>1436.0</td>\n",
              "      <td>2365.0</td>\n",
              "      <td>7666.0</td>\n",
              "    </tr>\n",
              "    <tr>\n",
              "      <th>Hillshade_9am</th>\n",
              "      <td>3999999.0</td>\n",
              "      <td>2.118375e+02</td>\n",
              "      <td>3.075996e+01</td>\n",
              "      <td>-4.0</td>\n",
              "      <td>198.0</td>\n",
              "      <td>218.0</td>\n",
              "      <td>233.0</td>\n",
              "      <td>301.0</td>\n",
              "    </tr>\n",
              "    <tr>\n",
              "      <th>Hillshade_Noon</th>\n",
              "      <td>3999999.0</td>\n",
              "      <td>2.210614e+02</td>\n",
              "      <td>2.223134e+01</td>\n",
              "      <td>49.0</td>\n",
              "      <td>210.0</td>\n",
              "      <td>224.0</td>\n",
              "      <td>237.0</td>\n",
              "      <td>279.0</td>\n",
              "    </tr>\n",
              "    <tr>\n",
              "      <th>Hillshade_3pm</th>\n",
              "      <td>3999999.0</td>\n",
              "      <td>1.408109e+02</td>\n",
              "      <td>4.369864e+01</td>\n",
              "      <td>-53.0</td>\n",
              "      <td>115.0</td>\n",
              "      <td>142.0</td>\n",
              "      <td>169.0</td>\n",
              "      <td>272.0</td>\n",
              "    </tr>\n",
              "    <tr>\n",
              "      <th>Horizontal_Distance_To_Fire_Points</th>\n",
              "      <td>3999999.0</td>\n",
              "      <td>1.581405e+03</td>\n",
              "      <td>1.127612e+03</td>\n",
              "      <td>-277.0</td>\n",
              "      <td>781.0</td>\n",
              "      <td>1361.0</td>\n",
              "      <td>2084.0</td>\n",
              "      <td>8075.0</td>\n",
              "    </tr>\n",
              "    <tr>\n",
              "      <th>Wilderness_Area1</th>\n",
              "      <td>3999999.0</td>\n",
              "      <td>2.611931e-01</td>\n",
              "      <td>4.392850e-01</td>\n",
              "      <td>0.0</td>\n",
              "      <td>0.0</td>\n",
              "      <td>0.0</td>\n",
              "      <td>1.0</td>\n",
              "      <td>1.0</td>\n",
              "    </tr>\n",
              "    <tr>\n",
              "      <th>Wilderness_Area2</th>\n",
              "      <td>3999999.0</td>\n",
              "      <td>4.166101e-02</td>\n",
              "      <td>1.998134e-01</td>\n",
              "      <td>0.0</td>\n",
              "      <td>0.0</td>\n",
              "      <td>0.0</td>\n",
              "      <td>0.0</td>\n",
              "      <td>1.0</td>\n",
              "    </tr>\n",
              "    <tr>\n",
              "      <th>Wilderness_Area3</th>\n",
              "      <td>3999999.0</td>\n",
              "      <td>6.535732e-01</td>\n",
              "      <td>4.758312e-01</td>\n",
              "      <td>0.0</td>\n",
              "      <td>0.0</td>\n",
              "      <td>1.0</td>\n",
              "      <td>1.0</td>\n",
              "      <td>1.0</td>\n",
              "    </tr>\n",
              "    <tr>\n",
              "      <th>Wilderness_Area4</th>\n",
              "      <td>3999999.0</td>\n",
              "      <td>2.181901e-02</td>\n",
              "      <td>1.460922e-01</td>\n",
              "      <td>0.0</td>\n",
              "      <td>0.0</td>\n",
              "      <td>0.0</td>\n",
              "      <td>0.0</td>\n",
              "      <td>1.0</td>\n",
              "    </tr>\n",
              "    <tr>\n",
              "      <th>Soil_Type1</th>\n",
              "      <td>3999999.0</td>\n",
              "      <td>1.684150e-02</td>\n",
              "      <td>1.286774e-01</td>\n",
              "      <td>0.0</td>\n",
              "      <td>0.0</td>\n",
              "      <td>0.0</td>\n",
              "      <td>0.0</td>\n",
              "      <td>1.0</td>\n",
              "    </tr>\n",
              "    <tr>\n",
              "      <th>Soil_Type2</th>\n",
              "      <td>3999999.0</td>\n",
              "      <td>3.089601e-02</td>\n",
              "      <td>1.730360e-01</td>\n",
              "      <td>0.0</td>\n",
              "      <td>0.0</td>\n",
              "      <td>0.0</td>\n",
              "      <td>0.0</td>\n",
              "      <td>1.0</td>\n",
              "    </tr>\n",
              "    <tr>\n",
              "      <th>Soil_Type3</th>\n",
              "      <td>3999999.0</td>\n",
              "      <td>4.275501e-03</td>\n",
              "      <td>6.524739e-02</td>\n",
              "      <td>0.0</td>\n",
              "      <td>0.0</td>\n",
              "      <td>0.0</td>\n",
              "      <td>0.0</td>\n",
              "      <td>1.0</td>\n",
              "    </tr>\n",
              "    <tr>\n",
              "      <th>Soil_Type4</th>\n",
              "      <td>3999999.0</td>\n",
              "      <td>3.791251e-02</td>\n",
              "      <td>1.909847e-01</td>\n",
              "      <td>0.0</td>\n",
              "      <td>0.0</td>\n",
              "      <td>0.0</td>\n",
              "      <td>0.0</td>\n",
              "      <td>1.0</td>\n",
              "    </tr>\n",
              "    <tr>\n",
              "      <th>Soil_Type5</th>\n",
              "      <td>3999999.0</td>\n",
              "      <td>1.571525e-02</td>\n",
              "      <td>1.243716e-01</td>\n",
              "      <td>0.0</td>\n",
              "      <td>0.0</td>\n",
              "      <td>0.0</td>\n",
              "      <td>0.0</td>\n",
              "      <td>1.0</td>\n",
              "    </tr>\n",
              "    <tr>\n",
              "      <th>Soil_Type6</th>\n",
              "      <td>3999999.0</td>\n",
              "      <td>7.972752e-03</td>\n",
              "      <td>8.893362e-02</td>\n",
              "      <td>0.0</td>\n",
              "      <td>0.0</td>\n",
              "      <td>0.0</td>\n",
              "      <td>0.0</td>\n",
              "      <td>1.0</td>\n",
              "    </tr>\n",
              "    <tr>\n",
              "      <th>Soil_Type7</th>\n",
              "      <td>3999999.0</td>\n",
              "      <td>0.000000e+00</td>\n",
              "      <td>0.000000e+00</td>\n",
              "      <td>0.0</td>\n",
              "      <td>0.0</td>\n",
              "      <td>0.0</td>\n",
              "      <td>0.0</td>\n",
              "      <td>0.0</td>\n",
              "    </tr>\n",
              "    <tr>\n",
              "      <th>Soil_Type8</th>\n",
              "      <td>3999999.0</td>\n",
              "      <td>2.899751e-03</td>\n",
              "      <td>5.377121e-02</td>\n",
              "      <td>0.0</td>\n",
              "      <td>0.0</td>\n",
              "      <td>0.0</td>\n",
              "      <td>0.0</td>\n",
              "      <td>1.0</td>\n",
              "    </tr>\n",
              "    <tr>\n",
              "      <th>Soil_Type9</th>\n",
              "      <td>3999999.0</td>\n",
              "      <td>1.089300e-02</td>\n",
              "      <td>1.037996e-01</td>\n",
              "      <td>0.0</td>\n",
              "      <td>0.0</td>\n",
              "      <td>0.0</td>\n",
              "      <td>0.0</td>\n",
              "      <td>1.0</td>\n",
              "    </tr>\n",
              "    <tr>\n",
              "      <th>Soil_Type10</th>\n",
              "      <td>3999999.0</td>\n",
              "      <td>5.454076e-02</td>\n",
              "      <td>2.270817e-01</td>\n",
              "      <td>0.0</td>\n",
              "      <td>0.0</td>\n",
              "      <td>0.0</td>\n",
              "      <td>0.0</td>\n",
              "      <td>1.0</td>\n",
              "    </tr>\n",
              "    <tr>\n",
              "      <th>Soil_Type11</th>\n",
              "      <td>3999999.0</td>\n",
              "      <td>2.798526e-02</td>\n",
              "      <td>1.649306e-01</td>\n",
              "      <td>0.0</td>\n",
              "      <td>0.0</td>\n",
              "      <td>0.0</td>\n",
              "      <td>0.0</td>\n",
              "      <td>1.0</td>\n",
              "    </tr>\n",
              "    <tr>\n",
              "      <th>Soil_Type12</th>\n",
              "      <td>3999999.0</td>\n",
              "      <td>1.829000e-02</td>\n",
              "      <td>1.339981e-01</td>\n",
              "      <td>0.0</td>\n",
              "      <td>0.0</td>\n",
              "      <td>0.0</td>\n",
              "      <td>0.0</td>\n",
              "      <td>1.0</td>\n",
              "    </tr>\n",
              "    <tr>\n",
              "      <th>Soil_Type13</th>\n",
              "      <td>3999999.0</td>\n",
              "      <td>3.129526e-02</td>\n",
              "      <td>1.741145e-01</td>\n",
              "      <td>0.0</td>\n",
              "      <td>0.0</td>\n",
              "      <td>0.0</td>\n",
              "      <td>0.0</td>\n",
              "      <td>1.0</td>\n",
              "    </tr>\n",
              "    <tr>\n",
              "      <th>Soil_Type14</th>\n",
              "      <td>3999999.0</td>\n",
              "      <td>1.497650e-02</td>\n",
              "      <td>1.214587e-01</td>\n",
              "      <td>0.0</td>\n",
              "      <td>0.0</td>\n",
              "      <td>0.0</td>\n",
              "      <td>0.0</td>\n",
              "      <td>1.0</td>\n",
              "    </tr>\n",
              "    <tr>\n",
              "      <th>Soil_Type15</th>\n",
              "      <td>3999999.0</td>\n",
              "      <td>0.000000e+00</td>\n",
              "      <td>0.000000e+00</td>\n",
              "      <td>0.0</td>\n",
              "      <td>0.0</td>\n",
              "      <td>0.0</td>\n",
              "      <td>0.0</td>\n",
              "      <td>0.0</td>\n",
              "    </tr>\n",
              "    <tr>\n",
              "      <th>Soil_Type16</th>\n",
              "      <td>3999999.0</td>\n",
              "      <td>1.588850e-02</td>\n",
              "      <td>1.250442e-01</td>\n",
              "      <td>0.0</td>\n",
              "      <td>0.0</td>\n",
              "      <td>0.0</td>\n",
              "      <td>0.0</td>\n",
              "      <td>1.0</td>\n",
              "    </tr>\n",
              "    <tr>\n",
              "      <th>Soil_Type17</th>\n",
              "      <td>3999999.0</td>\n",
              "      <td>2.067176e-02</td>\n",
              "      <td>1.422830e-01</td>\n",
              "      <td>0.0</td>\n",
              "      <td>0.0</td>\n",
              "      <td>0.0</td>\n",
              "      <td>0.0</td>\n",
              "      <td>1.0</td>\n",
              "    </tr>\n",
              "    <tr>\n",
              "      <th>Soil_Type18</th>\n",
              "      <td>3999999.0</td>\n",
              "      <td>1.343625e-02</td>\n",
              "      <td>1.151335e-01</td>\n",
              "      <td>0.0</td>\n",
              "      <td>0.0</td>\n",
              "      <td>0.0</td>\n",
              "      <td>0.0</td>\n",
              "      <td>1.0</td>\n",
              "    </tr>\n",
              "    <tr>\n",
              "      <th>Soil_Type19</th>\n",
              "      <td>3999999.0</td>\n",
              "      <td>1.381125e-02</td>\n",
              "      <td>1.167069e-01</td>\n",
              "      <td>0.0</td>\n",
              "      <td>0.0</td>\n",
              "      <td>0.0</td>\n",
              "      <td>0.0</td>\n",
              "      <td>1.0</td>\n",
              "    </tr>\n",
              "    <tr>\n",
              "      <th>Soil_Type20</th>\n",
              "      <td>3999999.0</td>\n",
              "      <td>1.736800e-02</td>\n",
              "      <td>1.306383e-01</td>\n",
              "      <td>0.0</td>\n",
              "      <td>0.0</td>\n",
              "      <td>0.0</td>\n",
              "      <td>0.0</td>\n",
              "      <td>1.0</td>\n",
              "    </tr>\n",
              "    <tr>\n",
              "      <th>Soil_Type21</th>\n",
              "      <td>3999999.0</td>\n",
              "      <td>1.153900e-02</td>\n",
              "      <td>1.067982e-01</td>\n",
              "      <td>0.0</td>\n",
              "      <td>0.0</td>\n",
              "      <td>0.0</td>\n",
              "      <td>0.0</td>\n",
              "      <td>1.0</td>\n",
              "    </tr>\n",
              "    <tr>\n",
              "      <th>Soil_Type22</th>\n",
              "      <td>3999999.0</td>\n",
              "      <td>3.134601e-02</td>\n",
              "      <td>1.742511e-01</td>\n",
              "      <td>0.0</td>\n",
              "      <td>0.0</td>\n",
              "      <td>0.0</td>\n",
              "      <td>0.0</td>\n",
              "      <td>1.0</td>\n",
              "    </tr>\n",
              "    <tr>\n",
              "      <th>Soil_Type23</th>\n",
              "      <td>3999999.0</td>\n",
              "      <td>4.917076e-02</td>\n",
              "      <td>2.162244e-01</td>\n",
              "      <td>0.0</td>\n",
              "      <td>0.0</td>\n",
              "      <td>0.0</td>\n",
              "      <td>0.0</td>\n",
              "      <td>1.0</td>\n",
              "    </tr>\n",
              "    <tr>\n",
              "      <th>Soil_Type24</th>\n",
              "      <td>3999999.0</td>\n",
              "      <td>2.502176e-02</td>\n",
              "      <td>1.561911e-01</td>\n",
              "      <td>0.0</td>\n",
              "      <td>0.0</td>\n",
              "      <td>0.0</td>\n",
              "      <td>0.0</td>\n",
              "      <td>1.0</td>\n",
              "    </tr>\n",
              "    <tr>\n",
              "      <th>Soil_Type25</th>\n",
              "      <td>3999999.0</td>\n",
              "      <td>3.258251e-03</td>\n",
              "      <td>5.698803e-02</td>\n",
              "      <td>0.0</td>\n",
              "      <td>0.0</td>\n",
              "      <td>0.0</td>\n",
              "      <td>0.0</td>\n",
              "      <td>1.0</td>\n",
              "    </tr>\n",
              "    <tr>\n",
              "      <th>Soil_Type26</th>\n",
              "      <td>3999999.0</td>\n",
              "      <td>1.352700e-02</td>\n",
              "      <td>1.155163e-01</td>\n",
              "      <td>0.0</td>\n",
              "      <td>0.0</td>\n",
              "      <td>0.0</td>\n",
              "      <td>0.0</td>\n",
              "      <td>1.0</td>\n",
              "    </tr>\n",
              "    <tr>\n",
              "      <th>Soil_Type27</th>\n",
              "      <td>3999999.0</td>\n",
              "      <td>1.176575e-02</td>\n",
              "      <td>1.078301e-01</td>\n",
              "      <td>0.0</td>\n",
              "      <td>0.0</td>\n",
              "      <td>0.0</td>\n",
              "      <td>0.0</td>\n",
              "      <td>1.0</td>\n",
              "    </tr>\n",
              "    <tr>\n",
              "      <th>Soil_Type28</th>\n",
              "      <td>3999999.0</td>\n",
              "      <td>1.070775e-02</td>\n",
              "      <td>1.029228e-01</td>\n",
              "      <td>0.0</td>\n",
              "      <td>0.0</td>\n",
              "      <td>0.0</td>\n",
              "      <td>0.0</td>\n",
              "      <td>1.0</td>\n",
              "    </tr>\n",
              "    <tr>\n",
              "      <th>Soil_Type29</th>\n",
              "      <td>3999999.0</td>\n",
              "      <td>2.227351e-02</td>\n",
              "      <td>1.475717e-01</td>\n",
              "      <td>0.0</td>\n",
              "      <td>0.0</td>\n",
              "      <td>0.0</td>\n",
              "      <td>0.0</td>\n",
              "      <td>1.0</td>\n",
              "    </tr>\n",
              "    <tr>\n",
              "      <th>Soil_Type30</th>\n",
              "      <td>3999999.0</td>\n",
              "      <td>2.886701e-02</td>\n",
              "      <td>1.674327e-01</td>\n",
              "      <td>0.0</td>\n",
              "      <td>0.0</td>\n",
              "      <td>0.0</td>\n",
              "      <td>0.0</td>\n",
              "      <td>1.0</td>\n",
              "    </tr>\n",
              "    <tr>\n",
              "      <th>Soil_Type31</th>\n",
              "      <td>3999999.0</td>\n",
              "      <td>2.749326e-02</td>\n",
              "      <td>1.635157e-01</td>\n",
              "      <td>0.0</td>\n",
              "      <td>0.0</td>\n",
              "      <td>0.0</td>\n",
              "      <td>0.0</td>\n",
              "      <td>1.0</td>\n",
              "    </tr>\n",
              "    <tr>\n",
              "      <th>Soil_Type32</th>\n",
              "      <td>3999999.0</td>\n",
              "      <td>3.746201e-02</td>\n",
              "      <td>1.898911e-01</td>\n",
              "      <td>0.0</td>\n",
              "      <td>0.0</td>\n",
              "      <td>0.0</td>\n",
              "      <td>0.0</td>\n",
              "      <td>1.0</td>\n",
              "    </tr>\n",
              "    <tr>\n",
              "      <th>Soil_Type33</th>\n",
              "      <td>3999999.0</td>\n",
              "      <td>3.782076e-02</td>\n",
              "      <td>1.907626e-01</td>\n",
              "      <td>0.0</td>\n",
              "      <td>0.0</td>\n",
              "      <td>0.0</td>\n",
              "      <td>0.0</td>\n",
              "      <td>1.0</td>\n",
              "    </tr>\n",
              "    <tr>\n",
              "      <th>Soil_Type34</th>\n",
              "      <td>3999999.0</td>\n",
              "      <td>1.199500e-02</td>\n",
              "      <td>1.088629e-01</td>\n",
              "      <td>0.0</td>\n",
              "      <td>0.0</td>\n",
              "      <td>0.0</td>\n",
              "      <td>0.0</td>\n",
              "      <td>1.0</td>\n",
              "    </tr>\n",
              "    <tr>\n",
              "      <th>Soil_Type35</th>\n",
              "      <td>3999999.0</td>\n",
              "      <td>1.605350e-02</td>\n",
              "      <td>1.256813e-01</td>\n",
              "      <td>0.0</td>\n",
              "      <td>0.0</td>\n",
              "      <td>0.0</td>\n",
              "      <td>0.0</td>\n",
              "      <td>1.0</td>\n",
              "    </tr>\n",
              "    <tr>\n",
              "      <th>Soil_Type36</th>\n",
              "      <td>3999999.0</td>\n",
              "      <td>1.071275e-02</td>\n",
              "      <td>1.029466e-01</td>\n",
              "      <td>0.0</td>\n",
              "      <td>0.0</td>\n",
              "      <td>0.0</td>\n",
              "      <td>0.0</td>\n",
              "      <td>1.0</td>\n",
              "    </tr>\n",
              "    <tr>\n",
              "      <th>Soil_Type37</th>\n",
              "      <td>3999999.0</td>\n",
              "      <td>1.220750e-02</td>\n",
              "      <td>1.098111e-01</td>\n",
              "      <td>0.0</td>\n",
              "      <td>0.0</td>\n",
              "      <td>0.0</td>\n",
              "      <td>0.0</td>\n",
              "      <td>1.0</td>\n",
              "    </tr>\n",
              "    <tr>\n",
              "      <th>Soil_Type38</th>\n",
              "      <td>3999999.0</td>\n",
              "      <td>4.075151e-02</td>\n",
              "      <td>1.977140e-01</td>\n",
              "      <td>0.0</td>\n",
              "      <td>0.0</td>\n",
              "      <td>0.0</td>\n",
              "      <td>0.0</td>\n",
              "      <td>1.0</td>\n",
              "    </tr>\n",
              "    <tr>\n",
              "      <th>Soil_Type39</th>\n",
              "      <td>3999999.0</td>\n",
              "      <td>3.923926e-02</td>\n",
              "      <td>1.941637e-01</td>\n",
              "      <td>0.0</td>\n",
              "      <td>0.0</td>\n",
              "      <td>0.0</td>\n",
              "      <td>0.0</td>\n",
              "      <td>1.0</td>\n",
              "    </tr>\n",
              "    <tr>\n",
              "      <th>Soil_Type40</th>\n",
              "      <td>3999999.0</td>\n",
              "      <td>3.161851e-02</td>\n",
              "      <td>1.749822e-01</td>\n",
              "      <td>0.0</td>\n",
              "      <td>0.0</td>\n",
              "      <td>0.0</td>\n",
              "      <td>0.0</td>\n",
              "      <td>1.0</td>\n",
              "    </tr>\n",
              "    <tr>\n",
              "      <th>Cover_Type</th>\n",
              "      <td>3999999.0</td>\n",
              "      <td>1.771335e+00</td>\n",
              "      <td>8.938047e-01</td>\n",
              "      <td>1.0</td>\n",
              "      <td>1.0</td>\n",
              "      <td>2.0</td>\n",
              "      <td>2.0</td>\n",
              "      <td>7.0</td>\n",
              "    </tr>\n",
              "  </tbody>\n",
              "</table>\n",
              "</div>\n",
              "      <button class=\"colab-df-convert\" onclick=\"convertToInteractive('df-14ba789f-af2c-4f0d-bca4-40a15215211a')\"\n",
              "              title=\"Convert this dataframe to an interactive table.\"\n",
              "              style=\"display:none;\">\n",
              "        \n",
              "  <svg xmlns=\"http://www.w3.org/2000/svg\" height=\"24px\"viewBox=\"0 0 24 24\"\n",
              "       width=\"24px\">\n",
              "    <path d=\"M0 0h24v24H0V0z\" fill=\"none\"/>\n",
              "    <path d=\"M18.56 5.44l.94 2.06.94-2.06 2.06-.94-2.06-.94-.94-2.06-.94 2.06-2.06.94zm-11 1L8.5 8.5l.94-2.06 2.06-.94-2.06-.94L8.5 2.5l-.94 2.06-2.06.94zm10 10l.94 2.06.94-2.06 2.06-.94-2.06-.94-.94-2.06-.94 2.06-2.06.94z\"/><path d=\"M17.41 7.96l-1.37-1.37c-.4-.4-.92-.59-1.43-.59-.52 0-1.04.2-1.43.59L10.3 9.45l-7.72 7.72c-.78.78-.78 2.05 0 2.83L4 21.41c.39.39.9.59 1.41.59.51 0 1.02-.2 1.41-.59l7.78-7.78 2.81-2.81c.8-.78.8-2.07 0-2.86zM5.41 20L4 18.59l7.72-7.72 1.47 1.35L5.41 20z\"/>\n",
              "  </svg>\n",
              "      </button>\n",
              "      \n",
              "  <style>\n",
              "    .colab-df-container {\n",
              "      display:flex;\n",
              "      flex-wrap:wrap;\n",
              "      gap: 12px;\n",
              "    }\n",
              "\n",
              "    .colab-df-convert {\n",
              "      background-color: #E8F0FE;\n",
              "      border: none;\n",
              "      border-radius: 50%;\n",
              "      cursor: pointer;\n",
              "      display: none;\n",
              "      fill: #1967D2;\n",
              "      height: 32px;\n",
              "      padding: 0 0 0 0;\n",
              "      width: 32px;\n",
              "    }\n",
              "\n",
              "    .colab-df-convert:hover {\n",
              "      background-color: #E2EBFA;\n",
              "      box-shadow: 0px 1px 2px rgba(60, 64, 67, 0.3), 0px 1px 3px 1px rgba(60, 64, 67, 0.15);\n",
              "      fill: #174EA6;\n",
              "    }\n",
              "\n",
              "    [theme=dark] .colab-df-convert {\n",
              "      background-color: #3B4455;\n",
              "      fill: #D2E3FC;\n",
              "    }\n",
              "\n",
              "    [theme=dark] .colab-df-convert:hover {\n",
              "      background-color: #434B5C;\n",
              "      box-shadow: 0px 1px 3px 1px rgba(0, 0, 0, 0.15);\n",
              "      filter: drop-shadow(0px 1px 2px rgba(0, 0, 0, 0.3));\n",
              "      fill: #FFFFFF;\n",
              "    }\n",
              "  </style>\n",
              "\n",
              "      <script>\n",
              "        const buttonEl =\n",
              "          document.querySelector('#df-14ba789f-af2c-4f0d-bca4-40a15215211a button.colab-df-convert');\n",
              "        buttonEl.style.display =\n",
              "          google.colab.kernel.accessAllowed ? 'block' : 'none';\n",
              "\n",
              "        async function convertToInteractive(key) {\n",
              "          const element = document.querySelector('#df-14ba789f-af2c-4f0d-bca4-40a15215211a');\n",
              "          const dataTable =\n",
              "            await google.colab.kernel.invokeFunction('convertToInteractive',\n",
              "                                                     [key], {});\n",
              "          if (!dataTable) return;\n",
              "\n",
              "          const docLinkHtml = 'Like what you see? Visit the ' +\n",
              "            '<a target=\"_blank\" href=https://colab.research.google.com/notebooks/data_table.ipynb>data table notebook</a>'\n",
              "            + ' to learn more about interactive tables.';\n",
              "          element.innerHTML = '';\n",
              "          dataTable['output_type'] = 'display_data';\n",
              "          await google.colab.output.renderOutput(dataTable, element);\n",
              "          const docLink = document.createElement('div');\n",
              "          docLink.innerHTML = docLinkHtml;\n",
              "          element.appendChild(docLink);\n",
              "        }\n",
              "      </script>\n",
              "    </div>\n",
              "  </div>\n",
              "  "
            ],
            "text/plain": [
              "                                        count  ...        max\n",
              "Id                                  3999999.0  ...  3999999.0\n",
              "Elevation                           3999999.0  ...     4383.0\n",
              "Aspect                              3999999.0  ...      407.0\n",
              "Slope                               3999999.0  ...       64.0\n",
              "Horizontal_Distance_To_Hydrology    3999999.0  ...     1602.0\n",
              "Vertical_Distance_To_Hydrology      3999999.0  ...      647.0\n",
              "Horizontal_Distance_To_Roadways     3999999.0  ...     7666.0\n",
              "Hillshade_9am                       3999999.0  ...      301.0\n",
              "Hillshade_Noon                      3999999.0  ...      279.0\n",
              "Hillshade_3pm                       3999999.0  ...      272.0\n",
              "Horizontal_Distance_To_Fire_Points  3999999.0  ...     8075.0\n",
              "Wilderness_Area1                    3999999.0  ...        1.0\n",
              "Wilderness_Area2                    3999999.0  ...        1.0\n",
              "Wilderness_Area3                    3999999.0  ...        1.0\n",
              "Wilderness_Area4                    3999999.0  ...        1.0\n",
              "Soil_Type1                          3999999.0  ...        1.0\n",
              "Soil_Type2                          3999999.0  ...        1.0\n",
              "Soil_Type3                          3999999.0  ...        1.0\n",
              "Soil_Type4                          3999999.0  ...        1.0\n",
              "Soil_Type5                          3999999.0  ...        1.0\n",
              "Soil_Type6                          3999999.0  ...        1.0\n",
              "Soil_Type7                          3999999.0  ...        0.0\n",
              "Soil_Type8                          3999999.0  ...        1.0\n",
              "Soil_Type9                          3999999.0  ...        1.0\n",
              "Soil_Type10                         3999999.0  ...        1.0\n",
              "Soil_Type11                         3999999.0  ...        1.0\n",
              "Soil_Type12                         3999999.0  ...        1.0\n",
              "Soil_Type13                         3999999.0  ...        1.0\n",
              "Soil_Type14                         3999999.0  ...        1.0\n",
              "Soil_Type15                         3999999.0  ...        0.0\n",
              "Soil_Type16                         3999999.0  ...        1.0\n",
              "Soil_Type17                         3999999.0  ...        1.0\n",
              "Soil_Type18                         3999999.0  ...        1.0\n",
              "Soil_Type19                         3999999.0  ...        1.0\n",
              "Soil_Type20                         3999999.0  ...        1.0\n",
              "Soil_Type21                         3999999.0  ...        1.0\n",
              "Soil_Type22                         3999999.0  ...        1.0\n",
              "Soil_Type23                         3999999.0  ...        1.0\n",
              "Soil_Type24                         3999999.0  ...        1.0\n",
              "Soil_Type25                         3999999.0  ...        1.0\n",
              "Soil_Type26                         3999999.0  ...        1.0\n",
              "Soil_Type27                         3999999.0  ...        1.0\n",
              "Soil_Type28                         3999999.0  ...        1.0\n",
              "Soil_Type29                         3999999.0  ...        1.0\n",
              "Soil_Type30                         3999999.0  ...        1.0\n",
              "Soil_Type31                         3999999.0  ...        1.0\n",
              "Soil_Type32                         3999999.0  ...        1.0\n",
              "Soil_Type33                         3999999.0  ...        1.0\n",
              "Soil_Type34                         3999999.0  ...        1.0\n",
              "Soil_Type35                         3999999.0  ...        1.0\n",
              "Soil_Type36                         3999999.0  ...        1.0\n",
              "Soil_Type37                         3999999.0  ...        1.0\n",
              "Soil_Type38                         3999999.0  ...        1.0\n",
              "Soil_Type39                         3999999.0  ...        1.0\n",
              "Soil_Type40                         3999999.0  ...        1.0\n",
              "Cover_Type                          3999999.0  ...        7.0\n",
              "\n",
              "[56 rows x 8 columns]"
            ]
          },
          "metadata": {},
          "execution_count": 110
        }
      ],
      "source": [
        "train.describe().T"
      ]
    },
    {
      "cell_type": "code",
      "source": [
        "train[train.Horizontal_Distance_To_Hydrology<0].shape[0]"
      ],
      "metadata": {
        "colab": {
          "base_uri": "https://localhost:8080/"
        },
        "id": "7RbNC5z7FbgG",
        "outputId": "1bf1b310-7cff-4382-f3a5-ee3f2a07c914"
      },
      "execution_count": null,
      "outputs": [
        {
          "output_type": "execute_result",
          "data": {
            "text/plain": [
              "2959"
            ]
          },
          "metadata": {},
          "execution_count": 111
        }
      ]
    },
    {
      "cell_type": "code",
      "source": [
        "train[train.Vertical_Distance_To_Hydrology<0].shape[0]"
      ],
      "metadata": {
        "colab": {
          "base_uri": "https://localhost:8080/"
        },
        "id": "ExEnayzcFmUj",
        "outputId": "bd6bb0ef-1a3f-40df-d2c1-89baefeb0f7f"
      },
      "execution_count": null,
      "outputs": [
        {
          "output_type": "execute_result",
          "data": {
            "text/plain": [
              "567497"
            ]
          },
          "metadata": {},
          "execution_count": 112
        }
      ]
    },
    {
      "cell_type": "code",
      "source": [
        "train[train.Horizontal_Distance_To_Roadways<0].shape[0]"
      ],
      "metadata": {
        "colab": {
          "base_uri": "https://localhost:8080/"
        },
        "id": "8_S8f-ZRFrMg",
        "outputId": "b34777e1-0ec6-46a1-8567-2829d8dc2383"
      },
      "execution_count": null,
      "outputs": [
        {
          "output_type": "execute_result",
          "data": {
            "text/plain": [
              "30726"
            ]
          },
          "metadata": {},
          "execution_count": 113
        }
      ]
    },
    {
      "cell_type": "code",
      "source": [
        "train[train.Horizontal_Distance_To_Fire_Points<0].shape[0]"
      ],
      "metadata": {
        "colab": {
          "base_uri": "https://localhost:8080/"
        },
        "id": "TOOgg8-6Ft1Y",
        "outputId": "f08fc96c-ecaf-4ae4-e00b-8acea3aad775"
      },
      "execution_count": null,
      "outputs": [
        {
          "output_type": "execute_result",
          "data": {
            "text/plain": [
              "25717"
            ]
          },
          "metadata": {},
          "execution_count": 114
        }
      ]
    },
    {
      "cell_type": "markdown",
      "metadata": {
        "id": "EO10hTpbEd3C"
      },
      "source": [
        "i will drop colums 'Soil_Type7' and 'Soil_Type15' because they have only '0'"
      ]
    },
    {
      "cell_type": "code",
      "execution_count": null,
      "metadata": {
        "execution": {
          "iopub.execute_input": "2021-12-25T04:31:25.282097Z",
          "iopub.status.busy": "2021-12-25T04:31:25.281695Z",
          "iopub.status.idle": "2021-12-25T04:31:26.346596Z",
          "shell.execute_reply": "2021-12-25T04:31:26.345487Z",
          "shell.execute_reply.started": "2021-12-25T04:31:25.282049Z"
        },
        "colab": {
          "base_uri": "https://localhost:8080/"
        },
        "id": "3dCcktZmEd3C",
        "outputId": "5207864a-8515-466e-b50f-4cb3cac2cbdc"
      },
      "outputs": [
        {
          "output_type": "stream",
          "name": "stdout",
          "text": [
            "(3999999, 54) (1000000, 53)\n"
          ]
        }
      ],
      "source": [
        "train.drop(['Soil_Type7','Soil_Type15'],axis = 1,inplace = True)\n",
        "test.drop(['Soil_Type7','Soil_Type15'],axis = 1,inplace = True)\n",
        "print(train.shape,test.shape)"
      ]
    },
    {
      "cell_type": "markdown",
      "source": [
        "Test Multi-collinearity"
      ],
      "metadata": {
        "id": "h1TjSIMB4E_B"
      }
    },
    {
      "cell_type": "code",
      "source": [
        "vif_X=train.drop(['Id','Cover_Type'],axis = 1)"
      ],
      "metadata": {
        "id": "Qa5RY6Cr4ewr"
      },
      "execution_count": null,
      "outputs": []
    },
    {
      "cell_type": "code",
      "source": [
        "vif_data = pd.DataFrame()\n",
        "vif_data[\"feature\"] = vif_X.columns\n",
        "  \n",
        "# calculating VIF for each feature\n",
        "vif_data[\"VIF\"] = [variance_inflation_factor(vif_X.values, i)\n",
        "                          for i in range(len(vif_X.columns))]"
      ],
      "metadata": {
        "id": "vcPfA6rP4EiN"
      },
      "execution_count": null,
      "outputs": []
    },
    {
      "cell_type": "code",
      "source": [
        "vif_data"
      ],
      "metadata": {
        "colab": {
          "base_uri": "https://localhost:8080/",
          "height": 1000
        },
        "id": "d8uOgQ905MEz",
        "outputId": "96e8f2d6-285b-4e0f-cc94-3fd494f17f3f"
      },
      "execution_count": null,
      "outputs": [
        {
          "output_type": "execute_result",
          "data": {
            "text/html": [
              "\n",
              "  <div id=\"df-83c1f676-946b-4981-8047-2f01c74107c5\">\n",
              "    <div class=\"colab-df-container\">\n",
              "      <div>\n",
              "<style scoped>\n",
              "    .dataframe tbody tr th:only-of-type {\n",
              "        vertical-align: middle;\n",
              "    }\n",
              "\n",
              "    .dataframe tbody tr th {\n",
              "        vertical-align: top;\n",
              "    }\n",
              "\n",
              "    .dataframe thead th {\n",
              "        text-align: right;\n",
              "    }\n",
              "</style>\n",
              "<table border=\"1\" class=\"dataframe\">\n",
              "  <thead>\n",
              "    <tr style=\"text-align: right;\">\n",
              "      <th></th>\n",
              "      <th>feature</th>\n",
              "      <th>VIF</th>\n",
              "    </tr>\n",
              "  </thead>\n",
              "  <tbody>\n",
              "    <tr>\n",
              "      <th>0</th>\n",
              "      <td>Elevation</td>\n",
              "      <td>76.735547</td>\n",
              "    </tr>\n",
              "    <tr>\n",
              "      <th>1</th>\n",
              "      <td>Aspect</td>\n",
              "      <td>2.897346</td>\n",
              "    </tr>\n",
              "    <tr>\n",
              "      <th>2</th>\n",
              "      <td>Slope</td>\n",
              "      <td>4.095981</td>\n",
              "    </tr>\n",
              "    <tr>\n",
              "      <th>3</th>\n",
              "      <td>Horizontal_Distance_To_Hydrology</td>\n",
              "      <td>2.433372</td>\n",
              "    </tr>\n",
              "    <tr>\n",
              "      <th>4</th>\n",
              "      <td>Vertical_Distance_To_Hydrology</td>\n",
              "      <td>1.576142</td>\n",
              "    </tr>\n",
              "    <tr>\n",
              "      <th>5</th>\n",
              "      <td>Horizontal_Distance_To_Roadways</td>\n",
              "      <td>2.915287</td>\n",
              "    </tr>\n",
              "    <tr>\n",
              "      <th>6</th>\n",
              "      <td>Hillshade_9am</td>\n",
              "      <td>40.829074</td>\n",
              "    </tr>\n",
              "    <tr>\n",
              "      <th>7</th>\n",
              "      <td>Hillshade_Noon</td>\n",
              "      <td>68.627716</td>\n",
              "    </tr>\n",
              "    <tr>\n",
              "      <th>8</th>\n",
              "      <td>Hillshade_3pm</td>\n",
              "      <td>11.100936</td>\n",
              "    </tr>\n",
              "    <tr>\n",
              "      <th>9</th>\n",
              "      <td>Horizontal_Distance_To_Fire_Points</td>\n",
              "      <td>3.047927</td>\n",
              "    </tr>\n",
              "    <tr>\n",
              "      <th>10</th>\n",
              "      <td>Wilderness_Area1</td>\n",
              "      <td>3.588044</td>\n",
              "    </tr>\n",
              "    <tr>\n",
              "      <th>11</th>\n",
              "      <td>Wilderness_Area2</td>\n",
              "      <td>1.124620</td>\n",
              "    </tr>\n",
              "    <tr>\n",
              "      <th>12</th>\n",
              "      <td>Wilderness_Area3</td>\n",
              "      <td>7.831510</td>\n",
              "    </tr>\n",
              "    <tr>\n",
              "      <th>13</th>\n",
              "      <td>Wilderness_Area4</td>\n",
              "      <td>1.408875</td>\n",
              "    </tr>\n",
              "    <tr>\n",
              "      <th>14</th>\n",
              "      <td>Soil_Type1</td>\n",
              "      <td>1.020631</td>\n",
              "    </tr>\n",
              "    <tr>\n",
              "      <th>15</th>\n",
              "      <td>Soil_Type2</td>\n",
              "      <td>1.037366</td>\n",
              "    </tr>\n",
              "    <tr>\n",
              "      <th>16</th>\n",
              "      <td>Soil_Type3</td>\n",
              "      <td>1.020976</td>\n",
              "    </tr>\n",
              "    <tr>\n",
              "      <th>17</th>\n",
              "      <td>Soil_Type4</td>\n",
              "      <td>1.043819</td>\n",
              "    </tr>\n",
              "    <tr>\n",
              "      <th>18</th>\n",
              "      <td>Soil_Type5</td>\n",
              "      <td>1.017041</td>\n",
              "    </tr>\n",
              "    <tr>\n",
              "      <th>19</th>\n",
              "      <td>Soil_Type6</td>\n",
              "      <td>1.065757</td>\n",
              "    </tr>\n",
              "    <tr>\n",
              "      <th>20</th>\n",
              "      <td>Soil_Type8</td>\n",
              "      <td>1.003131</td>\n",
              "    </tr>\n",
              "    <tr>\n",
              "      <th>21</th>\n",
              "      <td>Soil_Type9</td>\n",
              "      <td>1.012133</td>\n",
              "    </tr>\n",
              "    <tr>\n",
              "      <th>22</th>\n",
              "      <td>Soil_Type10</td>\n",
              "      <td>1.104902</td>\n",
              "    </tr>\n",
              "    <tr>\n",
              "      <th>23</th>\n",
              "      <td>Soil_Type11</td>\n",
              "      <td>1.029172</td>\n",
              "    </tr>\n",
              "    <tr>\n",
              "      <th>24</th>\n",
              "      <td>Soil_Type12</td>\n",
              "      <td>1.019743</td>\n",
              "    </tr>\n",
              "    <tr>\n",
              "      <th>25</th>\n",
              "      <td>Soil_Type13</td>\n",
              "      <td>1.032723</td>\n",
              "    </tr>\n",
              "    <tr>\n",
              "      <th>26</th>\n",
              "      <td>Soil_Type14</td>\n",
              "      <td>1.016099</td>\n",
              "    </tr>\n",
              "    <tr>\n",
              "      <th>27</th>\n",
              "      <td>Soil_Type16</td>\n",
              "      <td>1.016892</td>\n",
              "    </tr>\n",
              "    <tr>\n",
              "      <th>28</th>\n",
              "      <td>Soil_Type17</td>\n",
              "      <td>1.024539</td>\n",
              "    </tr>\n",
              "    <tr>\n",
              "      <th>29</th>\n",
              "      <td>Soil_Type18</td>\n",
              "      <td>1.014814</td>\n",
              "    </tr>\n",
              "    <tr>\n",
              "      <th>30</th>\n",
              "      <td>Soil_Type19</td>\n",
              "      <td>1.015459</td>\n",
              "    </tr>\n",
              "    <tr>\n",
              "      <th>31</th>\n",
              "      <td>Soil_Type20</td>\n",
              "      <td>1.018428</td>\n",
              "    </tr>\n",
              "    <tr>\n",
              "      <th>32</th>\n",
              "      <td>Soil_Type21</td>\n",
              "      <td>1.013071</td>\n",
              "    </tr>\n",
              "    <tr>\n",
              "      <th>33</th>\n",
              "      <td>Soil_Type22</td>\n",
              "      <td>1.035526</td>\n",
              "    </tr>\n",
              "    <tr>\n",
              "      <th>34</th>\n",
              "      <td>Soil_Type23</td>\n",
              "      <td>1.062244</td>\n",
              "    </tr>\n",
              "    <tr>\n",
              "      <th>35</th>\n",
              "      <td>Soil_Type24</td>\n",
              "      <td>1.026302</td>\n",
              "    </tr>\n",
              "    <tr>\n",
              "      <th>36</th>\n",
              "      <td>Soil_Type25</td>\n",
              "      <td>1.003545</td>\n",
              "    </tr>\n",
              "    <tr>\n",
              "      <th>37</th>\n",
              "      <td>Soil_Type26</td>\n",
              "      <td>1.014790</td>\n",
              "    </tr>\n",
              "    <tr>\n",
              "      <th>38</th>\n",
              "      <td>Soil_Type27</td>\n",
              "      <td>1.013200</td>\n",
              "    </tr>\n",
              "    <tr>\n",
              "      <th>39</th>\n",
              "      <td>Soil_Type28</td>\n",
              "      <td>1.011899</td>\n",
              "    </tr>\n",
              "    <tr>\n",
              "      <th>40</th>\n",
              "      <td>Soil_Type29</td>\n",
              "      <td>1.094500</td>\n",
              "    </tr>\n",
              "    <tr>\n",
              "      <th>41</th>\n",
              "      <td>Soil_Type30</td>\n",
              "      <td>1.037319</td>\n",
              "    </tr>\n",
              "    <tr>\n",
              "      <th>42</th>\n",
              "      <td>Soil_Type31</td>\n",
              "      <td>1.029117</td>\n",
              "    </tr>\n",
              "    <tr>\n",
              "      <th>43</th>\n",
              "      <td>Soil_Type32</td>\n",
              "      <td>1.053803</td>\n",
              "    </tr>\n",
              "    <tr>\n",
              "      <th>44</th>\n",
              "      <td>Soil_Type33</td>\n",
              "      <td>1.044613</td>\n",
              "    </tr>\n",
              "    <tr>\n",
              "      <th>45</th>\n",
              "      <td>Soil_Type34</td>\n",
              "      <td>1.013449</td>\n",
              "    </tr>\n",
              "    <tr>\n",
              "      <th>46</th>\n",
              "      <td>Soil_Type35</td>\n",
              "      <td>1.017085</td>\n",
              "    </tr>\n",
              "    <tr>\n",
              "      <th>47</th>\n",
              "      <td>Soil_Type36</td>\n",
              "      <td>1.011993</td>\n",
              "    </tr>\n",
              "    <tr>\n",
              "      <th>48</th>\n",
              "      <td>Soil_Type37</td>\n",
              "      <td>1.013745</td>\n",
              "    </tr>\n",
              "    <tr>\n",
              "      <th>49</th>\n",
              "      <td>Soil_Type38</td>\n",
              "      <td>1.044255</td>\n",
              "    </tr>\n",
              "    <tr>\n",
              "      <th>50</th>\n",
              "      <td>Soil_Type39</td>\n",
              "      <td>1.041935</td>\n",
              "    </tr>\n",
              "    <tr>\n",
              "      <th>51</th>\n",
              "      <td>Soil_Type40</td>\n",
              "      <td>1.033738</td>\n",
              "    </tr>\n",
              "  </tbody>\n",
              "</table>\n",
              "</div>\n",
              "      <button class=\"colab-df-convert\" onclick=\"convertToInteractive('df-83c1f676-946b-4981-8047-2f01c74107c5')\"\n",
              "              title=\"Convert this dataframe to an interactive table.\"\n",
              "              style=\"display:none;\">\n",
              "        \n",
              "  <svg xmlns=\"http://www.w3.org/2000/svg\" height=\"24px\"viewBox=\"0 0 24 24\"\n",
              "       width=\"24px\">\n",
              "    <path d=\"M0 0h24v24H0V0z\" fill=\"none\"/>\n",
              "    <path d=\"M18.56 5.44l.94 2.06.94-2.06 2.06-.94-2.06-.94-.94-2.06-.94 2.06-2.06.94zm-11 1L8.5 8.5l.94-2.06 2.06-.94-2.06-.94L8.5 2.5l-.94 2.06-2.06.94zm10 10l.94 2.06.94-2.06 2.06-.94-2.06-.94-.94-2.06-.94 2.06-2.06.94z\"/><path d=\"M17.41 7.96l-1.37-1.37c-.4-.4-.92-.59-1.43-.59-.52 0-1.04.2-1.43.59L10.3 9.45l-7.72 7.72c-.78.78-.78 2.05 0 2.83L4 21.41c.39.39.9.59 1.41.59.51 0 1.02-.2 1.41-.59l7.78-7.78 2.81-2.81c.8-.78.8-2.07 0-2.86zM5.41 20L4 18.59l7.72-7.72 1.47 1.35L5.41 20z\"/>\n",
              "  </svg>\n",
              "      </button>\n",
              "      \n",
              "  <style>\n",
              "    .colab-df-container {\n",
              "      display:flex;\n",
              "      flex-wrap:wrap;\n",
              "      gap: 12px;\n",
              "    }\n",
              "\n",
              "    .colab-df-convert {\n",
              "      background-color: #E8F0FE;\n",
              "      border: none;\n",
              "      border-radius: 50%;\n",
              "      cursor: pointer;\n",
              "      display: none;\n",
              "      fill: #1967D2;\n",
              "      height: 32px;\n",
              "      padding: 0 0 0 0;\n",
              "      width: 32px;\n",
              "    }\n",
              "\n",
              "    .colab-df-convert:hover {\n",
              "      background-color: #E2EBFA;\n",
              "      box-shadow: 0px 1px 2px rgba(60, 64, 67, 0.3), 0px 1px 3px 1px rgba(60, 64, 67, 0.15);\n",
              "      fill: #174EA6;\n",
              "    }\n",
              "\n",
              "    [theme=dark] .colab-df-convert {\n",
              "      background-color: #3B4455;\n",
              "      fill: #D2E3FC;\n",
              "    }\n",
              "\n",
              "    [theme=dark] .colab-df-convert:hover {\n",
              "      background-color: #434B5C;\n",
              "      box-shadow: 0px 1px 3px 1px rgba(0, 0, 0, 0.15);\n",
              "      filter: drop-shadow(0px 1px 2px rgba(0, 0, 0, 0.3));\n",
              "      fill: #FFFFFF;\n",
              "    }\n",
              "  </style>\n",
              "\n",
              "      <script>\n",
              "        const buttonEl =\n",
              "          document.querySelector('#df-83c1f676-946b-4981-8047-2f01c74107c5 button.colab-df-convert');\n",
              "        buttonEl.style.display =\n",
              "          google.colab.kernel.accessAllowed ? 'block' : 'none';\n",
              "\n",
              "        async function convertToInteractive(key) {\n",
              "          const element = document.querySelector('#df-83c1f676-946b-4981-8047-2f01c74107c5');\n",
              "          const dataTable =\n",
              "            await google.colab.kernel.invokeFunction('convertToInteractive',\n",
              "                                                     [key], {});\n",
              "          if (!dataTable) return;\n",
              "\n",
              "          const docLinkHtml = 'Like what you see? Visit the ' +\n",
              "            '<a target=\"_blank\" href=https://colab.research.google.com/notebooks/data_table.ipynb>data table notebook</a>'\n",
              "            + ' to learn more about interactive tables.';\n",
              "          element.innerHTML = '';\n",
              "          dataTable['output_type'] = 'display_data';\n",
              "          await google.colab.output.renderOutput(dataTable, element);\n",
              "          const docLink = document.createElement('div');\n",
              "          docLink.innerHTML = docLinkHtml;\n",
              "          element.appendChild(docLink);\n",
              "        }\n",
              "      </script>\n",
              "    </div>\n",
              "  </div>\n",
              "  "
            ],
            "text/plain": [
              "                               feature        VIF\n",
              "0                            Elevation  76.735547\n",
              "1                               Aspect   2.897346\n",
              "2                                Slope   4.095981\n",
              "3     Horizontal_Distance_To_Hydrology   2.433372\n",
              "4       Vertical_Distance_To_Hydrology   1.576142\n",
              "5      Horizontal_Distance_To_Roadways   2.915287\n",
              "6                        Hillshade_9am  40.829074\n",
              "7                       Hillshade_Noon  68.627716\n",
              "8                        Hillshade_3pm  11.100936\n",
              "9   Horizontal_Distance_To_Fire_Points   3.047927\n",
              "10                    Wilderness_Area1   3.588044\n",
              "11                    Wilderness_Area2   1.124620\n",
              "12                    Wilderness_Area3   7.831510\n",
              "13                    Wilderness_Area4   1.408875\n",
              "14                          Soil_Type1   1.020631\n",
              "15                          Soil_Type2   1.037366\n",
              "16                          Soil_Type3   1.020976\n",
              "17                          Soil_Type4   1.043819\n",
              "18                          Soil_Type5   1.017041\n",
              "19                          Soil_Type6   1.065757\n",
              "20                          Soil_Type8   1.003131\n",
              "21                          Soil_Type9   1.012133\n",
              "22                         Soil_Type10   1.104902\n",
              "23                         Soil_Type11   1.029172\n",
              "24                         Soil_Type12   1.019743\n",
              "25                         Soil_Type13   1.032723\n",
              "26                         Soil_Type14   1.016099\n",
              "27                         Soil_Type16   1.016892\n",
              "28                         Soil_Type17   1.024539\n",
              "29                         Soil_Type18   1.014814\n",
              "30                         Soil_Type19   1.015459\n",
              "31                         Soil_Type20   1.018428\n",
              "32                         Soil_Type21   1.013071\n",
              "33                         Soil_Type22   1.035526\n",
              "34                         Soil_Type23   1.062244\n",
              "35                         Soil_Type24   1.026302\n",
              "36                         Soil_Type25   1.003545\n",
              "37                         Soil_Type26   1.014790\n",
              "38                         Soil_Type27   1.013200\n",
              "39                         Soil_Type28   1.011899\n",
              "40                         Soil_Type29   1.094500\n",
              "41                         Soil_Type30   1.037319\n",
              "42                         Soil_Type31   1.029117\n",
              "43                         Soil_Type32   1.053803\n",
              "44                         Soil_Type33   1.044613\n",
              "45                         Soil_Type34   1.013449\n",
              "46                         Soil_Type35   1.017085\n",
              "47                         Soil_Type36   1.011993\n",
              "48                         Soil_Type37   1.013745\n",
              "49                         Soil_Type38   1.044255\n",
              "50                         Soil_Type39   1.041935\n",
              "51                         Soil_Type40   1.033738"
            ]
          },
          "metadata": {},
          "execution_count": 24
        }
      ]
    },
    {
      "cell_type": "code",
      "source": [
        "train[\"Horizontal_Direction_To_Hydrology\"]=np.sign(train[\"Horizontal_Distance_To_Hydrology\"])\n",
        "train[\"Horizontal_Distance_To_Hydrology\"]=np.abs(train[\"Horizontal_Distance_To_Hydrology\"])\n",
        "\n",
        "train[\"Vertical_Direction_To_Hydrology\"]=np.sign(train[\"Vertical_Distance_To_Hydrology\"])\n",
        "train[\"Vertical_Distance_To_Hydrology\"]=np.abs(train[\"Vertical_Distance_To_Hydrology\"])\n",
        "\n",
        "train[\"Distance_To_Hydrology\"]=np.sqrt(train[\"Vertical_Distance_To_Hydrology\"]**2+train[\"Horizontal_Distance_To_Hydrology\"]**2)\n",
        "\n",
        "train[\"Horizontal_Direction_To_Roadways\"]=np.sign(train[\"Horizontal_Distance_To_Roadways\"])\n",
        "train[\"Horizontal_Distance_To_Roadways\"]=np.abs(train[\"Horizontal_Distance_To_Roadways\"])\n",
        "\n",
        "train[\"Horizontal_Direction_To_Fire_Points\"]=np.sign(train[\"Horizontal_Distance_To_Fire_Points\"])\n",
        "train[\"Horizontal_Distance_To_Fire_Points\"]=np.abs(train[\"Horizontal_Distance_To_Fire_Points\"])"
      ],
      "metadata": {
        "id": "noR5YSLFXAGg"
      },
      "execution_count": null,
      "outputs": []
    },
    {
      "cell_type": "code",
      "source": [
        "test[\"Horizontal_Direction_To_Hydrology\"]=np.sign(test[\"Horizontal_Distance_To_Hydrology\"])\n",
        "test[\"Horizontal_Distance_To_Hydrology\"]=np.abs(test[\"Horizontal_Distance_To_Hydrology\"])\n",
        "\n",
        "test[\"Vertical_Direction_To_Hydrology\"]=np.sign(test[\"Vertical_Distance_To_Hydrology\"])\n",
        "test[\"Vertical_Distance_To_Hydrology\"]=np.abs(test[\"Vertical_Distance_To_Hydrology\"])\n",
        "\n",
        "test[\"Distance_To_Hydrology\"]=np.sqrt(test[\"Vertical_Distance_To_Hydrology\"]**2+test[\"Horizontal_Distance_To_Hydrology\"]**2)\n",
        "\n",
        "test[\"Horizontal_Direction_To_Roadways\"]=np.sign(test[\"Horizontal_Distance_To_Roadways\"])\n",
        "test[\"Horizontal_Distance_To_Roadways\"]=np.abs(test[\"Horizontal_Distance_To_Roadways\"])\n",
        "\n",
        "test[\"Horizontal_Direction_To_Fire_Points\"]=np.sign(test[\"Horizontal_Distance_To_Fire_Points\"])\n",
        "test[\"Horizontal_Distance_To_Fire_Points\"]=np.abs(test[\"Horizontal_Distance_To_Fire_Points\"])"
      ],
      "metadata": {
        "id": "9bekr6lNH68r"
      },
      "execution_count": null,
      "outputs": []
    },
    {
      "cell_type": "code",
      "execution_count": null,
      "metadata": {
        "execution": {
          "iopub.execute_input": "2021-12-25T04:31:26.348646Z",
          "iopub.status.busy": "2021-12-25T04:31:26.348306Z",
          "iopub.status.idle": "2021-12-25T04:31:26.36025Z",
          "shell.execute_reply": "2021-12-25T04:31:26.359064Z",
          "shell.execute_reply.started": "2021-12-25T04:31:26.348601Z"
        },
        "id": "FFl0-rd1Ed3D"
      },
      "outputs": [],
      "source": [
        "continuous_variable = [ 'Elevation','Aspect', 'Slope',\n",
        "       'Horizontal_Distance_To_Hydrology', 'Vertical_Distance_To_Hydrology','Distance_To_Hydrology',\n",
        "       'Horizontal_Distance_To_Roadways','Hillshade_9am', 'Hillshade_Noon',\n",
        "       'Hillshade_3pm', 'Horizontal_Distance_To_Fire_Points']\n",
        "categorical_colums0=['Horizontal_Direction_To_Hydrology','Vertical_Direction_To_Hydrology','Horizontal_Direction_To_Roadways','Horizontal_Direction_To_Fire_Points']\n",
        "categorical_colums1 = ['Wilderness_Area1', 'Wilderness_Area2', 'Wilderness_Area3','Wilderness_Area4'] \n",
        "categorical_colums2 = ['Soil_Type1', 'Soil_Type2', 'Soil_Type3',\n",
        "       'Soil_Type4', 'Soil_Type5', 'Soil_Type6',  'Soil_Type8',\n",
        "       'Soil_Type9', 'Soil_Type10', 'Soil_Type11', 'Soil_Type12',\n",
        "       'Soil_Type13', 'Soil_Type14',  'Soil_Type16',\n",
        "       'Soil_Type17', 'Soil_Type18', 'Soil_Type19', 'Soil_Type20',\n",
        "       'Soil_Type21', 'Soil_Type22', 'Soil_Type23', 'Soil_Type24',\n",
        "       'Soil_Type25', 'Soil_Type26', 'Soil_Type27', 'Soil_Type28',\n",
        "       'Soil_Type29', 'Soil_Type30', 'Soil_Type31', 'Soil_Type32',\n",
        "       'Soil_Type37', 'Soil_Type38', 'Soil_Type39', 'Soil_Type40']\n",
        "categorical_colums = categorical_colums0+categorical_colums1+categorical_colums2"
      ]
    },
    {
      "cell_type": "markdown",
      "source": [
        "Normalize continuous variables"
      ],
      "metadata": {
        "id": "D9gQqCOriFbb"
      }
    },
    {
      "cell_type": "code",
      "source": [
        "def feature_normalization(feature):\n",
        "  return (feature-min(feature))/(max(feature)-min(feature))"
      ],
      "metadata": {
        "id": "Z_d5gXMih-iV"
      },
      "execution_count": null,
      "outputs": []
    },
    {
      "cell_type": "code",
      "source": [
        "train[\"Elevation\"]=feature_normalization(train[\"Elevation\"])\n",
        "train[\"Aspect\"]=feature_normalization(train[\"Aspect\"])\n",
        "train[\"Slope\"]=feature_normalization(train[\"Slope\"])\n",
        "train[\"Horizontal_Distance_To_Hydrology\"]=feature_normalization(train[\"Horizontal_Distance_To_Hydrology\"])\n",
        "train[\"Vertical_Distance_To_Hydrology\"]=feature_normalization(train[\"Vertical_Distance_To_Hydrology\"])\n",
        "train[\"Horizontal_Distance_To_Roadways\"]=feature_normalization(train[\"Horizontal_Distance_To_Roadways\"])\n",
        "train[\"Distance_To_Hydrology\"]=feature_normalization(train[\"Distance_To_Hydrology\"])\n",
        "train[\"Hillshade_9am\"]=feature_normalization(train[\"Hillshade_9am\"])\n",
        "train[\"Hillshade_Noon\"]=feature_normalization(train[\"Hillshade_Noon\"])\n",
        "train[\"Hillshade_3pm\"]=feature_normalization(train[\"Hillshade_3pm\"])\n",
        "train[\"Horizontal_Distance_To_Fire_Points\"]=feature_normalization(train[\"Horizontal_Distance_To_Fire_Points\"])"
      ],
      "metadata": {
        "id": "z_q4yoHphsqY"
      },
      "execution_count": null,
      "outputs": []
    },
    {
      "cell_type": "code",
      "source": [
        "test[\"Elevation\"]=feature_normalization(test[\"Elevation\"])\n",
        "test[\"Aspect\"]=feature_normalization(test[\"Aspect\"])\n",
        "test[\"Slope\"]=feature_normalization(test[\"Slope\"])\n",
        "test[\"Horizontal_Distance_To_Hydrology\"]=feature_normalization(test[\"Horizontal_Distance_To_Hydrology\"])\n",
        "test[\"Vertical_Distance_To_Hydrology\"]=feature_normalization(test[\"Vertical_Distance_To_Hydrology\"])\n",
        "test[\"Horizontal_Distance_To_Roadways\"]=feature_normalization(test[\"Horizontal_Distance_To_Roadways\"])\n",
        "test[\"Distance_To_Hydrology\"]=feature_normalization(test[\"Distance_To_Hydrology\"])\n",
        "test[\"Hillshade_9am\"]=feature_normalization(test[\"Hillshade_9am\"])\n",
        "test[\"Hillshade_Noon\"]=feature_normalization(test[\"Hillshade_Noon\"])\n",
        "test[\"Hillshade_3pm\"]=feature_normalization(test[\"Hillshade_3pm\"])\n",
        "test[\"Horizontal_Distance_To_Fire_Points\"]=feature_normalization(test[\"Horizontal_Distance_To_Fire_Points\"])"
      ],
      "metadata": {
        "id": "I7XnpQEMk0iU"
      },
      "execution_count": null,
      "outputs": []
    },
    {
      "cell_type": "code",
      "execution_count": null,
      "metadata": {
        "execution": {
          "iopub.execute_input": "2021-12-25T04:31:26.361824Z",
          "iopub.status.busy": "2021-12-25T04:31:26.361571Z",
          "iopub.status.idle": "2021-12-25T04:31:39.129151Z",
          "shell.execute_reply": "2021-12-25T04:31:39.128405Z",
          "shell.execute_reply.started": "2021-12-25T04:31:26.361774Z"
        },
        "id": "EGIJLYTrEd3E"
      },
      "outputs": [],
      "source": [
        "train[\"sum_c1\"] = train[categorical_colums1].sum(axis=1)\n",
        "train[\"sum_c2\"] = train[categorical_colums2].sum(axis=1)\n",
        "\n",
        "test[\"sum_c1\"] = test[categorical_colums1].sum(axis=1)\n",
        "test[\"sum_c2\"] = test[categorical_colums2].sum(axis=1)"
      ]
    },
    {
      "cell_type": "markdown",
      "source": [
        "Create some summary features to see if this works better in the model"
      ],
      "metadata": {
        "id": "hOfgoV9o8R1J"
      }
    },
    {
      "cell_type": "code",
      "execution_count": null,
      "metadata": {
        "execution": {
          "iopub.execute_input": "2021-12-25T07:10:00.301046Z",
          "iopub.status.busy": "2021-12-25T07:10:00.300664Z",
          "iopub.status.idle": "2021-12-25T07:10:00.309057Z",
          "shell.execute_reply": "2021-12-25T07:10:00.307877Z",
          "shell.execute_reply.started": "2021-12-25T07:10:00.30101Z"
        },
        "id": "lew4VEYmEd3F"
      },
      "outputs": [],
      "source": [
        "def checkerrorcount(model):\n",
        "    predict_classifier = model.predict(X_valid)\n",
        "    y_reshape=np.ravel(y_valid)\n",
        "    c = 0\n",
        "    e = 0\n",
        "\n",
        "    for r in range(y_reshape.size):\n",
        "        if y_reshape[r]==predict_classifier[r]:\n",
        "            c = c + 1\n",
        "        if y_reshape[r]!=predict_classifier[r]:\n",
        "            e = e + 1\n",
        "    return f'correct count is: {c} ,error count is: {e}'"
      ]
    },
    {
      "cell_type": "markdown",
      "metadata": {
        "id": "uXaKloBeEd3F"
      },
      "source": [
        "**check features in train , each Cover_Type but exclude Cover_Type=5**"
      ]
    },
    {
      "cell_type": "markdown",
      "metadata": {
        "id": "PviePJHIEd3G"
      },
      "source": [
        "**prepare training data**"
      ]
    },
    {
      "cell_type": "code",
      "execution_count": null,
      "metadata": {
        "execution": {
          "iopub.execute_input": "2021-12-24T16:38:40.611894Z",
          "iopub.status.busy": "2021-12-24T16:38:40.611207Z",
          "iopub.status.idle": "2021-12-24T16:38:44.858184Z",
          "shell.execute_reply": "2021-12-24T16:38:44.857439Z",
          "shell.execute_reply.started": "2021-12-24T16:38:40.611845Z"
        },
        "id": "Me7E_6sSEd3G"
      },
      "outputs": [],
      "source": [
        "X=train.drop(['Id','Cover_Type'],axis = 1)\n",
        "y = train.Cover_Type\n",
        "\n",
        "#Separate data into training and validation sets\n",
        "X_train, X_valid, y_train, y_valid = train_test_split(X, y, train_size=0.8, test_size=0.2,random_state=14)"
      ]
    },
    {
      "cell_type": "markdown",
      "source": [
        "Baseline model with Random Forest"
      ],
      "metadata": {
        "id": "LveOcwUvSBMp"
      }
    },
    {
      "cell_type": "markdown",
      "metadata": {
        "id": "q3bINz42Ed3H"
      },
      "source": [
        "**create model with using XGBClassifier**"
      ]
    },
    {
      "cell_type": "markdown",
      "source": [
        "Our data set here is not very unbalanced, which means mlogloss is fine."
      ],
      "metadata": {
        "id": "Ds1N1_8LSIjs"
      }
    },
    {
      "cell_type": "code",
      "execution_count": null,
      "metadata": {
        "execution": {
          "iopub.execute_input": "2021-12-24T03:19:06.267501Z",
          "iopub.status.busy": "2021-12-24T03:19:06.26726Z",
          "iopub.status.idle": "2021-12-24T04:31:17.509369Z",
          "shell.execute_reply": "2021-12-24T04:31:17.508122Z",
          "shell.execute_reply.started": "2021-12-24T03:19:06.267473Z"
        },
        "colab": {
          "base_uri": "https://localhost:8080/"
        },
        "id": "p-MH_NSaEd3H",
        "outputId": "063f5e43-aab7-439d-b6e5-12c28b8e30a0"
      },
      "outputs": [
        {
          "output_type": "stream",
          "name": "stdout",
          "text": [
            "correct count is: 748268 ,error count is: 51732\n"
          ]
        }
      ],
      "source": [
        "XGB_classifier = XGBClassifier(objective='multi:softmax',eval_metric = 'mlogloss',tree_method='gpu_hist')\n",
        "XGB_classifier.fit(X_train, X_train)\n",
        "print(checkerrorcount(XGB_classifier))"
      ]
    },
    {
      "cell_type": "code",
      "source": [
        "CatBoost_classifier=CatBoostClassifier()\n",
        "CatBoost_classifier = CatBoostClassifier(task_type=\"GPU\",use_best_model = True, random_seed = 14,eval_metric='MultiClass',iterations=3000)\n",
        "CatBoost_classifier.fit(X_train, y_train, eval_set= (X_valid, y_valid), early_stopping_rounds=100,verbose = False)\n",
        "print(checkerrorcount(CatBoost_classifier))"
      ],
      "metadata": {
        "id": "Jx6RrxYSZYU9",
        "colab": {
          "base_uri": "https://localhost:8080/"
        },
        "outputId": "ea91be1f-6a8c-4f43-9c70-a93846f76698"
      },
      "execution_count": null,
      "outputs": [
        {
          "output_type": "stream",
          "name": "stderr",
          "text": [
            "Custom logger is already specified. Specify more than one logger at same time is not thread safe.Warning: less than 75% gpu memory available for training. Free: 5007.75 Total: 16280.875\n"
          ]
        },
        {
          "output_type": "stream",
          "name": "stdout",
          "text": [
            "correct count is: 769070 ,error count is: 30930\n"
          ]
        }
      ]
    },
    {
      "cell_type": "code",
      "source": [
        "test_target = test.drop(['Id'],axis = 1)\n",
        "int_predict = np.ravel(CatBoost_classifier.predict(test_target))\n",
        "output_CatBoost = pd.DataFrame({'Id': test.Id, 'Cover_Type': int_predict})\n",
        "output_CatBoost.to_csv('submission_CatBoost.csv', index=False)"
      ],
      "metadata": {
        "id": "oZ2FFyz4hNvE"
      },
      "execution_count": null,
      "outputs": []
    },
    {
      "cell_type": "code",
      "source": [
        "files.download(\"submission_CatBoost.csv\")"
      ],
      "metadata": {
        "colab": {
          "base_uri": "https://localhost:8080/",
          "height": 17
        },
        "id": "p050MmBLhZIJ",
        "outputId": "23cf125c-a444-4360-fc61-5dca98cb712c"
      },
      "execution_count": null,
      "outputs": [
        {
          "output_type": "display_data",
          "data": {
            "application/javascript": [
              "\n",
              "    async function download(id, filename, size) {\n",
              "      if (!google.colab.kernel.accessAllowed) {\n",
              "        return;\n",
              "      }\n",
              "      const div = document.createElement('div');\n",
              "      const label = document.createElement('label');\n",
              "      label.textContent = `Downloading \"${filename}\": `;\n",
              "      div.appendChild(label);\n",
              "      const progress = document.createElement('progress');\n",
              "      progress.max = size;\n",
              "      div.appendChild(progress);\n",
              "      document.body.appendChild(div);\n",
              "\n",
              "      const buffers = [];\n",
              "      let downloaded = 0;\n",
              "\n",
              "      const channel = await google.colab.kernel.comms.open(id);\n",
              "      // Send a message to notify the kernel that we're ready.\n",
              "      channel.send({})\n",
              "\n",
              "      for await (const message of channel.messages) {\n",
              "        // Send a message to notify the kernel that we're ready.\n",
              "        channel.send({})\n",
              "        if (message.buffers) {\n",
              "          for (const buffer of message.buffers) {\n",
              "            buffers.push(buffer);\n",
              "            downloaded += buffer.byteLength;\n",
              "            progress.value = downloaded;\n",
              "          }\n",
              "        }\n",
              "      }\n",
              "      const blob = new Blob(buffers, {type: 'application/binary'});\n",
              "      const a = document.createElement('a');\n",
              "      a.href = window.URL.createObjectURL(blob);\n",
              "      a.download = filename;\n",
              "      div.appendChild(a);\n",
              "      a.click();\n",
              "      div.remove();\n",
              "    }\n",
              "  "
            ],
            "text/plain": [
              "<IPython.core.display.Javascript object>"
            ]
          },
          "metadata": {}
        },
        {
          "output_type": "display_data",
          "data": {
            "application/javascript": [
              "download(\"download_280cb15c-dcf6-4271-8dce-465908ba81fb\", \"submission_CatBoost.csv\", 10000014)"
            ],
            "text/plain": [
              "<IPython.core.display.Javascript object>"
            ]
          },
          "metadata": {}
        }
      ]
    },
    {
      "cell_type": "code",
      "source": [
        "lightGBM_classifier=LGBMClassifier(objective='multi:softmax',eval_metric = 'mlogloss',tree_learner=\"data\")\n",
        "lightGBM_classifier.fit(X_train, y_train)\n",
        "print(checkerrorcount(lightGBM_classifier))"
      ],
      "metadata": {
        "id": "xmLOwwiWwGis",
        "colab": {
          "base_uri": "https://localhost:8080/"
        },
        "outputId": "d29489bc-2f3a-4b89-90d8-470811c3c713"
      },
      "execution_count": null,
      "outputs": [
        {
          "output_type": "stream",
          "name": "stdout",
          "text": [
            "correct count is: 763227 ,error count is: 36773\n"
          ]
        }
      ]
    },
    {
      "cell_type": "code",
      "source": [
        "test_target = test.drop(['Id'],axis = 1)\n",
        "int_predict = np.ravel(lightGBM_classifier.predict(test_target))\n",
        "output_lightGBM = pd.DataFrame({'Id': test.Id, 'Cover_Type': int_predict})\n",
        "output_lightGBM.to_csv('submission_lightGBM.csv', index=False)"
      ],
      "metadata": {
        "id": "yOcahHyJeUxA"
      },
      "execution_count": null,
      "outputs": []
    },
    {
      "cell_type": "code",
      "source": [
        "files.download(\"submission_lightGBM.csv\")"
      ],
      "metadata": {
        "id": "gepBdCZFFbKu",
        "colab": {
          "base_uri": "https://localhost:8080/",
          "height": 17
        },
        "outputId": "1576b4f2-3fd1-4cef-80bf-e2596750f773"
      },
      "execution_count": null,
      "outputs": [
        {
          "output_type": "display_data",
          "data": {
            "application/javascript": [
              "\n",
              "    async function download(id, filename, size) {\n",
              "      if (!google.colab.kernel.accessAllowed) {\n",
              "        return;\n",
              "      }\n",
              "      const div = document.createElement('div');\n",
              "      const label = document.createElement('label');\n",
              "      label.textContent = `Downloading \"${filename}\": `;\n",
              "      div.appendChild(label);\n",
              "      const progress = document.createElement('progress');\n",
              "      progress.max = size;\n",
              "      div.appendChild(progress);\n",
              "      document.body.appendChild(div);\n",
              "\n",
              "      const buffers = [];\n",
              "      let downloaded = 0;\n",
              "\n",
              "      const channel = await google.colab.kernel.comms.open(id);\n",
              "      // Send a message to notify the kernel that we're ready.\n",
              "      channel.send({})\n",
              "\n",
              "      for await (const message of channel.messages) {\n",
              "        // Send a message to notify the kernel that we're ready.\n",
              "        channel.send({})\n",
              "        if (message.buffers) {\n",
              "          for (const buffer of message.buffers) {\n",
              "            buffers.push(buffer);\n",
              "            downloaded += buffer.byteLength;\n",
              "            progress.value = downloaded;\n",
              "          }\n",
              "        }\n",
              "      }\n",
              "      const blob = new Blob(buffers, {type: 'application/binary'});\n",
              "      const a = document.createElement('a');\n",
              "      a.href = window.URL.createObjectURL(blob);\n",
              "      a.download = filename;\n",
              "      div.appendChild(a);\n",
              "      a.click();\n",
              "      div.remove();\n",
              "    }\n",
              "  "
            ],
            "text/plain": [
              "<IPython.core.display.Javascript object>"
            ]
          },
          "metadata": {}
        },
        {
          "output_type": "display_data",
          "data": {
            "application/javascript": [
              "download(\"download_bd1390ed-7dce-4493-ac6a-3e040d0d6799\", \"submission_lightGBM.csv\", 10000014)"
            ],
            "text/plain": [
              "<IPython.core.display.Javascript object>"
            ]
          },
          "metadata": {}
        }
      ]
    },
    {
      "cell_type": "code",
      "execution_count": null,
      "metadata": {
        "execution": {
          "iopub.execute_input": "2021-12-24T01:17:32.958189Z",
          "iopub.status.busy": "2021-12-24T01:17:32.957943Z",
          "iopub.status.idle": "2021-12-24T01:17:34.232126Z",
          "shell.execute_reply": "2021-12-24T01:17:34.230676Z",
          "shell.execute_reply.started": "2021-12-24T01:17:32.95816Z"
        },
        "id": "3h_azfnFEd3I",
        "colab": {
          "base_uri": "https://localhost:8080/",
          "height": 607
        },
        "outputId": "d212a995-f2e4-484d-cb32-5dfa85cefc7b"
      },
      "outputs": [
        {
          "output_type": "display_data",
          "data": {
            "image/png": "[encoded data removed]",
            "text/plain": [
              "<Figure size 720x720 with 1 Axes>"
            ]
          },
          "metadata": {
            "needs_background": "light"
          }
        }
      ],
      "source": [
        "plt.figure(figsize=(10,20))\n",
        "\n",
        "importances = pd.Series(XGB_classifier.feature_importances_, index = X.columns)\n",
        "importances = importances.sort_values()\n",
        "importances.nlargest(15).plot(kind = \"barh\",figsize=(10,10))\n",
        "plt.title(\"importance in the XGBClassifier Model\")\n",
        "\n",
        "plt.show()"
      ]
    },
    {
      "cell_type": "markdown",
      "source": [
        "### Hyperparameter tuning"
      ],
      "metadata": {
        "id": "HGU3GlrgHduJ"
      }
    },
    {
      "cell_type": "code",
      "source": [
        "params = {\n",
        "        'min_child_weight': [1, 5, 10],\n",
        "        'gamma': [0,0.5, 1, 1.5, 3],\n",
        "        'subsample': [0.6, 0.8, 1.0],\n",
        "        'colsample_bytree': [0.6, 0.8, 1.0],\n",
        "        'max_depth': [3,4,5]\n",
        "        }"
      ],
      "metadata": {
        "id": "xxe3fSXYWHjV"
      },
      "execution_count": null,
      "outputs": []
    },
    {
      "cell_type": "code",
      "source": [
        "xgb = XGBClassifier(objective='multi:softmax',eval_metric = 'mlogloss',tree_method='gpu_hist',silent=True)\n"
      ],
      "metadata": {
        "id": "UtyvImHtHm6Q"
      },
      "execution_count": null,
      "outputs": []
    },
    {
      "cell_type": "code",
      "source": [
        "param_comb = 50\n",
        "\n",
        "random_search = RandomizedSearchCV(xgb, param_distributions=params, n_iter=param_comb, scoring='f1_macro', verbose=3, random_state=1001 )\n",
        "\n",
        "# Here we go\n",
        "\n",
        "random_search.fit(X, y)"
      ],
      "metadata": {
        "colab": {
          "base_uri": "https://localhost:8080/"
        },
        "id": "3d2YHYc2H_Dx",
        "outputId": "6ceed758-78f8-4805-fe23-805ffe3ca3b4"
      },
      "execution_count": null,
      "outputs": [
        {
          "output_type": "stream",
          "name": "stdout",
          "text": [
            "Fitting 5 folds for each of 50 candidates, totalling 250 fits\n",
            "[CV 1/5] END colsample_bytree=0.6, gamma=2, learn_rate=0.01, max_depth=4, min_child_weight=5, subsample=0.8;, score=0.641 total time=  55.8s\n",
            "[CV 2/5] END colsample_bytree=0.6, gamma=2, learn_rate=0.01, max_depth=4, min_child_weight=5, subsample=0.8;, score=0.664 total time=  55.2s\n",
            "[CV 3/5] END colsample_bytree=0.6, gamma=2, learn_rate=0.01, max_depth=4, min_child_weight=5, subsample=0.8;, score=0.663 total time=  54.7s\n",
            "[CV 4/5] END colsample_bytree=0.6, gamma=2, learn_rate=0.01, max_depth=4, min_child_weight=5, subsample=0.8;, score=0.674 total time=  54.5s\n",
            "[CV 5/5] END colsample_bytree=0.6, gamma=2, learn_rate=0.01, max_depth=4, min_child_weight=5, subsample=0.8;, score=0.662 total time=  54.9s\n",
            "[CV 1/5] END colsample_bytree=0.6, gamma=2, learn_rate=0.01, max_depth=4, min_child_weight=5, subsample=1.0;, score=0.629 total time=  54.2s\n",
            "[CV 2/5] END colsample_bytree=0.6, gamma=2, learn_rate=0.01, max_depth=4, min_child_weight=5, subsample=1.0;, score=0.664 total time=  54.2s\n",
            "[CV 3/5] END colsample_bytree=0.6, gamma=2, learn_rate=0.01, max_depth=4, min_child_weight=5, subsample=1.0;, score=0.666 total time=  53.6s\n",
            "[CV 4/5] END colsample_bytree=0.6, gamma=2, learn_rate=0.01, max_depth=4, min_child_weight=5, subsample=1.0;, score=0.671 total time=  53.5s\n",
            "[CV 5/5] END colsample_bytree=0.6, gamma=2, learn_rate=0.01, max_depth=4, min_child_weight=5, subsample=1.0;, score=0.659 total time=  54.0s\n",
            "[CV 1/5] END colsample_bytree=0.8, gamma=2, learn_rate=0.03, max_depth=5, min_child_weight=10, subsample=0.6;, score=0.703 total time=  56.6s\n",
            "[CV 2/5] END colsample_bytree=0.8, gamma=2, learn_rate=0.03, max_depth=5, min_child_weight=10, subsample=0.6;, score=0.712 total time=  56.7s\n",
            "[CV 3/5] END colsample_bytree=0.8, gamma=2, learn_rate=0.03, max_depth=5, min_child_weight=10, subsample=0.6;, score=0.695 total time=  56.0s\n",
            "[CV 4/5] END colsample_bytree=0.8, gamma=2, learn_rate=0.03, max_depth=5, min_child_weight=10, subsample=0.6;, score=0.704 total time=  55.9s\n",
            "[CV 5/5] END colsample_bytree=0.8, gamma=2, learn_rate=0.03, max_depth=5, min_child_weight=10, subsample=0.6;, score=0.692 total time=  56.1s\n",
            "[CV 1/5] END colsample_bytree=0.8, gamma=0.5, learn_rate=0.03, max_depth=3, min_child_weight=1, subsample=0.8;, score=0.563 total time=  51.4s\n",
            "[CV 2/5] END colsample_bytree=0.8, gamma=0.5, learn_rate=0.03, max_depth=3, min_child_weight=1, subsample=0.8;, score=0.607 total time=  51.5s\n",
            "[CV 3/5] END colsample_bytree=0.8, gamma=0.5, learn_rate=0.03, max_depth=3, min_child_weight=1, subsample=0.8;, score=0.611 total time=  51.1s\n",
            "[CV 4/5] END colsample_bytree=0.8, gamma=0.5, learn_rate=0.03, max_depth=3, min_child_weight=1, subsample=0.8;, score=0.626 total time=  51.0s\n",
            "[CV 5/5] END colsample_bytree=0.8, gamma=0.5, learn_rate=0.03, max_depth=3, min_child_weight=1, subsample=0.8;, score=0.610 total time=  51.2s\n",
            "[CV 1/5] END colsample_bytree=1.0, gamma=2, learn_rate=0.03, max_depth=3, min_child_weight=1, subsample=0.6;, score=0.560 total time=  50.7s\n",
            "[CV 2/5] END colsample_bytree=1.0, gamma=2, learn_rate=0.03, max_depth=3, min_child_weight=1, subsample=0.6;, score=0.604 total time=  50.8s\n",
            "[CV 3/5] END colsample_bytree=1.0, gamma=2, learn_rate=0.03, max_depth=3, min_child_weight=1, subsample=0.6;, score=0.617 total time=  50.3s\n",
            "[CV 4/5] END colsample_bytree=1.0, gamma=2, learn_rate=0.03, max_depth=3, min_child_weight=1, subsample=0.6;, score=0.626 total time=  50.4s\n",
            "[CV 5/5] END colsample_bytree=1.0, gamma=2, learn_rate=0.03, max_depth=3, min_child_weight=1, subsample=0.6;, score=0.623 total time=  50.8s\n",
            "[CV 1/5] END colsample_bytree=0.8, gamma=2, learn_rate=0.01, max_depth=5, min_child_weight=10, subsample=0.6;, score=0.700 total time=  56.4s\n",
            "[CV 2/5] END colsample_bytree=0.8, gamma=2, learn_rate=0.01, max_depth=5, min_child_weight=10, subsample=0.6;, score=0.711 total time=  56.4s\n",
            "[CV 3/5] END colsample_bytree=0.8, gamma=2, learn_rate=0.01, max_depth=5, min_child_weight=10, subsample=0.6;, score=0.695 total time=  55.8s\n",
            "[CV 4/5] END colsample_bytree=0.8, gamma=2, learn_rate=0.01, max_depth=5, min_child_weight=10, subsample=0.6;, score=0.699 total time=  55.6s\n",
            "[CV 5/5] END colsample_bytree=0.8, gamma=2, learn_rate=0.01, max_depth=5, min_child_weight=10, subsample=0.6;, score=0.694 total time=  55.9s\n",
            "[CV 1/5] END colsample_bytree=0.6, gamma=1, learn_rate=0.01, max_depth=5, min_child_weight=10, subsample=1.0;, score=0.689 total time=  57.5s\n",
            "[CV 2/5] END colsample_bytree=0.6, gamma=1, learn_rate=0.01, max_depth=5, min_child_weight=10, subsample=1.0;, score=0.691 total time=  57.6s\n",
            "[CV 3/5] END colsample_bytree=0.6, gamma=1, learn_rate=0.01, max_depth=5, min_child_weight=10, subsample=1.0;, score=0.681 total time=  56.8s\n",
            "[CV 4/5] END colsample_bytree=0.6, gamma=1, learn_rate=0.01, max_depth=5, min_child_weight=10, subsample=1.0;, score=0.690 total time=  56.7s\n",
            "[CV 5/5] END colsample_bytree=0.6, gamma=1, learn_rate=0.01, max_depth=5, min_child_weight=10, subsample=1.0;, score=0.686 total time=  56.7s\n",
            "[CV 1/5] END colsample_bytree=1.0, gamma=0.5, learn_rate=0.01, max_depth=3, min_child_weight=10, subsample=1.0;, score=0.558 total time=  50.0s\n",
            "[CV 2/5] END colsample_bytree=1.0, gamma=0.5, learn_rate=0.01, max_depth=3, min_child_weight=10, subsample=1.0;, score=0.604 total time=  49.9s\n",
            "[CV 3/5] END colsample_bytree=1.0, gamma=0.5, learn_rate=0.01, max_depth=3, min_child_weight=10, subsample=1.0;, score=0.609 total time=  49.4s\n",
            "[CV 4/5] END colsample_bytree=1.0, gamma=0.5, learn_rate=0.01, max_depth=3, min_child_weight=10, subsample=1.0;, score=0.633 total time=  49.4s\n",
            "[CV 5/5] END colsample_bytree=1.0, gamma=0.5, learn_rate=0.01, max_depth=3, min_child_weight=10, subsample=1.0;, score=0.629 total time=  49.9s\n",
            "[CV 1/5] END colsample_bytree=0.8, gamma=1, learn_rate=0.03, max_depth=5, min_child_weight=10, subsample=1.0;, score=0.695 total time=  55.9s\n",
            "[CV 2/5] END colsample_bytree=0.8, gamma=1, learn_rate=0.03, max_depth=5, min_child_weight=10, subsample=1.0;, score=0.715 total time=  56.1s\n",
            "[CV 3/5] END colsample_bytree=0.8, gamma=1, learn_rate=0.03, max_depth=5, min_child_weight=10, subsample=1.0;, score=0.695 total time=  55.4s\n",
            "[CV 4/5] END colsample_bytree=0.8, gamma=1, learn_rate=0.03, max_depth=5, min_child_weight=10, subsample=1.0;, score=0.693 total time=  55.3s\n",
            "[CV 5/5] END colsample_bytree=0.8, gamma=1, learn_rate=0.03, max_depth=5, min_child_weight=10, subsample=1.0;, score=0.691 total time=  55.5s\n",
            "[CV 1/5] END colsample_bytree=0.6, gamma=1, learn_rate=0.01, max_depth=4, min_child_weight=10, subsample=0.8;, score=0.643 total time=  54.9s\n",
            "[CV 2/5] END colsample_bytree=0.6, gamma=1, learn_rate=0.01, max_depth=4, min_child_weight=10, subsample=0.8;, score=0.661 total time=  54.9s\n",
            "[CV 3/5] END colsample_bytree=0.6, gamma=1, learn_rate=0.01, max_depth=4, min_child_weight=10, subsample=0.8;, score=0.662 total time=  54.4s\n",
            "[CV 4/5] END colsample_bytree=0.6, gamma=1, learn_rate=0.01, max_depth=4, min_child_weight=10, subsample=0.8;, score=0.673 total time=  54.4s\n",
            "[CV 5/5] END colsample_bytree=0.6, gamma=1, learn_rate=0.01, max_depth=4, min_child_weight=10, subsample=0.8;, score=0.651 total time=  54.5s\n",
            "[CV 1/5] END colsample_bytree=0.8, gamma=1, learn_rate=0.01, max_depth=5, min_child_weight=5, subsample=0.6;, score=0.702 total time=  56.3s\n",
            "[CV 2/5] END colsample_bytree=0.8, gamma=1, learn_rate=0.01, max_depth=5, min_child_weight=5, subsample=0.6;, score=0.710 total time=  56.3s\n",
            "[CV 3/5] END colsample_bytree=0.8, gamma=1, learn_rate=0.01, max_depth=5, min_child_weight=5, subsample=0.6;, score=0.702 total time=  55.7s\n",
            "[CV 4/5] END colsample_bytree=0.8, gamma=1, learn_rate=0.01, max_depth=5, min_child_weight=5, subsample=0.6;, score=0.699 total time=  55.6s\n",
            "[CV 5/5] END colsample_bytree=0.8, gamma=1, learn_rate=0.01, max_depth=5, min_child_weight=5, subsample=0.6;, score=0.699 total time=  55.8s\n",
            "[CV 1/5] END colsample_bytree=0.8, gamma=5, learn_rate=0.03, max_depth=4, min_child_weight=10, subsample=1.0;, score=0.645 total time=  53.2s\n",
            "[CV 2/5] END colsample_bytree=0.8, gamma=5, learn_rate=0.03, max_depth=4, min_child_weight=10, subsample=1.0;, score=0.673 total time=  53.1s\n",
            "[CV 3/5] END colsample_bytree=0.8, gamma=5, learn_rate=0.03, max_depth=4, min_child_weight=10, subsample=1.0;, score=0.672 total time=  52.6s\n",
            "[CV 4/5] END colsample_bytree=0.8, gamma=5, learn_rate=0.03, max_depth=4, min_child_weight=10, subsample=1.0;, score=0.673 total time=  52.4s\n",
            "[CV 5/5] END colsample_bytree=0.8, gamma=5, learn_rate=0.03, max_depth=4, min_child_weight=10, subsample=1.0;, score=0.672 total time=  52.7s\n",
            "[CV 1/5] END colsample_bytree=0.8, gamma=5, learn_rate=0.03, max_depth=4, min_child_weight=1, subsample=0.6;, score=0.652 total time=  53.4s\n",
            "[CV 2/5] END colsample_bytree=0.8, gamma=5, learn_rate=0.03, max_depth=4, min_child_weight=1, subsample=0.6;, score=0.677 total time=  53.5s\n",
            "[CV 3/5] END colsample_bytree=0.8, gamma=5, learn_rate=0.03, max_depth=4, min_child_weight=1, subsample=0.6;, score=0.674 total time=  53.1s\n",
            "[CV 4/5] END colsample_bytree=0.8, gamma=5, learn_rate=0.03, max_depth=4, min_child_weight=1, subsample=0.6;, score=0.674 total time=  53.0s\n",
            "[CV 5/5] END colsample_bytree=0.8, gamma=5, learn_rate=0.03, max_depth=4, min_child_weight=1, subsample=0.6;, score=0.674 total time=  53.2s\n",
            "[CV 1/5] END colsample_bytree=1.0, gamma=1, learn_rate=0.01, max_depth=3, min_child_weight=10, subsample=0.8;, score=0.563 total time=  50.8s\n",
            "[CV 2/5] END colsample_bytree=1.0, gamma=1, learn_rate=0.01, max_depth=3, min_child_weight=10, subsample=0.8;, score=0.604 total time=  50.8s\n",
            "[CV 3/5] END colsample_bytree=1.0, gamma=1, learn_rate=0.01, max_depth=3, min_child_weight=10, subsample=0.8;, score=0.616 total time=  50.4s\n",
            "[CV 4/5] END colsample_bytree=1.0, gamma=1, learn_rate=0.01, max_depth=3, min_child_weight=10, subsample=0.8;, score=0.629 total time=  50.4s\n",
            "[CV 5/5] END colsample_bytree=1.0, gamma=1, learn_rate=0.01, max_depth=3, min_child_weight=10, subsample=0.8;, score=0.624 total time=  50.7s\n",
            "[CV 1/5] END colsample_bytree=0.6, gamma=5, learn_rate=0.03, max_depth=5, min_child_weight=1, subsample=1.0;, score=0.681 total time=  57.3s\n",
            "[CV 2/5] END colsample_bytree=0.6, gamma=5, learn_rate=0.03, max_depth=5, min_child_weight=1, subsample=1.0;, score=0.688 total time=  57.2s\n",
            "[CV 3/5] END colsample_bytree=0.6, gamma=5, learn_rate=0.03, max_depth=5, min_child_weight=1, subsample=1.0;, score=0.686 total time=  56.3s\n",
            "[CV 4/5] END colsample_bytree=0.6, gamma=5, learn_rate=0.03, max_depth=5, min_child_weight=1, subsample=1.0;, score=0.688 total time=  56.0s\n",
            "[CV 5/5] END colsample_bytree=0.6, gamma=5, learn_rate=0.03, max_depth=5, min_child_weight=1, subsample=1.0;, score=0.690 total time=  56.2s\n",
            "[CV 1/5] END colsample_bytree=0.6, gamma=2, learn_rate=0.01, max_depth=5, min_child_weight=1, subsample=0.6;, score=0.682 total time=  57.4s\n",
            "[CV 2/5] END colsample_bytree=0.6, gamma=2, learn_rate=0.01, max_depth=5, min_child_weight=1, subsample=0.6;, score=0.687 total time=  57.3s\n",
            "[CV 3/5] END colsample_bytree=0.6, gamma=2, learn_rate=0.01, max_depth=5, min_child_weight=1, subsample=0.6;, score=0.684 total time=  56.9s\n",
            "[CV 4/5] END colsample_bytree=0.6, gamma=2, learn_rate=0.01, max_depth=5, min_child_weight=1, subsample=0.6;, score=0.700 total time=  57.2s\n",
            "[CV 5/5] END colsample_bytree=0.6, gamma=2, learn_rate=0.01, max_depth=5, min_child_weight=1, subsample=0.6;, score=0.689 total time=  57.0s\n",
            "[CV 1/5] END colsample_bytree=0.8, gamma=1, learn_rate=0.01, max_depth=5, min_child_weight=1, subsample=0.6;, score=0.692 total time=  56.1s\n",
            "[CV 2/5] END colsample_bytree=0.8, gamma=1, learn_rate=0.01, max_depth=5, min_child_weight=1, subsample=0.6;, score=0.713 total time=  56.1s\n",
            "[CV 3/5] END colsample_bytree=0.8, gamma=1, learn_rate=0.01, max_depth=5, min_child_weight=1, subsample=0.6;, score=0.698 total time=  55.4s\n",
            "[CV 4/5] END colsample_bytree=0.8, gamma=1, learn_rate=0.01, max_depth=5, min_child_weight=1, subsample=0.6;, score=0.702 total time=  55.4s\n",
            "[CV 5/5] END colsample_bytree=0.8, gamma=1, learn_rate=0.01, max_depth=5, min_child_weight=1, subsample=0.6;, score=0.695 total time=  55.5s\n",
            "[CV 1/5] END colsample_bytree=0.8, gamma=1.5, learn_rate=0.03, max_depth=4, min_child_weight=10, subsample=0.6;, score=0.656 total time=  53.2s\n",
            "[CV 2/5] END colsample_bytree=0.8, gamma=1.5, learn_rate=0.03, max_depth=4, min_child_weight=10, subsample=0.6;, score=0.670 total time=  53.2s\n",
            "[CV 3/5] END colsample_bytree=0.8, gamma=1.5, learn_rate=0.03, max_depth=4, min_child_weight=10, subsample=0.6;, score=0.669 total time=  52.5s\n",
            "[CV 4/5] END colsample_bytree=0.8, gamma=1.5, learn_rate=0.03, max_depth=4, min_child_weight=10, subsample=0.6;, score=0.679 total time=  52.6s\n",
            "[CV 5/5] END colsample_bytree=0.8, gamma=1.5, learn_rate=0.03, max_depth=4, min_child_weight=10, subsample=0.6;, score=0.674 total time=  53.0s\n",
            "[CV 1/5] END colsample_bytree=1.0, gamma=5, learn_rate=0.03, max_depth=4, min_child_weight=1, subsample=1.0;, score=0.636 total time=  52.0s\n",
            "[CV 2/5] END colsample_bytree=1.0, gamma=5, learn_rate=0.03, max_depth=4, min_child_weight=1, subsample=1.0;, score=0.671 total time=  52.1s\n",
            "[CV 3/5] END colsample_bytree=1.0, gamma=5, learn_rate=0.03, max_depth=4, min_child_weight=1, subsample=1.0;, score=0.667 total time=  51.8s\n",
            "[CV 4/5] END colsample_bytree=1.0, gamma=5, learn_rate=0.03, max_depth=4, min_child_weight=1, subsample=1.0;, score=0.669 total time=  51.7s\n",
            "[CV 5/5] END colsample_bytree=1.0, gamma=5, learn_rate=0.03, max_depth=4, min_child_weight=1, subsample=1.0;, score=0.667 total time=  51.9s\n",
            "[CV 1/5] END colsample_bytree=0.8, gamma=0.5, learn_rate=0.03, max_depth=5, min_child_weight=1, subsample=0.6;, score=0.692 total time=  56.1s\n",
            "[CV 2/5] END colsample_bytree=0.8, gamma=0.5, learn_rate=0.03, max_depth=5, min_child_weight=1, subsample=0.6;, score=0.709 total time=  56.3s\n",
            "[CV 3/5] END colsample_bytree=0.8, gamma=0.5, learn_rate=0.03, max_depth=5, min_child_weight=1, subsample=0.6;, score=0.698 total time=  55.7s\n",
            "[CV 4/5] END colsample_bytree=0.8, gamma=0.5, learn_rate=0.03, max_depth=5, min_child_weight=1, subsample=0.6;, score=0.704 total time=  55.4s\n",
            "[CV 5/5] END colsample_bytree=0.8, gamma=0.5, learn_rate=0.03, max_depth=5, min_child_weight=1, subsample=0.6;, score=0.701 total time=  55.7s\n",
            "[CV 1/5] END colsample_bytree=1.0, gamma=1.5, learn_rate=0.01, max_depth=5, min_child_weight=1, subsample=0.6;, score=0.695 total time=  55.4s\n",
            "[CV 2/5] END colsample_bytree=1.0, gamma=1.5, learn_rate=0.01, max_depth=5, min_child_weight=1, subsample=0.6;, score=0.716 total time=  55.4s\n",
            "[CV 3/5] END colsample_bytree=1.0, gamma=1.5, learn_rate=0.01, max_depth=5, min_child_weight=1, subsample=0.6;, score=0.707 total time=  54.7s\n",
            "[CV 4/5] END colsample_bytree=1.0, gamma=1.5, learn_rate=0.01, max_depth=5, min_child_weight=1, subsample=0.6;, score=0.703 total time=  54.7s\n",
            "[CV 5/5] END colsample_bytree=1.0, gamma=1.5, learn_rate=0.01, max_depth=5, min_child_weight=1, subsample=0.6;, score=0.707 total time=  55.2s\n",
            "[CV 1/5] END colsample_bytree=1.0, gamma=0.5, learn_rate=0.03, max_depth=3, min_child_weight=10, subsample=1.0;, score=0.557 total time=  50.2s\n",
            "[CV 2/5] END colsample_bytree=1.0, gamma=0.5, learn_rate=0.03, max_depth=3, min_child_weight=10, subsample=1.0;, score=0.604 total time=  50.2s\n",
            "[CV 3/5] END colsample_bytree=1.0, gamma=0.5, learn_rate=0.03, max_depth=3, min_child_weight=10, subsample=1.0;, score=0.609 total time=  49.7s\n",
            "[CV 4/5] END colsample_bytree=1.0, gamma=0.5, learn_rate=0.03, max_depth=3, min_child_weight=10, subsample=1.0;, score=0.633 total time=  49.6s\n",
            "[CV 5/5] END colsample_bytree=1.0, gamma=0.5, learn_rate=0.03, max_depth=3, min_child_weight=10, subsample=1.0;, score=0.624 total time=  49.9s\n",
            "[CV 1/5] END colsample_bytree=1.0, gamma=0.5, learn_rate=0.01, max_depth=4, min_child_weight=5, subsample=0.8;, score=0.655 total time=  53.4s\n",
            "[CV 2/5] END colsample_bytree=1.0, gamma=0.5, learn_rate=0.01, max_depth=4, min_child_weight=5, subsample=0.8;, score=0.674 total time=  53.2s\n",
            "[CV 3/5] END colsample_bytree=1.0, gamma=0.5, learn_rate=0.01, max_depth=4, min_child_weight=5, subsample=0.8;, score=0.663 total time=  52.8s\n",
            "[CV 4/5] END colsample_bytree=1.0, gamma=0.5, learn_rate=0.01, max_depth=4, min_child_weight=5, subsample=0.8;, score=0.671 total time=  52.8s\n",
            "[CV 5/5] END colsample_bytree=1.0, gamma=0.5, learn_rate=0.01, max_depth=4, min_child_weight=5, subsample=0.8;, score=0.664 total time=  53.0s\n",
            "[CV 1/5] END colsample_bytree=0.8, gamma=0.5, learn_rate=0.01, max_depth=3, min_child_weight=5, subsample=1.0;, score=0.568 total time=  50.3s\n",
            "[CV 2/5] END colsample_bytree=0.8, gamma=0.5, learn_rate=0.01, max_depth=3, min_child_weight=5, subsample=1.0;, score=0.614 total time=  50.6s\n",
            "[CV 3/5] END colsample_bytree=0.8, gamma=0.5, learn_rate=0.01, max_depth=3, min_child_weight=5, subsample=1.0;, score=0.617 total time=  50.0s\n",
            "[CV 4/5] END colsample_bytree=0.8, gamma=0.5, learn_rate=0.01, max_depth=3, min_child_weight=5, subsample=1.0;, score=0.624 total time=  50.1s\n",
            "[CV 5/5] END colsample_bytree=0.8, gamma=0.5, learn_rate=0.01, max_depth=3, min_child_weight=5, subsample=1.0;, score=0.611 total time=  50.1s\n",
            "[CV 1/5] END colsample_bytree=1.0, gamma=0.5, learn_rate=0.03, max_depth=5, min_child_weight=1, subsample=0.8;, score=0.687 total time=  56.0s\n",
            "[CV 2/5] END colsample_bytree=1.0, gamma=0.5, learn_rate=0.03, max_depth=5, min_child_weight=1, subsample=0.8;, score=0.712 total time=  55.9s\n",
            "[CV 3/5] END colsample_bytree=1.0, gamma=0.5, learn_rate=0.03, max_depth=5, min_child_weight=1, subsample=0.8;, score=0.699 total time=  55.1s\n",
            "[CV 4/5] END colsample_bytree=1.0, gamma=0.5, learn_rate=0.03, max_depth=5, min_child_weight=1, subsample=0.8;, score=0.703 total time=  55.1s\n",
            "[CV 5/5] END colsample_bytree=1.0, gamma=0.5, learn_rate=0.03, max_depth=5, min_child_weight=1, subsample=0.8;, score=0.698 total time=  55.3s\n",
            "[CV 1/5] END colsample_bytree=1.0, gamma=1.5, learn_rate=0.03, max_depth=3, min_child_weight=1, subsample=1.0;, score=0.559 total time=  49.9s\n",
            "[CV 2/5] END colsample_bytree=1.0, gamma=1.5, learn_rate=0.03, max_depth=3, min_child_weight=1, subsample=1.0;, score=0.604 total time=  49.9s\n",
            "[CV 3/5] END colsample_bytree=1.0, gamma=1.5, learn_rate=0.03, max_depth=3, min_child_weight=1, subsample=1.0;, score=0.611 total time=  49.5s\n",
            "[CV 4/5] END colsample_bytree=1.0, gamma=1.5, learn_rate=0.03, max_depth=3, min_child_weight=1, subsample=1.0;, score=0.633 total time=  49.5s\n",
            "[CV 5/5] END colsample_bytree=1.0, gamma=1.5, learn_rate=0.03, max_depth=3, min_child_weight=1, subsample=1.0;, score=0.619 total time=  49.9s\n",
            "[CV 1/5] END colsample_bytree=0.8, gamma=0.5, learn_rate=0.03, max_depth=5, min_child_weight=10, subsample=0.8;, score=0.704 total time=  56.8s\n",
            "[CV 2/5] END colsample_bytree=0.8, gamma=0.5, learn_rate=0.03, max_depth=5, min_child_weight=10, subsample=0.8;, score=0.708 total time=  56.7s\n",
            "[CV 3/5] END colsample_bytree=0.8, gamma=0.5, learn_rate=0.03, max_depth=5, min_child_weight=10, subsample=0.8;, score=0.694 total time=  55.9s\n",
            "[CV 4/5] END colsample_bytree=0.8, gamma=0.5, learn_rate=0.03, max_depth=5, min_child_weight=10, subsample=0.8;, score=0.710 total time=  55.7s\n",
            "[CV 5/5] END colsample_bytree=0.8, gamma=0.5, learn_rate=0.03, max_depth=5, min_child_weight=10, subsample=0.8;, score=0.695 total time=  56.0s\n",
            "[CV 1/5] END colsample_bytree=0.6, gamma=0.5, learn_rate=0.03, max_depth=5, min_child_weight=1, subsample=0.6;, score=0.684 total time=  57.5s\n",
            "[CV 2/5] END colsample_bytree=0.6, gamma=0.5, learn_rate=0.03, max_depth=5, min_child_weight=1, subsample=0.6;, score=0.687 total time=  57.6s\n",
            "[CV 3/5] END colsample_bytree=0.6, gamma=0.5, learn_rate=0.03, max_depth=5, min_child_weight=1, subsample=0.6;, score=0.684 total time=  56.9s\n",
            "[CV 4/5] END colsample_bytree=0.6, gamma=0.5, learn_rate=0.03, max_depth=5, min_child_weight=1, subsample=0.6;, score=0.701 total time=  56.7s\n",
            "[CV 5/5] END colsample_bytree=0.6, gamma=0.5, learn_rate=0.03, max_depth=5, min_child_weight=1, subsample=0.6;, score=0.689 total time=  57.0s\n",
            "[CV 1/5] END colsample_bytree=0.8, gamma=5, learn_rate=0.01, max_depth=4, min_child_weight=10, subsample=0.6;, score=0.656 total time=  53.3s\n",
            "[CV 2/5] END colsample_bytree=0.8, gamma=5, learn_rate=0.01, max_depth=4, min_child_weight=10, subsample=0.6;, score=0.669 total time=  53.4s\n",
            "[CV 3/5] END colsample_bytree=0.8, gamma=5, learn_rate=0.01, max_depth=4, min_child_weight=10, subsample=0.6;, score=0.669 total time=  53.1s\n",
            "[CV 4/5] END colsample_bytree=0.8, gamma=5, learn_rate=0.01, max_depth=4, min_child_weight=10, subsample=0.6;, score=0.679 total time=  53.0s\n",
            "[CV 5/5] END colsample_bytree=0.8, gamma=5, learn_rate=0.01, max_depth=4, min_child_weight=10, subsample=0.6;, score=0.674 total time=  53.2s\n",
            "[CV 1/5] END colsample_bytree=1.0, gamma=0.5, learn_rate=0.01, max_depth=3, min_child_weight=5, subsample=0.6;, score=0.563 total time=  50.5s\n",
            "[CV 2/5] END colsample_bytree=1.0, gamma=0.5, learn_rate=0.01, max_depth=3, min_child_weight=5, subsample=0.6;, score=0.605 total time=  50.3s\n",
            "[CV 3/5] END colsample_bytree=1.0, gamma=0.5, learn_rate=0.01, max_depth=3, min_child_weight=5, subsample=0.6;, score=0.617 total time=  49.9s\n",
            "[CV 4/5] END colsample_bytree=1.0, gamma=0.5, learn_rate=0.01, max_depth=3, min_child_weight=5, subsample=0.6;, score=0.628 total time=  50.0s\n",
            "[CV 5/5] END colsample_bytree=1.0, gamma=0.5, learn_rate=0.01, max_depth=3, min_child_weight=5, subsample=0.6;, score=0.621 total time=  50.5s\n",
            "[CV 1/5] END colsample_bytree=0.8, gamma=0.5, learn_rate=0.01, max_depth=3, min_child_weight=10, subsample=1.0;, score=0.569 total time=  50.0s\n",
            "[CV 2/5] END colsample_bytree=0.8, gamma=0.5, learn_rate=0.01, max_depth=3, min_child_weight=10, subsample=1.0;, score=0.614 total time=  50.2s\n",
            "[CV 3/5] END colsample_bytree=0.8, gamma=0.5, learn_rate=0.01, max_depth=3, min_child_weight=10, subsample=1.0;, score=0.617 total time=  49.9s\n",
            "[CV 4/5] END colsample_bytree=0.8, gamma=0.5, learn_rate=0.01, max_depth=3, min_child_weight=10, subsample=1.0;, score=0.621 total time=  49.7s\n",
            "[CV 5/5] END colsample_bytree=0.8, gamma=0.5, learn_rate=0.01, max_depth=3, min_child_weight=10, subsample=1.0;, score=0.611 total time=  50.3s\n",
            "[CV 1/5] END colsample_bytree=0.8, gamma=1.5, learn_rate=0.03, max_depth=3, min_child_weight=10, subsample=0.8;, score=0.566 total time=  51.2s\n",
            "[CV 2/5] END colsample_bytree=0.8, gamma=1.5, learn_rate=0.03, max_depth=3, min_child_weight=10, subsample=0.8;, score=0.607 total time=  51.2s\n",
            "[CV 3/5] END colsample_bytree=0.8, gamma=1.5, learn_rate=0.03, max_depth=3, min_child_weight=10, subsample=0.8;, score=0.615 total time=  51.0s\n",
            "[CV 4/5] END colsample_bytree=0.8, gamma=1.5, learn_rate=0.03, max_depth=3, min_child_weight=10, subsample=0.8;, score=0.623 total time=  50.4s\n",
            "[CV 5/5] END colsample_bytree=0.8, gamma=1.5, learn_rate=0.03, max_depth=3, min_child_weight=10, subsample=0.8;, score=0.617 total time=  50.6s\n",
            "[CV 1/5] END colsample_bytree=0.8, gamma=1, learn_rate=0.01, max_depth=3, min_child_weight=5, subsample=0.6;, score=0.566 total time=  50.5s\n",
            "[CV 2/5] END colsample_bytree=0.8, gamma=1, learn_rate=0.01, max_depth=3, min_child_weight=5, subsample=0.6;, score=0.606 total time=  50.3s\n",
            "[CV 3/5] END colsample_bytree=0.8, gamma=1, learn_rate=0.01, max_depth=3, min_child_weight=5, subsample=0.6;, score=0.617 total time=  50.2s\n",
            "[CV 4/5] END colsample_bytree=0.8, gamma=1, learn_rate=0.01, max_depth=3, min_child_weight=5, subsample=0.6;, score=0.625 total time=  50.3s\n",
            "[CV 5/5] END colsample_bytree=0.8, gamma=1, learn_rate=0.01, max_depth=3, min_child_weight=5, subsample=0.6;, score=0.613 total time=  50.9s\n",
            "[CV 1/5] END colsample_bytree=0.6, gamma=2, learn_rate=0.01, max_depth=5, min_child_weight=5, subsample=0.8;, score=0.691 total time=  58.2s\n",
            "[CV 2/5] END colsample_bytree=0.6, gamma=2, learn_rate=0.01, max_depth=5, min_child_weight=5, subsample=0.8;, score=0.690 total time=  58.3s\n",
            "[CV 3/5] END colsample_bytree=0.6, gamma=2, learn_rate=0.01, max_depth=5, min_child_weight=5, subsample=0.8;, score=0.682 total time=  57.6s\n",
            "[CV 4/5] END colsample_bytree=0.6, gamma=2, learn_rate=0.01, max_depth=5, min_child_weight=5, subsample=0.8;, score=0.692 total time=  57.5s\n",
            "[CV 5/5] END colsample_bytree=0.6, gamma=2, learn_rate=0.01, max_depth=5, min_child_weight=5, subsample=0.8;, score=0.683 total time=  57.7s\n",
            "[CV 1/5] END colsample_bytree=1.0, gamma=1, learn_rate=0.01, max_depth=4, min_child_weight=5, subsample=1.0;, score=0.647 total time=  52.5s\n",
            "[CV 2/5] END colsample_bytree=1.0, gamma=1, learn_rate=0.01, max_depth=4, min_child_weight=5, subsample=1.0;, score=0.670 total time=  52.5s\n",
            "[CV 3/5] END colsample_bytree=1.0, gamma=1, learn_rate=0.01, max_depth=4, min_child_weight=5, subsample=1.0;, score=0.670 total time=  51.9s\n",
            "[CV 4/5] END colsample_bytree=1.0, gamma=1, learn_rate=0.01, max_depth=4, min_child_weight=5, subsample=1.0;, score=0.669 total time=  51.9s\n",
            "[CV 5/5] END colsample_bytree=1.0, gamma=1, learn_rate=0.01, max_depth=4, min_child_weight=5, subsample=1.0;, score=0.669 total time=  52.1s\n",
            "[CV 1/5] END colsample_bytree=0.6, gamma=1.5, learn_rate=0.03, max_depth=4, min_child_weight=5, subsample=1.0;, score=0.629 total time=  54.0s\n",
            "[CV 2/5] END colsample_bytree=0.6, gamma=1.5, learn_rate=0.03, max_depth=4, min_child_weight=5, subsample=1.0;, score=0.664 total time=  54.1s\n",
            "[CV 3/5] END colsample_bytree=0.6, gamma=1.5, learn_rate=0.03, max_depth=4, min_child_weight=5, subsample=1.0;, score=0.666 total time=  53.6s\n",
            "[CV 4/5] END colsample_bytree=0.6, gamma=1.5, learn_rate=0.03, max_depth=4, min_child_weight=5, subsample=1.0;, score=0.671 total time=  53.3s\n",
            "[CV 5/5] END colsample_bytree=0.6, gamma=1.5, learn_rate=0.03, max_depth=4, min_child_weight=5, subsample=1.0;, score=0.659 total time=  53.6s\n",
            "[CV 1/5] END colsample_bytree=0.6, gamma=5, learn_rate=0.03, max_depth=3, min_child_weight=10, subsample=0.6;, score=0.569 total time=  51.3s\n",
            "[CV 2/5] END colsample_bytree=0.6, gamma=5, learn_rate=0.03, max_depth=3, min_child_weight=10, subsample=0.6;, score=0.612 total time=  50.7s\n",
            "[CV 3/5] END colsample_bytree=0.6, gamma=5, learn_rate=0.03, max_depth=3, min_child_weight=10, subsample=0.6;, score=0.603 total time=  50.3s\n",
            "[CV 4/5] END colsample_bytree=0.6, gamma=5, learn_rate=0.03, max_depth=3, min_child_weight=10, subsample=0.6;, score=0.618 total time=  50.4s\n",
            "[CV 5/5] END colsample_bytree=0.6, gamma=5, learn_rate=0.03, max_depth=3, min_child_weight=10, subsample=0.6;, score=0.615 total time=  50.6s\n",
            "[CV 1/5] END colsample_bytree=1.0, gamma=1.5, learn_rate=0.03, max_depth=5, min_child_weight=1, subsample=0.6;, score=0.693 total time=  55.1s\n",
            "[CV 2/5] END colsample_bytree=1.0, gamma=1.5, learn_rate=0.03, max_depth=5, min_child_weight=1, subsample=0.6;, score=0.703 total time=  54.9s\n",
            "[CV 3/5] END colsample_bytree=1.0, gamma=1.5, learn_rate=0.03, max_depth=5, min_child_weight=1, subsample=0.6;, score=0.706 total time=  54.5s\n",
            "[CV 4/5] END colsample_bytree=1.0, gamma=1.5, learn_rate=0.03, max_depth=5, min_child_weight=1, subsample=0.6;, score=0.703 total time=  54.3s\n",
            "[CV 5/5] END colsample_bytree=1.0, gamma=1.5, learn_rate=0.03, max_depth=5, min_child_weight=1, subsample=0.6;, score=0.704 total time=  54.7s\n",
            "[CV 1/5] END colsample_bytree=0.6, gamma=2, learn_rate=0.01, max_depth=3, min_child_weight=1, subsample=0.8;, score=0.564 total time=  51.5s\n",
            "[CV 2/5] END colsample_bytree=0.6, gamma=2, learn_rate=0.01, max_depth=3, min_child_weight=1, subsample=0.8;, score=0.611 total time=  51.6s\n",
            "[CV 3/5] END colsample_bytree=0.6, gamma=2, learn_rate=0.01, max_depth=3, min_child_weight=1, subsample=0.8;, score=0.597 total time=  51.4s\n",
            "[CV 4/5] END colsample_bytree=0.6, gamma=2, learn_rate=0.01, max_depth=3, min_child_weight=1, subsample=0.8;, score=0.618 total time=  51.4s\n",
            "[CV 5/5] END colsample_bytree=0.6, gamma=2, learn_rate=0.01, max_depth=3, min_child_weight=1, subsample=0.8;, score=0.605 total time=  51.5s\n",
            "[CV 1/5] END colsample_bytree=1.0, gamma=2, learn_rate=0.03, max_depth=4, min_child_weight=5, subsample=0.8;, score=0.655 total time=  53.5s\n",
            "[CV 2/5] END colsample_bytree=1.0, gamma=2, learn_rate=0.03, max_depth=4, min_child_weight=5, subsample=0.8;, score=0.674 total time=  53.3s\n",
            "[CV 3/5] END colsample_bytree=1.0, gamma=2, learn_rate=0.03, max_depth=4, min_child_weight=5, subsample=0.8;, score=0.663 total time=  52.8s\n",
            "[CV 4/5] END colsample_bytree=1.0, gamma=2, learn_rate=0.03, max_depth=4, min_child_weight=5, subsample=0.8;, score=0.671 total time=  52.9s\n",
            "[CV 5/5] END colsample_bytree=1.0, gamma=2, learn_rate=0.03, max_depth=4, min_child_weight=5, subsample=0.8;, score=0.666 total time=  52.4s\n",
            "[CV 1/5] END colsample_bytree=1.0, gamma=5, learn_rate=0.01, max_depth=3, min_child_weight=10, subsample=0.8;, score=0.561 total time=  50.3s\n",
            "[CV 2/5] END colsample_bytree=1.0, gamma=5, learn_rate=0.01, max_depth=3, min_child_weight=10, subsample=0.8;, score=0.601 total time=  50.3s\n",
            "[CV 3/5] END colsample_bytree=1.0, gamma=5, learn_rate=0.01, max_depth=3, min_child_weight=10, subsample=0.8;, score=0.616 total time=  49.9s\n",
            "[CV 4/5] END colsample_bytree=1.0, gamma=5, learn_rate=0.01, max_depth=3, min_child_weight=10, subsample=0.8;, score=0.629 total time=  50.0s\n",
            "[CV 5/5] END colsample_bytree=1.0, gamma=5, learn_rate=0.01, max_depth=3, min_child_weight=10, subsample=0.8;, score=0.624 total time=  50.4s\n",
            "[CV 1/5] END colsample_bytree=0.8, gamma=2, learn_rate=0.01, max_depth=5, min_child_weight=1, subsample=0.6;, score=0.692 total time=  56.2s\n",
            "[CV 2/5] END colsample_bytree=0.8, gamma=2, learn_rate=0.01, max_depth=5, min_child_weight=1, subsample=0.6;, score=0.711 total time=  56.4s\n",
            "[CV 3/5] END colsample_bytree=0.8, gamma=2, learn_rate=0.01, max_depth=5, min_child_weight=1, subsample=0.6;, score=0.701 total time=  55.7s\n",
            "[CV 4/5] END colsample_bytree=0.8, gamma=2, learn_rate=0.01, max_depth=5, min_child_weight=1, subsample=0.6;, score=0.705 total time=  55.5s\n",
            "[CV 5/5] END colsample_bytree=0.8, gamma=2, learn_rate=0.01, max_depth=5, min_child_weight=1, subsample=0.6;, score=0.697 total time=  55.7s\n",
            "[CV 1/5] END colsample_bytree=0.8, gamma=1, learn_rate=0.01, max_depth=5, min_child_weight=10, subsample=0.6;, score=0.700 total time=  56.4s\n",
            "[CV 2/5] END colsample_bytree=0.8, gamma=1, learn_rate=0.01, max_depth=5, min_child_weight=10, subsample=0.6;, score=0.712 total time=  56.3s\n",
            "[CV 3/5] END colsample_bytree=0.8, gamma=1, learn_rate=0.01, max_depth=5, min_child_weight=10, subsample=0.6;, score=0.692 total time=  55.6s\n",
            "[CV 4/5] END colsample_bytree=0.8, gamma=1, learn_rate=0.01, max_depth=5, min_child_weight=10, subsample=0.6;, score=0.704 total time=  55.7s\n",
            "[CV 5/5] END colsample_bytree=0.8, gamma=1, learn_rate=0.01, max_depth=5, min_child_weight=10, subsample=0.6;, score=0.692 total time=  56.1s\n",
            "[CV 1/5] END colsample_bytree=0.8, gamma=1.5, learn_rate=0.01, max_depth=3, min_child_weight=1, subsample=1.0;, score=0.569 total time=  50.5s\n",
            "[CV 2/5] END colsample_bytree=0.8, gamma=1.5, learn_rate=0.01, max_depth=3, min_child_weight=1, subsample=1.0;, score=0.613 total time=  49.9s\n",
            "[CV 3/5] END colsample_bytree=0.8, gamma=1.5, learn_rate=0.01, max_depth=3, min_child_weight=1, subsample=1.0;, score=0.617 total time=  49.7s\n",
            "[CV 4/5] END colsample_bytree=0.8, gamma=1.5, learn_rate=0.01, max_depth=3, min_child_weight=1, subsample=1.0;, score=0.623 total time=  49.5s\n",
            "[CV 5/5] END colsample_bytree=0.8, gamma=1.5, learn_rate=0.01, max_depth=3, min_child_weight=1, subsample=1.0;, score=0.613 total time=  49.7s\n",
            "[CV 1/5] END colsample_bytree=0.8, gamma=1, learn_rate=0.01, max_depth=4, min_child_weight=10, subsample=0.6;, score=0.661 total time=  53.2s\n",
            "[CV 2/5] END colsample_bytree=0.8, gamma=1, learn_rate=0.01, max_depth=4, min_child_weight=10, subsample=0.6;, score=0.669 total time=  53.5s\n",
            "[CV 3/5] END colsample_bytree=0.8, gamma=1, learn_rate=0.01, max_depth=4, min_child_weight=10, subsample=0.6;, score=0.669 total time=  53.0s\n",
            "[CV 4/5] END colsample_bytree=0.8, gamma=1, learn_rate=0.01, max_depth=4, min_child_weight=10, subsample=0.6;, score=0.678 total time=  52.8s\n",
            "[CV 5/5] END colsample_bytree=0.8, gamma=1, learn_rate=0.01, max_depth=4, min_child_weight=10, subsample=0.6;, score=0.674 total time=  53.3s\n",
            "[CV 1/5] END colsample_bytree=1.0, gamma=1.5, learn_rate=0.01, max_depth=3, min_child_weight=5, subsample=0.6;, score=0.560 total time=  50.3s\n",
            "[CV 2/5] END colsample_bytree=1.0, gamma=1.5, learn_rate=0.01, max_depth=3, min_child_weight=5, subsample=0.6;, score=0.604 total time=  50.4s\n",
            "[CV 3/5] END colsample_bytree=1.0, gamma=1.5, learn_rate=0.01, max_depth=3, min_child_weight=5, subsample=0.6;, score=0.617 total time=  50.1s\n",
            "[CV 4/5] END colsample_bytree=1.0, gamma=1.5, learn_rate=0.01, max_depth=3, min_child_weight=5, subsample=0.6;, score=0.626 total time=  50.1s\n",
            "[CV 5/5] END colsample_bytree=1.0, gamma=1.5, learn_rate=0.01, max_depth=3, min_child_weight=5, subsample=0.6;, score=0.621 total time=  50.5s\n",
            "[CV 1/5] END colsample_bytree=0.8, gamma=5, learn_rate=0.03, max_depth=4, min_child_weight=10, subsample=0.6;, score=0.656 total time=  53.6s\n",
            "[CV 2/5] END colsample_bytree=0.8, gamma=5, learn_rate=0.03, max_depth=4, min_child_weight=10, subsample=0.6;, score=0.669 total time=  53.7s\n",
            "[CV 3/5] END colsample_bytree=0.8, gamma=5, learn_rate=0.03, max_depth=4, min_child_weight=10, subsample=0.6;, score=0.669 total time=  53.2s\n",
            "[CV 4/5] END colsample_bytree=0.8, gamma=5, learn_rate=0.03, max_depth=4, min_child_weight=10, subsample=0.6;, score=0.679 total time=  52.7s\n",
            "[CV 5/5] END colsample_bytree=0.8, gamma=5, learn_rate=0.03, max_depth=4, min_child_weight=10, subsample=0.6;, score=0.674 total time=  53.1s\n",
            "[CV 1/5] END colsample_bytree=0.8, gamma=2, learn_rate=0.01, max_depth=3, min_child_weight=10, subsample=0.8;, score=0.563 total time=  51.2s\n",
            "[CV 2/5] END colsample_bytree=0.8, gamma=2, learn_rate=0.01, max_depth=3, min_child_weight=10, subsample=0.8;, score=0.607 total time=  51.7s\n",
            "[CV 3/5] END colsample_bytree=0.8, gamma=2, learn_rate=0.01, max_depth=3, min_child_weight=10, subsample=0.8;, score=0.615 total time=  51.0s\n",
            "[CV 4/5] END colsample_bytree=0.8, gamma=2, learn_rate=0.01, max_depth=3, min_child_weight=10, subsample=0.8;, score=0.623 total time=  50.9s\n",
            "[CV 5/5] END colsample_bytree=0.8, gamma=2, learn_rate=0.01, max_depth=3, min_child_weight=10, subsample=0.8;, score=0.612 total time=  51.1s\n",
            "[CV 1/5] END colsample_bytree=0.8, gamma=1, learn_rate=0.03, max_depth=5, min_child_weight=1, subsample=1.0;, score=0.688 total time=  55.9s\n",
            "[CV 2/5] END colsample_bytree=0.8, gamma=1, learn_rate=0.03, max_depth=5, min_child_weight=1, subsample=1.0;, score=0.709 total time=  55.8s\n",
            "[CV 3/5] END colsample_bytree=0.8, gamma=1, learn_rate=0.03, max_depth=5, min_child_weight=1, subsample=1.0;, score=0.697 total time=  55.1s\n",
            "[CV 4/5] END colsample_bytree=0.8, gamma=1, learn_rate=0.03, max_depth=5, min_child_weight=1, subsample=1.0;, score=0.686 total time=  55.1s\n",
            "[CV 5/5] END colsample_bytree=0.8, gamma=1, learn_rate=0.03, max_depth=5, min_child_weight=1, subsample=1.0;, score=0.701 total time=  55.1s\n",
            "[CV 1/5] END colsample_bytree=1.0, gamma=1, learn_rate=0.03, max_depth=3, min_child_weight=5, subsample=0.8;, score=0.560 total time=  50.7s\n",
            "[CV 2/5] END colsample_bytree=1.0, gamma=1, learn_rate=0.03, max_depth=3, min_child_weight=5, subsample=0.8;, score=0.601 total time=  50.9s\n",
            "[CV 3/5] END colsample_bytree=1.0, gamma=1, learn_rate=0.03, max_depth=3, min_child_weight=5, subsample=0.8;, score=0.619 total time=  50.4s\n",
            "[CV 4/5] END colsample_bytree=1.0, gamma=1, learn_rate=0.03, max_depth=3, min_child_weight=5, subsample=0.8;, score=0.625 total time=  50.4s\n",
            "[CV 5/5] END colsample_bytree=1.0, gamma=1, learn_rate=0.03, max_depth=3, min_child_weight=5, subsample=0.8;, score=0.623 total time=  50.6s\n"
          ]
        },
        {
          "output_type": "execute_result",
          "data": {
            "text/plain": [
              "RandomizedSearchCV(estimator=XGBClassifier(eval_metric='mlogloss',\n",
              "                                           objective='multi:softmax',\n",
              "                                           silent=True,\n",
              "                                           tree_method='gpu_hist'),\n",
              "                   n_iter=50,\n",
              "                   param_distributions={'colsample_bytree': [0.6, 0.8, 1.0],\n",
              "                                        'gamma': [0.5, 1, 1.5, 2, 5],\n",
              "                                        'learn_rate': [0.01, 0.03],\n",
              "                                        'max_depth': [3, 4, 5],\n",
              "                                        'min_child_weight': [1, 5, 10],\n",
              "                                        'subsample': [0.6, 0.8, 1.0]},\n",
              "                   random_state=1001, scoring='f1_macro', verbose=3)"
            ]
          },
          "metadata": {},
          "execution_count": 36
        }
      ]
    },
    {
      "cell_type": "code",
      "source": [
        "print('\\n All results:')\n",
        "print(random_search.cv_results_)\n",
        "print('\\n Best estimator:')\n",
        "print(random_search.best_estimator_)\n",
        "print('\\n Best normalized gini score with %d parameter combinations:' % (param_comb))\n",
        "print(random_search.best_score_ * 2 - 1)\n",
        "print('\\n Best hyperparameters:')\n",
        "print(random_search.best_params_)"
      ],
      "metadata": {
        "colab": {
          "base_uri": "https://localhost:8080/"
        },
        "id": "1EK3xjYsI0kG",
        "outputId": "b1e31cd1-0fad-47bc-b105-d2a5ed9947f4"
      },
      "execution_count": null,
      "outputs": [
        {
          "output_type": "stream",
          "name": "stdout",
          "text": [
            "\n",
            " All results:\n",
            "{'mean_fit_time': array([54.01722579, 52.91280184, 55.22846713, 50.2399395 , 49.60846395,\n",
            "       55.01144023, 56.06003952, 48.72505145, 54.60930862, 53.62847729,\n",
            "       54.93560653, 51.81377888, 52.2423316 , 49.63665185, 55.59107499,\n",
            "       56.18808041, 54.70843468, 51.93563933, 50.92743959, 54.84779429,\n",
            "       54.04717011, 48.92247887, 52.02578907, 49.21325541, 54.4573627 ,\n",
            "       48.7551456 , 55.19917502, 56.15534315, 52.18807673, 49.278652  ,\n",
            "       49.04596181, 49.89478936, 49.45066733, 56.82859526, 51.15897913,\n",
            "       52.71370463, 49.65837445, 53.68204927, 50.48693309, 51.95480804,\n",
            "       49.22450209, 54.88355298, 55.0068469 , 48.88052506, 52.16602349,\n",
            "       49.27728934, 52.2381959 , 50.1908895 , 54.38088388, 49.61179967]), 'std_fit_time': array([0.47049542, 0.29837574, 0.32275255, 0.18295745, 0.21141496,\n",
            "       0.34142575, 0.4175091 , 0.22638048, 0.29691312, 0.24881793,\n",
            "       0.31643005, 0.31250715, 0.19592199, 0.20003564, 0.52669873,\n",
            "       0.20028762, 0.33003138, 0.30141186, 0.15062941, 0.32138565,\n",
            "       0.33268754, 0.23993286, 0.22884388, 0.21130919, 0.37582086,\n",
            "       0.19422183, 0.43634499, 0.37698791, 0.15657687, 0.24542532,\n",
            "       0.2175105 , 0.31879805, 0.25273869, 0.34682748, 0.27231275,\n",
            "       0.28813559, 0.33696376, 0.2806928 , 0.09290458, 0.3622995 ,\n",
            "       0.16240897, 0.34376065, 0.30731856, 0.34123113, 0.24725109,\n",
            "       0.17281082, 0.31116567, 0.28682715, 0.37528913, 0.15801163]), 'mean_score_time': array([0.99218774, 0.99474411, 1.00578651, 0.98217502, 0.97630587,\n",
            "       1.01692948, 1.02048836, 0.97533703, 1.01250668, 0.98261046,\n",
            "       1.00356307, 0.99454875, 0.99159055, 0.96729121, 0.99722819,\n",
            "       0.98052635, 0.98644066, 0.96746798, 0.97614198, 1.00213575,\n",
            "       1.02993255, 0.99061365, 1.01088905, 0.98872499, 1.01723919,\n",
            "       0.97968779, 1.01540289, 1.01366892, 1.00700593, 0.97634249,\n",
            "       0.97369413, 0.98382196, 0.99311748, 1.02193027, 1.0154932 ,\n",
            "       1.0116785 , 0.98955026, 1.01813622, 0.98185182, 1.00568209,\n",
            "       0.97606659, 1.02678351, 1.02828465, 0.97949939, 1.00212593,\n",
            "       0.98609548, 1.03891811, 0.99090724, 1.02120886, 0.98509841]), 'std_score_time': array([0.01345248, 0.01963898, 0.02032866, 0.01381804, 0.00668436,\n",
            "       0.01195169, 0.00802871, 0.02308141, 0.01799312, 0.01111486,\n",
            "       0.01508884, 0.01867814, 0.01350487, 0.01103118, 0.01291228,\n",
            "       0.01997206, 0.01295299, 0.03156907, 0.01522526, 0.03071245,\n",
            "       0.01608539, 0.00813644, 0.01032508, 0.0158679 , 0.00793729,\n",
            "       0.02075584, 0.0058945 , 0.0108481 , 0.00746215, 0.01796129,\n",
            "       0.01970644, 0.01156968, 0.00871947, 0.020062  , 0.00703343,\n",
            "       0.01282599, 0.02051851, 0.00863725, 0.01363701, 0.01389892,\n",
            "       0.01975384, 0.01377795, 0.02049088, 0.018936  , 0.00570361,\n",
            "       0.01759584, 0.08374591, 0.01311664, 0.00630575, 0.01226923]), 'param_subsample': masked_array(data=[0.8, 1.0, 0.6, 0.8, 0.6, 0.6, 1.0, 1.0, 1.0, 0.8, 0.6,\n",
            "                   1.0, 0.6, 0.8, 1.0, 0.6, 0.6, 0.6, 1.0, 0.6, 0.6, 1.0,\n",
            "                   0.8, 1.0, 0.8, 1.0, 0.8, 0.6, 0.6, 0.6, 1.0, 0.8, 0.6,\n",
            "                   0.8, 1.0, 1.0, 0.6, 0.6, 0.8, 0.8, 0.8, 0.6, 0.6, 1.0,\n",
            "                   0.6, 0.6, 0.6, 0.8, 1.0, 0.8],\n",
            "             mask=[False, False, False, False, False, False, False, False,\n",
            "                   False, False, False, False, False, False, False, False,\n",
            "                   False, False, False, False, False, False, False, False,\n",
            "                   False, False, False, False, False, False, False, False,\n",
            "                   False, False, False, False, False, False, False, False,\n",
            "                   False, False, False, False, False, False, False, False,\n",
            "                   False, False],\n",
            "       fill_value='?',\n",
            "            dtype=object), 'param_min_child_weight': masked_array(data=[5, 5, 10, 1, 1, 10, 10, 10, 10, 10, 5, 10, 1, 10, 1, 1,\n",
            "                   1, 10, 1, 1, 1, 10, 5, 5, 1, 1, 10, 1, 10, 5, 10, 10,\n",
            "                   5, 5, 5, 5, 10, 1, 1, 5, 10, 1, 10, 1, 10, 5, 10, 10,\n",
            "                   1, 5],\n",
            "             mask=[False, False, False, False, False, False, False, False,\n",
            "                   False, False, False, False, False, False, False, False,\n",
            "                   False, False, False, False, False, False, False, False,\n",
            "                   False, False, False, False, False, False, False, False,\n",
            "                   False, False, False, False, False, False, False, False,\n",
            "                   False, False, False, False, False, False, False, False,\n",
            "                   False, False],\n",
            "       fill_value='?',\n",
            "            dtype=object), 'param_max_depth': masked_array(data=[4, 4, 5, 3, 3, 5, 5, 3, 5, 4, 5, 4, 4, 3, 5, 5, 5, 4,\n",
            "                   4, 5, 5, 3, 4, 3, 5, 3, 5, 5, 4, 3, 3, 3, 3, 5, 4, 4,\n",
            "                   3, 5, 3, 4, 3, 5, 5, 3, 4, 3, 4, 3, 5, 3],\n",
            "             mask=[False, False, False, False, False, False, False, False,\n",
            "                   False, False, False, False, False, False, False, False,\n",
            "                   False, False, False, False, False, False, False, False,\n",
            "                   False, False, False, False, False, False, False, False,\n",
            "                   False, False, False, False, False, False, False, False,\n",
            "                   False, False, False, False, False, False, False, False,\n",
            "                   False, False],\n",
            "       fill_value='?',\n",
            "            dtype=object), 'param_learn_rate': masked_array(data=[0.01, 0.01, 0.03, 0.03, 0.03, 0.01, 0.01, 0.01, 0.03,\n",
            "                   0.01, 0.01, 0.03, 0.03, 0.01, 0.03, 0.01, 0.01, 0.03,\n",
            "                   0.03, 0.03, 0.01, 0.03, 0.01, 0.01, 0.03, 0.03, 0.03,\n",
            "                   0.03, 0.01, 0.01, 0.01, 0.03, 0.01, 0.01, 0.01, 0.03,\n",
            "                   0.03, 0.03, 0.01, 0.03, 0.01, 0.01, 0.01, 0.01, 0.01,\n",
            "                   0.01, 0.03, 0.01, 0.03, 0.03],\n",
            "             mask=[False, False, False, False, False, False, False, False,\n",
            "                   False, False, False, False, False, False, False, False,\n",
            "                   False, False, False, False, False, False, False, False,\n",
            "                   False, False, False, False, False, False, False, False,\n",
            "                   False, False, False, False, False, False, False, False,\n",
            "                   False, False, False, False, False, False, False, False,\n",
            "                   False, False],\n",
            "       fill_value='?',\n",
            "            dtype=object), 'param_gamma': masked_array(data=[2, 2, 2, 0.5, 2, 2, 1, 0.5, 1, 1, 1, 5, 5, 1, 5, 2, 1,\n",
            "                   1.5, 5, 0.5, 1.5, 0.5, 0.5, 0.5, 0.5, 1.5, 0.5, 0.5, 5,\n",
            "                   0.5, 0.5, 1.5, 1, 2, 1, 1.5, 5, 1.5, 2, 2, 5, 2, 1,\n",
            "                   1.5, 1, 1.5, 5, 2, 1, 1],\n",
            "             mask=[False, False, False, False, False, False, False, False,\n",
            "                   False, False, False, False, False, False, False, False,\n",
            "                   False, False, False, False, False, False, False, False,\n",
            "                   False, False, False, False, False, False, False, False,\n",
            "                   False, False, False, False, False, False, False, False,\n",
            "                   False, False, False, False, False, False, False, False,\n",
            "                   False, False],\n",
            "       fill_value='?',\n",
            "            dtype=object), 'param_colsample_bytree': masked_array(data=[0.6, 0.6, 0.8, 0.8, 1.0, 0.8, 0.6, 1.0, 0.8, 0.6, 0.8,\n",
            "                   0.8, 0.8, 1.0, 0.6, 0.6, 0.8, 0.8, 1.0, 0.8, 1.0, 1.0,\n",
            "                   1.0, 0.8, 1.0, 1.0, 0.8, 0.6, 0.8, 1.0, 0.8, 0.8, 0.8,\n",
            "                   0.6, 1.0, 0.6, 0.6, 1.0, 0.6, 1.0, 1.0, 0.8, 0.8, 0.8,\n",
            "                   0.8, 1.0, 0.8, 0.8, 0.8, 1.0],\n",
            "             mask=[False, False, False, False, False, False, False, False,\n",
            "                   False, False, False, False, False, False, False, False,\n",
            "                   False, False, False, False, False, False, False, False,\n",
            "                   False, False, False, False, False, False, False, False,\n",
            "                   False, False, False, False, False, False, False, False,\n",
            "                   False, False, False, False, False, False, False, False,\n",
            "                   False, False],\n",
            "       fill_value='?',\n",
            "            dtype=object), 'params': [{'subsample': 0.8, 'min_child_weight': 5, 'max_depth': 4, 'learn_rate': 0.01, 'gamma': 2, 'colsample_bytree': 0.6}, {'subsample': 1.0, 'min_child_weight': 5, 'max_depth': 4, 'learn_rate': 0.01, 'gamma': 2, 'colsample_bytree': 0.6}, {'subsample': 0.6, 'min_child_weight': 10, 'max_depth': 5, 'learn_rate': 0.03, 'gamma': 2, 'colsample_bytree': 0.8}, {'subsample': 0.8, 'min_child_weight': 1, 'max_depth': 3, 'learn_rate': 0.03, 'gamma': 0.5, 'colsample_bytree': 0.8}, {'subsample': 0.6, 'min_child_weight': 1, 'max_depth': 3, 'learn_rate': 0.03, 'gamma': 2, 'colsample_bytree': 1.0}, {'subsample': 0.6, 'min_child_weight': 10, 'max_depth': 5, 'learn_rate': 0.01, 'gamma': 2, 'colsample_bytree': 0.8}, {'subsample': 1.0, 'min_child_weight': 10, 'max_depth': 5, 'learn_rate': 0.01, 'gamma': 1, 'colsample_bytree': 0.6}, {'subsample': 1.0, 'min_child_weight': 10, 'max_depth': 3, 'learn_rate': 0.01, 'gamma': 0.5, 'colsample_bytree': 1.0}, {'subsample': 1.0, 'min_child_weight': 10, 'max_depth': 5, 'learn_rate': 0.03, 'gamma': 1, 'colsample_bytree': 0.8}, {'subsample': 0.8, 'min_child_weight': 10, 'max_depth': 4, 'learn_rate': 0.01, 'gamma': 1, 'colsample_bytree': 0.6}, {'subsample': 0.6, 'min_child_weight': 5, 'max_depth': 5, 'learn_rate': 0.01, 'gamma': 1, 'colsample_bytree': 0.8}, {'subsample': 1.0, 'min_child_weight': 10, 'max_depth': 4, 'learn_rate': 0.03, 'gamma': 5, 'colsample_bytree': 0.8}, {'subsample': 0.6, 'min_child_weight': 1, 'max_depth': 4, 'learn_rate': 0.03, 'gamma': 5, 'colsample_bytree': 0.8}, {'subsample': 0.8, 'min_child_weight': 10, 'max_depth': 3, 'learn_rate': 0.01, 'gamma': 1, 'colsample_bytree': 1.0}, {'subsample': 1.0, 'min_child_weight': 1, 'max_depth': 5, 'learn_rate': 0.03, 'gamma': 5, 'colsample_bytree': 0.6}, {'subsample': 0.6, 'min_child_weight': 1, 'max_depth': 5, 'learn_rate': 0.01, 'gamma': 2, 'colsample_bytree': 0.6}, {'subsample': 0.6, 'min_child_weight': 1, 'max_depth': 5, 'learn_rate': 0.01, 'gamma': 1, 'colsample_bytree': 0.8}, {'subsample': 0.6, 'min_child_weight': 10, 'max_depth': 4, 'learn_rate': 0.03, 'gamma': 1.5, 'colsample_bytree': 0.8}, {'subsample': 1.0, 'min_child_weight': 1, 'max_depth': 4, 'learn_rate': 0.03, 'gamma': 5, 'colsample_bytree': 1.0}, {'subsample': 0.6, 'min_child_weight': 1, 'max_depth': 5, 'learn_rate': 0.03, 'gamma': 0.5, 'colsample_bytree': 0.8}, {'subsample': 0.6, 'min_child_weight': 1, 'max_depth': 5, 'learn_rate': 0.01, 'gamma': 1.5, 'colsample_bytree': 1.0}, {'subsample': 1.0, 'min_child_weight': 10, 'max_depth': 3, 'learn_rate': 0.03, 'gamma': 0.5, 'colsample_bytree': 1.0}, {'subsample': 0.8, 'min_child_weight': 5, 'max_depth': 4, 'learn_rate': 0.01, 'gamma': 0.5, 'colsample_bytree': 1.0}, {'subsample': 1.0, 'min_child_weight': 5, 'max_depth': 3, 'learn_rate': 0.01, 'gamma': 0.5, 'colsample_bytree': 0.8}, {'subsample': 0.8, 'min_child_weight': 1, 'max_depth': 5, 'learn_rate': 0.03, 'gamma': 0.5, 'colsample_bytree': 1.0}, {'subsample': 1.0, 'min_child_weight': 1, 'max_depth': 3, 'learn_rate': 0.03, 'gamma': 1.5, 'colsample_bytree': 1.0}, {'subsample': 0.8, 'min_child_weight': 10, 'max_depth': 5, 'learn_rate': 0.03, 'gamma': 0.5, 'colsample_bytree': 0.8}, {'subsample': 0.6, 'min_child_weight': 1, 'max_depth': 5, 'learn_rate': 0.03, 'gamma': 0.5, 'colsample_bytree': 0.6}, {'subsample': 0.6, 'min_child_weight': 10, 'max_depth': 4, 'learn_rate': 0.01, 'gamma': 5, 'colsample_bytree': 0.8}, {'subsample': 0.6, 'min_child_weight': 5, 'max_depth': 3, 'learn_rate': 0.01, 'gamma': 0.5, 'colsample_bytree': 1.0}, {'subsample': 1.0, 'min_child_weight': 10, 'max_depth': 3, 'learn_rate': 0.01, 'gamma': 0.5, 'colsample_bytree': 0.8}, {'subsample': 0.8, 'min_child_weight': 10, 'max_depth': 3, 'learn_rate': 0.03, 'gamma': 1.5, 'colsample_bytree': 0.8}, {'subsample': 0.6, 'min_child_weight': 5, 'max_depth': 3, 'learn_rate': 0.01, 'gamma': 1, 'colsample_bytree': 0.8}, {'subsample': 0.8, 'min_child_weight': 5, 'max_depth': 5, 'learn_rate': 0.01, 'gamma': 2, 'colsample_bytree': 0.6}, {'subsample': 1.0, 'min_child_weight': 5, 'max_depth': 4, 'learn_rate': 0.01, 'gamma': 1, 'colsample_bytree': 1.0}, {'subsample': 1.0, 'min_child_weight': 5, 'max_depth': 4, 'learn_rate': 0.03, 'gamma': 1.5, 'colsample_bytree': 0.6}, {'subsample': 0.6, 'min_child_weight': 10, 'max_depth': 3, 'learn_rate': 0.03, 'gamma': 5, 'colsample_bytree': 0.6}, {'subsample': 0.6, 'min_child_weight': 1, 'max_depth': 5, 'learn_rate': 0.03, 'gamma': 1.5, 'colsample_bytree': 1.0}, {'subsample': 0.8, 'min_child_weight': 1, 'max_depth': 3, 'learn_rate': 0.01, 'gamma': 2, 'colsample_bytree': 0.6}, {'subsample': 0.8, 'min_child_weight': 5, 'max_depth': 4, 'learn_rate': 0.03, 'gamma': 2, 'colsample_bytree': 1.0}, {'subsample': 0.8, 'min_child_weight': 10, 'max_depth': 3, 'learn_rate': 0.01, 'gamma': 5, 'colsample_bytree': 1.0}, {'subsample': 0.6, 'min_child_weight': 1, 'max_depth': 5, 'learn_rate': 0.01, 'gamma': 2, 'colsample_bytree': 0.8}, {'subsample': 0.6, 'min_child_weight': 10, 'max_depth': 5, 'learn_rate': 0.01, 'gamma': 1, 'colsample_bytree': 0.8}, {'subsample': 1.0, 'min_child_weight': 1, 'max_depth': 3, 'learn_rate': 0.01, 'gamma': 1.5, 'colsample_bytree': 0.8}, {'subsample': 0.6, 'min_child_weight': 10, 'max_depth': 4, 'learn_rate': 0.01, 'gamma': 1, 'colsample_bytree': 0.8}, {'subsample': 0.6, 'min_child_weight': 5, 'max_depth': 3, 'learn_rate': 0.01, 'gamma': 1.5, 'colsample_bytree': 1.0}, {'subsample': 0.6, 'min_child_weight': 10, 'max_depth': 4, 'learn_rate': 0.03, 'gamma': 5, 'colsample_bytree': 0.8}, {'subsample': 0.8, 'min_child_weight': 10, 'max_depth': 3, 'learn_rate': 0.01, 'gamma': 2, 'colsample_bytree': 0.8}, {'subsample': 1.0, 'min_child_weight': 1, 'max_depth': 5, 'learn_rate': 0.03, 'gamma': 1, 'colsample_bytree': 0.8}, {'subsample': 0.8, 'min_child_weight': 5, 'max_depth': 3, 'learn_rate': 0.03, 'gamma': 1, 'colsample_bytree': 1.0}], 'split0_test_score': array([0.64051211, 0.62944776, 0.70258299, 0.56341555, 0.55977063,\n",
            "       0.70010717, 0.6887913 , 0.55830861, 0.69450736, 0.64330926,\n",
            "       0.70209933, 0.64477586, 0.65246835, 0.56311848, 0.68070386,\n",
            "       0.68217507, 0.69150377, 0.65638643, 0.63619726, 0.69150377,\n",
            "       0.69473714, 0.55729431, 0.65542138, 0.56777161, 0.68687346,\n",
            "       0.55884149, 0.70428558, 0.68431442, 0.65638643, 0.56340607,\n",
            "       0.56909684, 0.56603295, 0.56585557, 0.69072314, 0.64744454,\n",
            "       0.62945132, 0.56883409, 0.69340095, 0.56439291, 0.65542093,\n",
            "       0.56051182, 0.69157019, 0.69957468, 0.56909639, 0.66099742,\n",
            "       0.56017664, 0.65638643, 0.56297585, 0.68757966, 0.56020603]), 'split1_test_score': array([0.66417459, 0.66416086, 0.7124131 , 0.60689283, 0.60443528,\n",
            "       0.71060423, 0.69091595, 0.60362488, 0.71540011, 0.66102994,\n",
            "       0.70968921, 0.67275718, 0.67668984, 0.6037646 , 0.68784295,\n",
            "       0.68721449, 0.71296495, 0.67003132, 0.67092929, 0.70855225,\n",
            "       0.71643203, 0.60362488, 0.6737495 , 0.61390812, 0.7123127 ,\n",
            "       0.60367353, 0.70756769, 0.68721449, 0.66850546, 0.60545645,\n",
            "       0.61390812, 0.60687975, 0.60553669, 0.68960588, 0.67031603,\n",
            "       0.66414815, 0.61200014, 0.70295411, 0.61093317, 0.67393889,\n",
            "       0.60051674, 0.71138991, 0.71242161, 0.61329749, 0.66850546,\n",
            "       0.60419873, 0.66850546, 0.60679599, 0.70901529, 0.6007502 ]), 'split2_test_score': array([0.66337683, 0.6661039 , 0.6949167 , 0.61102722, 0.61655371,\n",
            "       0.69479051, 0.68132954, 0.60858886, 0.69515722, 0.66226099,\n",
            "       0.7024956 , 0.67222791, 0.67400492, 0.61579925, 0.68618475,\n",
            "       0.68357863, 0.69793457, 0.66928726, 0.6666505 , 0.69793409,\n",
            "       0.70657234, 0.60858886, 0.66258305, 0.61653735, 0.6985584 ,\n",
            "       0.6105982 , 0.69358179, 0.68357863, 0.66875061, 0.61655086,\n",
            "       0.61692415, 0.61475175, 0.6165746 , 0.68173023, 0.67000282,\n",
            "       0.66564834, 0.60344207, 0.70559906, 0.59655157, 0.66312807,\n",
            "       0.61579925, 0.70119222, 0.69246106, 0.61653735, 0.66928726,\n",
            "       0.61655086, 0.66928726, 0.61475175, 0.6972612 , 0.6187299 ]), 'split3_test_score': array([0.67357093, 0.67059661, 0.70386558, 0.6258656 , 0.62613244,\n",
            "       0.69867365, 0.69029014, 0.63334176, 0.69297678, 0.67342043,\n",
            "       0.69899582, 0.67318028, 0.6742195 , 0.62940672, 0.68836414,\n",
            "       0.69986483, 0.70240691, 0.67889932, 0.66940938, 0.70425832,\n",
            "       0.70320144, 0.63334176, 0.67135087, 0.62428616, 0.7030124 ,\n",
            "       0.63334139, 0.70988789, 0.70051535, 0.67854757, 0.6284436 ,\n",
            "       0.62054749, 0.62251578, 0.62541497, 0.69242837, 0.66850509,\n",
            "       0.67059661, 0.61826093, 0.70298467, 0.61841365, 0.67135087,\n",
            "       0.62932308, 0.70515096, 0.70386558, 0.62312703, 0.67813453,\n",
            "       0.62609348, 0.67889932, 0.62251578, 0.68624944, 0.62543114]), 'split4_test_score': array([0.66223409, 0.65936627, 0.69165217, 0.60975497, 0.62331439,\n",
            "       0.69380829, 0.68572839, 0.62856212, 0.69104978, 0.65109658,\n",
            "       0.69905024, 0.67166872, 0.67395868, 0.62365243, 0.68978366,\n",
            "       0.68919715, 0.69472082, 0.6735633 , 0.66675666, 0.70123432,\n",
            "       0.70671549, 0.62401191, 0.66430917, 0.61075346, 0.69815837,\n",
            "       0.61913719, 0.69500464, 0.68879862, 0.6735633 , 0.62135129,\n",
            "       0.61075346, 0.61744438, 0.6129359 , 0.68325988, 0.66934757,\n",
            "       0.65903859, 0.61484057, 0.70357264, 0.60479906, 0.66576377,\n",
            "       0.6239551 , 0.6974586 , 0.69189808, 0.61338432, 0.6735633 ,\n",
            "       0.62135129, 0.67395838, 0.61154517, 0.70080633, 0.62335511]), 'mean_test_score': array([0.66077371, 0.65793508, 0.70108611, 0.60339123, 0.60604129,\n",
            "       0.69959677, 0.68741106, 0.60648525, 0.69781825, 0.65822344,\n",
            "       0.70246604, 0.66692199, 0.67026826, 0.60714829, 0.68657587,\n",
            "       0.68840604, 0.6999062 , 0.66963353, 0.66198862, 0.70069655,\n",
            "       0.70553169, 0.60537234, 0.66548279, 0.60665134, 0.69978307,\n",
            "       0.60511836, 0.70206552, 0.6888843 , 0.66915068, 0.60704165,\n",
            "       0.60624601, 0.60552492, 0.60526355, 0.6875495 , 0.66512321,\n",
            "       0.6577766 , 0.60347556, 0.70170229, 0.59901807, 0.6659205 ,\n",
            "       0.6060212 , 0.70135238, 0.7000442 , 0.60708852, 0.6700976 ,\n",
            "       0.6056742 , 0.66940737, 0.60371691, 0.69618238, 0.60569448]), 'std_test_score': array([0.01090666, 0.01469272, 0.00728461, 0.02104386, 0.02431493,\n",
            "       0.00598136, 0.00352972, 0.02661675, 0.00890412, 0.01027961,\n",
            "       0.00389922, 0.01108468, 0.00895843, 0.02363361, 0.00315363,\n",
            "       0.00625265, 0.0074587 , 0.00744395, 0.01299742, 0.00577626,\n",
            "       0.00697501, 0.02628543, 0.00653897, 0.01994914, 0.00822457,\n",
            "       0.02516637, 0.00660639, 0.00611736, 0.0073658 , 0.02306431,\n",
            "       0.01885545, 0.02038307, 0.02071689, 0.00425132, 0.00886108,\n",
            "       0.0146344 , 0.01800262, 0.00426161, 0.01874334, 0.00650917,\n",
            "       0.02474516, 0.00672398, 0.00764051, 0.01932928, 0.00570277,\n",
            "       0.02388818, 0.00749909, 0.02100363, 0.00848408, 0.0243516 ]), 'rank_test_score': array([29, 31,  6, 49, 39, 11, 17, 37, 12, 30,  2, 24, 19, 33, 18, 15,  9,\n",
            "       21, 28,  7,  1, 44, 26, 36, 10, 46,  3, 14, 23, 35, 38, 43, 45, 16,\n",
            "       27, 32, 48,  4, 50, 25, 40,  5,  8, 34, 20, 42, 22, 47, 13, 41],\n",
            "      dtype=int32)}\n",
            "\n",
            " Best estimator:\n",
            "XGBClassifier(colsample_bytree=1.0, eval_metric='mlogloss', gamma=1.5,\n",
            "              learn_rate=0.01, max_depth=5, objective='multi:softprob',\n",
            "              silent=True, subsample=0.6, tree_method='gpu_hist')\n",
            "\n",
            " Best normalized gini score with 50 parameter combinations:\n",
            "0.41106337467363674\n",
            "\n",
            " Best hyperparameters:\n",
            "{'subsample': 0.6, 'min_child_weight': 1, 'max_depth': 5, 'learn_rate': 0.01, 'gamma': 1.5, 'colsample_bytree': 1.0}\n"
          ]
        }
      ]
    },
    {
      "cell_type": "code",
      "source": [
        "best_xgb=XGBClassifier(colsample_bytree=0.8, eval_metric='mlogloss', gamma=1.5,\n",
        "              max_depth=5, objective='multi:softprob', silent=True,\n",
        "              subsample=0.6, tree_method='gpu_hist')\n",
        "best_xgb.fit(X_train, y_train)\n",
        "print(checkerrorcount(best_xgb))"
      ],
      "metadata": {
        "colab": {
          "base_uri": "https://localhost:8080/"
        },
        "id": "nKI7PcdQRCX_",
        "outputId": "6c93a9b9-210d-41ea-c547-abde3fec8f2b"
      },
      "execution_count": null,
      "outputs": [
        {
          "output_type": "stream",
          "name": "stdout",
          "text": [
            "correct count is: 760335 ,error count is: 39665\n"
          ]
        }
      ]
    },
    {
      "cell_type": "code",
      "source": [
        "plt.figure(figsize=(10,20))\n",
        "\n",
        "importances = pd.Series(best_xgb.feature_importances_, index = X.columns)\n",
        "importances = importances.sort_values()\n",
        "importances.nlargest(15).plot(kind = \"barh\",figsize=(10,10))\n",
        "plt.title(\"importance in the best_xgb Model\")\n",
        "\n",
        "plt.show()"
      ],
      "metadata": {
        "colab": {
          "base_uri": "https://localhost:8080/",
          "height": 607
        },
        "id": "ybkkZue_Ugjd",
        "outputId": "922e5698-0b19-465a-e0ce-a45962ac8f78"
      },
      "execution_count": null,
      "outputs": [
        {
          "output_type": "display_data",
          "data": {
            "image/png": "[encoded data removed]",
            "text/plain": [
              "<Figure size 720x720 with 1 Axes>"
            ]
          },
          "metadata": {
            "needs_background": "light"
          }
        }
      ]
    },
    {
      "cell_type": "code",
      "source": [
        "xgb_1=XGBClassifier(colsample_bytree=0.8, eval_metric='mlogloss', gamma=0,\n",
        "              max_depth=5, objective='multi:softprob', silent=True,\n",
        "              subsample=0.6, tree_method='gpu_hist')\n",
        "xgb_1.fit(X_train, y_train)\n",
        "print(checkerrorcount(xgb_1))"
      ],
      "metadata": {
        "colab": {
          "base_uri": "https://localhost:8080/"
        },
        "id": "gBXAFQJOWlrN",
        "outputId": "02d20419-6be6-4bf4-c2b6-3fab32ff3d42"
      },
      "execution_count": null,
      "outputs": [
        {
          "output_type": "stream",
          "name": "stdout",
          "text": [
            "correct count is: 760491 ,error count is: 39509\n"
          ]
        }
      ]
    },
    {
      "cell_type": "code",
      "source": [
        "test_target = test.drop(['Id'],axis = 1)\n",
        "int_predict = np.ravel(best_xgb.predict(test_target))\n",
        "output_best_xgb = pd.DataFrame({'Id': test.Id, 'Cover_Type': int_predict})\n",
        "output_best_xgb.to_csv('submission_best_xgb.csv', index=False)"
      ],
      "metadata": {
        "id": "GBt3syTaVieO"
      },
      "execution_count": null,
      "outputs": []
    },
    {
      "cell_type": "code",
      "source": [
        "from google.colab import files\n",
        "files.download(\"submission_best_xgb.csv\")"
      ],
      "metadata": {
        "colab": {
          "base_uri": "https://localhost:8080/",
          "height": 17
        },
        "id": "l67oLtuuVq2c",
        "outputId": "b58428cc-5146-4dd0-933a-3f687e43369e"
      },
      "execution_count": null,
      "outputs": [
        {
          "output_type": "display_data",
          "data": {
            "application/javascript": [
              "\n",
              "    async function download(id, filename, size) {\n",
              "      if (!google.colab.kernel.accessAllowed) {\n",
              "        return;\n",
              "      }\n",
              "      const div = document.createElement('div');\n",
              "      const label = document.createElement('label');\n",
              "      label.textContent = `Downloading \"${filename}\": `;\n",
              "      div.appendChild(label);\n",
              "      const progress = document.createElement('progress');\n",
              "      progress.max = size;\n",
              "      div.appendChild(progress);\n",
              "      document.body.appendChild(div);\n",
              "\n",
              "      const buffers = [];\n",
              "      let downloaded = 0;\n",
              "\n",
              "      const channel = await google.colab.kernel.comms.open(id);\n",
              "      // Send a message to notify the kernel that we're ready.\n",
              "      channel.send({})\n",
              "\n",
              "      for await (const message of channel.messages) {\n",
              "        // Send a message to notify the kernel that we're ready.\n",
              "        channel.send({})\n",
              "        if (message.buffers) {\n",
              "          for (const buffer of message.buffers) {\n",
              "            buffers.push(buffer);\n",
              "            downloaded += buffer.byteLength;\n",
              "            progress.value = downloaded;\n",
              "          }\n",
              "        }\n",
              "      }\n",
              "      const blob = new Blob(buffers, {type: 'application/binary'});\n",
              "      const a = document.createElement('a');\n",
              "      a.href = window.URL.createObjectURL(blob);\n",
              "      a.download = filename;\n",
              "      div.appendChild(a);\n",
              "      a.click();\n",
              "      div.remove();\n",
              "    }\n",
              "  "
            ],
            "text/plain": [
              "<IPython.core.display.Javascript object>"
            ]
          },
          "metadata": {}
        },
        {
          "output_type": "display_data",
          "data": {
            "application/javascript": [
              "download(\"download_64daecf7-e2c5-4e33-b798-b9894532c0ea\", \"submission_best_xgb.csv\", 10000014)"
            ],
            "text/plain": [
              "<IPython.core.display.Javascript object>"
            ]
          },
          "metadata": {}
        }
      ]
    }
  ],
  "metadata": {
    "kernelspec": {
      "display_name": "Python 3 (ipykernel)",
      "language": "python",
      "name": "python3"
    },
    "language_info": {
      "codemirror_mode": {
        "name": "ipython",
        "version": 3
      },
      "file_extension": ".py",
      "mimetype": "text/x-python",
      "name": "python",
      "nbconvert_exporter": "python",
      "pygments_lexer": "ipython3",
      "version": "3.8.10"
    },
    "colab": {
      "name": "tabular_playground_dec_2021.ipynb",
      "provenance": [],
      "machine_shape": "hm"
    },
    "accelerator": "GPU"
  },
  "nbformat": 4,
  "nbformat_minor": 0
}