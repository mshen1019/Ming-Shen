{
  "cells": [
    {
      "cell_type": "code",
      "source": [
        "from google.colab import drive\n",
        "drive.mount('/content/drive/')"
      ],
      "metadata": {
        "colab": {
          "base_uri": "https://localhost:8080/"
        },
        "id": "CCG_xXuwEmcG",
        "outputId": "16cef559-112c-4ea1-b774-d72d790af36f"
      },
      "execution_count": null,
      "outputs": [
        {
          "output_type": "stream",
          "name": "stdout",
          "text": [
            "Mounted at /content/drive/\n"
          ]
        }
      ]
    },
    {
      "cell_type": "code",
      "execution_count": null,
      "metadata": {
        "_cell_guid": "b1076dfc-b9ad-4769-8c92-a6c4dae69d19",
        "_uuid": "8f2839f25d086af736a60e9eeb907d3b93b6e0e5",
        "execution": {
          "iopub.execute_input": "2021-12-25T04:30:55.93653Z",
          "iopub.status.busy": "2021-12-25T04:30:55.936214Z",
          "iopub.status.idle": "2021-12-25T04:30:57.533581Z",
          "shell.execute_reply": "2021-12-25T04:30:57.532588Z",
          "shell.execute_reply.started": "2021-12-25T04:30:55.936493Z"
        },
        "id": "8a7_fyg_Ed2k"
      },
      "outputs": [],
      "source": [

        "import numpy as np \n",
        "import pandas as pd \n",

        "import os\n",
        "import matplotlib.pyplot as plt \n",
        "import seaborn as sns\n",
        "\n",
        "from xgboost import XGBClassifier\n",
        "from catboost import CatBoostClassifier, cv, Pool\n",
        "from sklearn.metrics import mean_absolute_error\n",
        "from sklearn.model_selection import train_test_split\n",
        "from sklearn.model_selection import cross_val_score\n",
        "from sklearn.model_selection import cross_val_predict\n",
        "from sklearn.model_selection import cross_validate\n",
        "from sklearn.model_selection import GridSearchCV\n",
        "from sklearn import preprocessing\n",
        "from lightgbm import LGBMClassifier\n",
        "\n",
        "from datetime import datetime\n",
        "from sklearn.model_selection import RandomizedSearchCV, GridSearchCV\n",
        "from sklearn.model_selection import StratifiedKFold\n",
      ]
    },
    {
      "cell_type": "markdown",
      "metadata": {
        "id": "VAU7b_b0Ed2t"
      },
      "source": [
        "***read train and test dataset***"
      ]
    },
    {
      "cell_type": "code",
      "execution_count": null,
      "metadata": {
        "execution": {
          "iopub.execute_input": "2021-12-25T04:30:57.535928Z",
          "iopub.status.busy": "2021-12-25T04:30:57.535576Z",
          "iopub.status.idle": "2021-12-25T04:31:23.961304Z",
          "shell.execute_reply": "2021-12-25T04:31:23.96026Z",
          "shell.execute_reply.started": "2021-12-25T04:30:57.535882Z"
        },
        "id": "2Q_W_j-4Ed2x"
      },
      "outputs": [],
      "source": [
        "train = pd.read_csv(\"/content/drive/MyDrive/Colab Notebooks/playground/train.csv\")\n",
        "test = pd.read_csv(\"/content/drive/MyDrive/Colab Notebooks/playground/test.csv\")"
      ]
    },
    {
      "cell_type": "markdown",
      "metadata": {
        "id": "IuHMxadXEd2z"
      },
      "source": [
        "**check data state**"
      ]
    },
    {
      "cell_type": "code",
      "execution_count": null,
      "metadata": {
        "execution": {
          "iopub.status.busy": "2021-12-24T16:37:31.75356Z",
          "iopub.status.idle": "2021-12-24T16:37:31.753888Z",
          "shell.execute_reply": "2021-12-24T16:37:31.753734Z",
          "shell.execute_reply.started": "2021-12-24T16:37:31.753714Z"
        },
        "colab": {
          "base_uri": "https://localhost:8080/"
        },
        "id": "yDDKzk-fEd20",
        "outputId": "2b540b81-6d71-4e7e-bb9c-5f5cf9d55fb3"
      },
      "outputs": [
        {
          "output_type": "stream",
          "name": "stdout",
          "text": [
            "[]\n",
            "[]\n"
          ]
        }
      ],
      "source": [
        "cols_with_missing = [col for col in train.columns if train[col].isnull().any()]\n",
        "print(cols_with_missing)\n",
        "cols_with_missing = [col for col in test.columns if test[col].isnull().any()]\n",
        "print(cols_with_missing)"
      ]
    },
    {
      "cell_type": "markdown",
      "metadata": {
        "id": "GWh41s8AEd21"
      },
      "source": [
        "train and test have no missing value"
      ]
    },
    {
      "cell_type": "code",
      "execution_count": null,
      "metadata": {
        "execution": {
          "iopub.status.busy": "2021-12-24T16:37:31.754719Z",
          "iopub.status.idle": "2021-12-24T16:37:31.754998Z",
          "shell.execute_reply": "2021-12-24T16:37:31.754865Z",
          "shell.execute_reply.started": "2021-12-24T16:37:31.754851Z"
        },
        "colab": {
          "base_uri": "https://localhost:8080/"
        },
        "id": "ZYaALBP0Ed22",
        "outputId": "3747743a-5192-4757-91e8-143fc88ca350"
      },
      "outputs": [
        {
          "output_type": "stream",
          "name": "stdout",
          "text": [
            "train Categorical variables:\n",
            "[]\n",
            "test Categorical variables:\n",
            "[]\n"
          ]
        }
      ],
      "source": [
        "s = (train.dtypes == 'object')\n",
        "object_cols = list(s[s].index)\n",
        "\n",
        "s_ = (test.dtypes == 'object')\n",
        "object_cols_ = list(s[s].index)\n",
        "\n",
        "print(\"train Categorical variables:\")\n",
        "print(object_cols)\n",
        "print(\"test Categorical variables:\")\n",
        "print(object_cols_)"
      ]
    },
    {
      "cell_type": "markdown",
      "metadata": {
        "id": "Xp1qBDkAEd25"
      },
      "source": [
        "train and test have integer only"
      ]
    },
    {
      "cell_type": "code",
      "execution_count": null,
      "metadata": {
        "execution": {
          "iopub.execute_input": "2021-12-22T00:10:35.564483Z",
          "iopub.status.busy": "2021-12-22T00:10:35.564245Z",
          "iopub.status.idle": "2021-12-22T00:10:35.645312Z",
          "shell.execute_reply": "2021-12-22T00:10:35.644656Z",
          "shell.execute_reply.started": "2021-12-22T00:10:35.564455Z"
        },
        "colab": {
          "base_uri": "https://localhost:8080/"
        },
        "id": "ZZCca8vVEd27",
        "outputId": "9e250b43-1b31-4a20-f560-ea861a79cf42"
      },
      "outputs": [
        {
          "output_type": "stream",
          "name": "stdout",
          "text": [
            "(4000000, 56) (1000000, 55)\n",
            "Cover_Type= 1  is : 1468136\n",
            "Cover_Type= 2  is : 2262087\n",
            "Cover_Type= 3  is : 195712\n",
            "Cover_Type= 4  is : 377\n",
            "Cover_Type= 5  is : 1\n",
            "Cover_Type= 6  is : 11426\n",
            "Cover_Type= 7  is : 62261\n"
          ]
        }
      ],
      "source": [
        "print(train.shape,test.shape)\n",
        "\n",
        "for r in range(7):\n",
        "    ct = (train['Cover_Type'] == r+1) \n",
        "    print('Cover_Type=',str(r+1),' is :',ct.sum())"
      ]
    },
    {
      "cell_type": "markdown",
      "metadata": {
        "id": "v5i6ux-oEd29"
      },
      "source": [
        "kind of Cover_Type is 7 and Cover_Type='2' is most\n",
        "\n",
        "i will ignore  Cover_Type='5'"
      ]
    },
    {
      "cell_type": "markdown",
      "metadata": {
        "id": "aPPfuOvVEd2-"
      },
      "source": [
        "**drop record Cover_Type='5'**"
      ]
    },
    {
      "cell_type": "code",
      "execution_count": null,
      "metadata": {
        "execution": {
          "iopub.execute_input": "2021-12-25T04:31:23.962978Z",
          "iopub.status.busy": "2021-12-25T04:31:23.962698Z",
          "iopub.status.idle": "2021-12-25T04:31:25.27904Z",
          "shell.execute_reply": "2021-12-25T04:31:25.277844Z",
          "shell.execute_reply.started": "2021-12-25T04:31:23.962946Z"
        },
        "colab": {
          "base_uri": "https://localhost:8080/"
        },
        "id": "xL52eRhiEd2_",
        "outputId": "80286a46-c3a7-44a2-afc3-b3c9f8ceb2b5"
      },
      "outputs": [
        {
          "output_type": "stream",
          "name": "stdout",
          "text": [
            "(3999999, 56)\n"
          ]
        }
      ],
      "source": [
        "train.drop(train.index[train['Cover_Type'] == 5],inplace = True)\n",
        "print(train.shape)"
      ]
    },
    {
      "cell_type": "code",
      "execution_count": null,
      "metadata": {
        "execution": {
          "iopub.execute_input": "2021-12-22T14:56:34.68289Z",
          "iopub.status.busy": "2021-12-22T14:56:34.682127Z",
          "iopub.status.idle": "2021-12-22T14:56:39.679915Z",
          "shell.execute_reply": "2021-12-22T14:56:39.679022Z",
          "shell.execute_reply.started": "2021-12-22T14:56:34.682847Z"
        },
        "colab": {
          "base_uri": "https://localhost:8080/",
          "height": 1000
        },
        "id": "ddqUqDKmEd3A",
        "outputId": "1881c8a7-98ea-477b-8bc9-b156c5f361de"
      },
      "outputs": [
        {
          "output_type": "execute_result",
          "data": {
            "text/html": [
              "\n",
              "  <div id=\"df-1abf6745-5f4f-4dc0-81aa-38980cb3a734\">\n",
              "    <div class=\"colab-df-container\">\n",
              "      <div>\n",
              "<style scoped>\n",
              "    .dataframe tbody tr th:only-of-type {\n",
              "        vertical-align: middle;\n",
              "    }\n",
              "\n",
              "    .dataframe tbody tr th {\n",
              "        vertical-align: top;\n",
              "    }\n",
              "\n",
              "    .dataframe thead th {\n",
              "        text-align: right;\n",
              "    }\n",
              "</style>\n",
              "<table border=\"1\" class=\"dataframe\">\n",
              "  <thead>\n",
              "    <tr style=\"text-align: right;\">\n",
              "      <th></th>\n",
              "      <th>count</th>\n",
              "      <th>mean</th>\n",
              "      <th>std</th>\n",
              "      <th>min</th>\n",
              "      <th>25%</th>\n",
              "      <th>50%</th>\n",
              "      <th>75%</th>\n",
              "      <th>max</th>\n",
              "    </tr>\n",
              "  </thead>\n",
              "  <tbody>\n",
              "    <tr>\n",
              "      <th>Id</th>\n",
              "      <td>3999999.0</td>\n",
              "      <td>1.999999e+06</td>\n",
              "      <td>1.154701e+06</td>\n",
              "      <td>0.0</td>\n",
              "      <td>999999.5</td>\n",
              "      <td>1999999.0</td>\n",
              "      <td>2999998.5</td>\n",
              "      <td>3999999.0</td>\n",
              "    </tr>\n",
              "    <tr>\n",
              "      <th>Elevation</th>\n",
              "      <td>3999999.0</td>\n",
              "      <td>2.980192e+03</td>\n",
              "      <td>2.890482e+02</td>\n",
              "      <td>1773.0</td>\n",
              "      <td>2760.0</td>\n",
              "      <td>2966.0</td>\n",
              "      <td>3217.0</td>\n",
              "      <td>4383.0</td>\n",
              "    </tr>\n",
              "    <tr>\n",
              "      <th>Aspect</th>\n",
              "      <td>3999999.0</td>\n",
              "      <td>1.515857e+02</td>\n",
              "      <td>1.099611e+02</td>\n",
              "      <td>-33.0</td>\n",
              "      <td>60.0</td>\n",
              "      <td>123.0</td>\n",
              "      <td>247.0</td>\n",
              "      <td>407.0</td>\n",
              "    </tr>\n",
              "    <tr>\n",
              "      <th>Slope</th>\n",
              "      <td>3999999.0</td>\n",
              "      <td>1.509753e+01</td>\n",
              "      <td>8.546724e+00</td>\n",
              "      <td>-3.0</td>\n",
              "      <td>9.0</td>\n",
              "      <td>14.0</td>\n",
              "      <td>20.0</td>\n",
              "      <td>64.0</td>\n",
              "    </tr>\n",
              "    <tr>\n",
              "      <th>Horizontal_Distance_To_Hydrology</th>\n",
              "      <td>3999999.0</td>\n",
              "      <td>2.713155e+02</td>\n",
              "      <td>2.265497e+02</td>\n",
              "      <td>-92.0</td>\n",
              "      <td>110.0</td>\n",
              "      <td>213.0</td>\n",
              "      <td>361.0</td>\n",
              "      <td>1602.0</td>\n",
              "    </tr>\n",
              "    <tr>\n",
              "      <th>Vertical_Distance_To_Hydrology</th>\n",
              "      <td>3999999.0</td>\n",
              "      <td>5.166261e+01</td>\n",
              "      <td>6.821597e+01</td>\n",
              "      <td>-317.0</td>\n",
              "      <td>4.0</td>\n",
              "      <td>31.0</td>\n",
              "      <td>78.0</td>\n",
              "      <td>647.0</td>\n",
              "    </tr>\n",
              "    <tr>\n",
              "      <th>Horizontal_Distance_To_Roadways</th>\n",
              "      <td>3999999.0</td>\n",
              "      <td>1.766642e+03</td>\n",
              "      <td>1.315610e+03</td>\n",
              "      <td>-287.0</td>\n",
              "      <td>822.0</td>\n",
              "      <td>1436.0</td>\n",
              "      <td>2365.0</td>\n",
              "      <td>7666.0</td>\n",
              "    </tr>\n",
              "    <tr>\n",
              "      <th>Hillshade_9am</th>\n",
              "      <td>3999999.0</td>\n",
              "      <td>2.118375e+02</td>\n",
              "      <td>3.075996e+01</td>\n",
              "      <td>-4.0</td>\n",
              "      <td>198.0</td>\n",
              "      <td>218.0</td>\n",
              "      <td>233.0</td>\n",
              "      <td>301.0</td>\n",
              "    </tr>\n",
              "    <tr>\n",
              "      <th>Hillshade_Noon</th>\n",
              "      <td>3999999.0</td>\n",
              "      <td>2.210614e+02</td>\n",
              "      <td>2.223134e+01</td>\n",
              "      <td>49.0</td>\n",
              "      <td>210.0</td>\n",
              "      <td>224.0</td>\n",
              "      <td>237.0</td>\n",
              "      <td>279.0</td>\n",
              "    </tr>\n",
              "    <tr>\n",
              "      <th>Hillshade_3pm</th>\n",
              "      <td>3999999.0</td>\n",
              "      <td>1.408109e+02</td>\n",
              "      <td>4.369864e+01</td>\n",
              "      <td>-53.0</td>\n",
              "      <td>115.0</td>\n",
              "      <td>142.0</td>\n",
              "      <td>169.0</td>\n",
              "      <td>272.0</td>\n",
              "    </tr>\n",
              "    <tr>\n",
              "      <th>Horizontal_Distance_To_Fire_Points</th>\n",
              "      <td>3999999.0</td>\n",
              "      <td>1.581405e+03</td>\n",
              "      <td>1.127612e+03</td>\n",
              "      <td>-277.0</td>\n",
              "      <td>781.0</td>\n",
              "      <td>1361.0</td>\n",
              "      <td>2084.0</td>\n",
              "      <td>8075.0</td>\n",
              "    </tr>\n",
              "    <tr>\n",
              "      <th>Wilderness_Area1</th>\n",
              "      <td>3999999.0</td>\n",
              "      <td>2.611931e-01</td>\n",
              "      <td>4.392850e-01</td>\n",
              "      <td>0.0</td>\n",
              "      <td>0.0</td>\n",
              "      <td>0.0</td>\n",
              "      <td>1.0</td>\n",
              "      <td>1.0</td>\n",
              "    </tr>\n",
              "    <tr>\n",
              "      <th>Wilderness_Area2</th>\n",
              "      <td>3999999.0</td>\n",
              "      <td>4.166101e-02</td>\n",
              "      <td>1.998134e-01</td>\n",
              "      <td>0.0</td>\n",
              "      <td>0.0</td>\n",
              "      <td>0.0</td>\n",
              "      <td>0.0</td>\n",
              "      <td>1.0</td>\n",
              "    </tr>\n",
              "    <tr>\n",
              "      <th>Wilderness_Area3</th>\n",
              "      <td>3999999.0</td>\n",
              "      <td>6.535732e-01</td>\n",
              "      <td>4.758312e-01</td>\n",
              "      <td>0.0</td>\n",
              "      <td>0.0</td>\n",
              "      <td>1.0</td>\n",
              "      <td>1.0</td>\n",
              "      <td>1.0</td>\n",
              "    </tr>\n",
              "    <tr>\n",
              "      <th>Wilderness_Area4</th>\n",
              "      <td>3999999.0</td>\n",
              "      <td>2.181901e-02</td>\n",
              "      <td>1.460922e-01</td>\n",
              "      <td>0.0</td>\n",
              "      <td>0.0</td>\n",
              "      <td>0.0</td>\n",
              "      <td>0.0</td>\n",
              "      <td>1.0</td>\n",
              "    </tr>\n",
              "    <tr>\n",
              "      <th>Soil_Type1</th>\n",
              "      <td>3999999.0</td>\n",
              "      <td>1.684150e-02</td>\n",
              "      <td>1.286774e-01</td>\n",
              "      <td>0.0</td>\n",
              "      <td>0.0</td>\n",
              "      <td>0.0</td>\n",
              "      <td>0.0</td>\n",
              "      <td>1.0</td>\n",
              "    </tr>\n",
              "    <tr>\n",
              "      <th>Soil_Type2</th>\n",
              "      <td>3999999.0</td>\n",
              "      <td>3.089601e-02</td>\n",
              "      <td>1.730360e-01</td>\n",
              "      <td>0.0</td>\n",
              "      <td>0.0</td>\n",
              "      <td>0.0</td>\n",
              "      <td>0.0</td>\n",
              "      <td>1.0</td>\n",
              "    </tr>\n",
              "    <tr>\n",
              "      <th>Soil_Type3</th>\n",
              "      <td>3999999.0</td>\n",
              "      <td>4.275501e-03</td>\n",
              "      <td>6.524739e-02</td>\n",
              "      <td>0.0</td>\n",
              "      <td>0.0</td>\n",
              "      <td>0.0</td>\n",
              "      <td>0.0</td>\n",
              "      <td>1.0</td>\n",
              "    </tr>\n",
              "    <tr>\n",
              "      <th>Soil_Type4</th>\n",
              "      <td>3999999.0</td>\n",
              "      <td>3.791251e-02</td>\n",
              "      <td>1.909847e-01</td>\n",
              "      <td>0.0</td>\n",
              "      <td>0.0</td>\n",
              "      <td>0.0</td>\n",
              "      <td>0.0</td>\n",
              "      <td>1.0</td>\n",
              "    </tr>\n",
              "    <tr>\n",
              "      <th>Soil_Type5</th>\n",
              "      <td>3999999.0</td>\n",
              "      <td>1.571525e-02</td>\n",
              "      <td>1.243716e-01</td>\n",
              "      <td>0.0</td>\n",
              "      <td>0.0</td>\n",
              "      <td>0.0</td>\n",
              "      <td>0.0</td>\n",
              "      <td>1.0</td>\n",
              "    </tr>\n",
              "    <tr>\n",
              "      <th>Soil_Type6</th>\n",
              "      <td>3999999.0</td>\n",
              "      <td>7.972752e-03</td>\n",
              "      <td>8.893362e-02</td>\n",
              "      <td>0.0</td>\n",
              "      <td>0.0</td>\n",
              "      <td>0.0</td>\n",
              "      <td>0.0</td>\n",
              "      <td>1.0</td>\n",
              "    </tr>\n",
              "    <tr>\n",
              "      <th>Soil_Type7</th>\n",
              "      <td>3999999.0</td>\n",
              "      <td>0.000000e+00</td>\n",
              "      <td>0.000000e+00</td>\n",
              "      <td>0.0</td>\n",
              "      <td>0.0</td>\n",
              "      <td>0.0</td>\n",
              "      <td>0.0</td>\n",
              "      <td>0.0</td>\n",
              "    </tr>\n",
              "    <tr>\n",
              "      <th>Soil_Type8</th>\n",
              "      <td>3999999.0</td>\n",
              "      <td>2.899751e-03</td>\n",
              "      <td>5.377121e-02</td>\n",
              "      <td>0.0</td>\n",
              "      <td>0.0</td>\n",
              "      <td>0.0</td>\n",
              "      <td>0.0</td>\n",
              "      <td>1.0</td>\n",
              "    </tr>\n",
              "    <tr>\n",
              "      <th>Soil_Type9</th>\n",
              "      <td>3999999.0</td>\n",
              "      <td>1.089300e-02</td>\n",
              "      <td>1.037996e-01</td>\n",
              "      <td>0.0</td>\n",
              "      <td>0.0</td>\n",
              "      <td>0.0</td>\n",
              "      <td>0.0</td>\n",
              "      <td>1.0</td>\n",
              "    </tr>\n",
              "    <tr>\n",
              "      <th>Soil_Type10</th>\n",
              "      <td>3999999.0</td>\n",
              "      <td>5.454076e-02</td>\n",
              "      <td>2.270817e-01</td>\n",
              "      <td>0.0</td>\n",
              "      <td>0.0</td>\n",
              "      <td>0.0</td>\n",
              "      <td>0.0</td>\n",
              "      <td>1.0</td>\n",
              "    </tr>\n",
              "    <tr>\n",
              "      <th>Soil_Type11</th>\n",
              "      <td>3999999.0</td>\n",
              "      <td>2.798526e-02</td>\n",
              "      <td>1.649306e-01</td>\n",
              "      <td>0.0</td>\n",
              "      <td>0.0</td>\n",
              "      <td>0.0</td>\n",
              "      <td>0.0</td>\n",
              "      <td>1.0</td>\n",
              "    </tr>\n",
              "    <tr>\n",
              "      <th>Soil_Type12</th>\n",
              "      <td>3999999.0</td>\n",
              "      <td>1.829000e-02</td>\n",
              "      <td>1.339981e-01</td>\n",
              "      <td>0.0</td>\n",
              "      <td>0.0</td>\n",
              "      <td>0.0</td>\n",
              "      <td>0.0</td>\n",
              "      <td>1.0</td>\n",
              "    </tr>\n",
              "    <tr>\n",
              "      <th>Soil_Type13</th>\n",
              "      <td>3999999.0</td>\n",
              "      <td>3.129526e-02</td>\n",
              "      <td>1.741145e-01</td>\n",
              "      <td>0.0</td>\n",
              "      <td>0.0</td>\n",
              "      <td>0.0</td>\n",
              "      <td>0.0</td>\n",
              "      <td>1.0</td>\n",
              "    </tr>\n",
              "    <tr>\n",
              "      <th>Soil_Type14</th>\n",
              "      <td>3999999.0</td>\n",
              "      <td>1.497650e-02</td>\n",
              "      <td>1.214587e-01</td>\n",
              "      <td>0.0</td>\n",
              "      <td>0.0</td>\n",
              "      <td>0.0</td>\n",
              "      <td>0.0</td>\n",
              "      <td>1.0</td>\n",
              "    </tr>\n",
              "    <tr>\n",
              "      <th>Soil_Type15</th>\n",
              "      <td>3999999.0</td>\n",
              "      <td>0.000000e+00</td>\n",
              "      <td>0.000000e+00</td>\n",
              "      <td>0.0</td>\n",
              "      <td>0.0</td>\n",
              "      <td>0.0</td>\n",
              "      <td>0.0</td>\n",
              "      <td>0.0</td>\n",
              "    </tr>\n",
              "    <tr>\n",
              "      <th>Soil_Type16</th>\n",
              "      <td>3999999.0</td>\n",
              "      <td>1.588850e-02</td>\n",
              "      <td>1.250442e-01</td>\n",
              "      <td>0.0</td>\n",
              "      <td>0.0</td>\n",
              "      <td>0.0</td>\n",
              "      <td>0.0</td>\n",
              "      <td>1.0</td>\n",
              "    </tr>\n",
              "    <tr>\n",
              "      <th>Soil_Type17</th>\n",
              "      <td>3999999.0</td>\n",
              "      <td>2.067176e-02</td>\n",
              "      <td>1.422830e-01</td>\n",
              "      <td>0.0</td>\n",
              "      <td>0.0</td>\n",
              "      <td>0.0</td>\n",
              "      <td>0.0</td>\n",
              "      <td>1.0</td>\n",
              "    </tr>\n",
              "    <tr>\n",
              "      <th>Soil_Type18</th>\n",
              "      <td>3999999.0</td>\n",
              "      <td>1.343625e-02</td>\n",
              "      <td>1.151335e-01</td>\n",
              "      <td>0.0</td>\n",
              "      <td>0.0</td>\n",
              "      <td>0.0</td>\n",
              "      <td>0.0</td>\n",
              "      <td>1.0</td>\n",
              "    </tr>\n",
              "    <tr>\n",
              "      <th>Soil_Type19</th>\n",
              "      <td>3999999.0</td>\n",
              "      <td>1.381125e-02</td>\n",
              "      <td>1.167069e-01</td>\n",
              "      <td>0.0</td>\n",
              "      <td>0.0</td>\n",
              "      <td>0.0</td>\n",
              "      <td>0.0</td>\n",
              "      <td>1.0</td>\n",
              "    </tr>\n",
              "    <tr>\n",
              "      <th>Soil_Type20</th>\n",
              "      <td>3999999.0</td>\n",
              "      <td>1.736800e-02</td>\n",
              "      <td>1.306383e-01</td>\n",
              "      <td>0.0</td>\n",
              "      <td>0.0</td>\n",
              "      <td>0.0</td>\n",
              "      <td>0.0</td>\n",
              "      <td>1.0</td>\n",
              "    </tr>\n",
              "    <tr>\n",
              "      <th>Soil_Type21</th>\n",
              "      <td>3999999.0</td>\n",
              "      <td>1.153900e-02</td>\n",
              "      <td>1.067982e-01</td>\n",
              "      <td>0.0</td>\n",
              "      <td>0.0</td>\n",
              "      <td>0.0</td>\n",
              "      <td>0.0</td>\n",
              "      <td>1.0</td>\n",
              "    </tr>\n",
              "    <tr>\n",
              "      <th>Soil_Type22</th>\n",
              "      <td>3999999.0</td>\n",
              "      <td>3.134601e-02</td>\n",
              "      <td>1.742511e-01</td>\n",
              "      <td>0.0</td>\n",
              "      <td>0.0</td>\n",
              "      <td>0.0</td>\n",
              "      <td>0.0</td>\n",
              "      <td>1.0</td>\n",
              "    </tr>\n",
              "    <tr>\n",
              "      <th>Soil_Type23</th>\n",
              "      <td>3999999.0</td>\n",
              "      <td>4.917076e-02</td>\n",
              "      <td>2.162244e-01</td>\n",
              "      <td>0.0</td>\n",
              "      <td>0.0</td>\n",
              "      <td>0.0</td>\n",
              "      <td>0.0</td>\n",
              "      <td>1.0</td>\n",
              "    </tr>\n",
              "    <tr>\n",
              "      <th>Soil_Type24</th>\n",
              "      <td>3999999.0</td>\n",
              "      <td>2.502176e-02</td>\n",
              "      <td>1.561911e-01</td>\n",
              "      <td>0.0</td>\n",
              "      <td>0.0</td>\n",
              "      <td>0.0</td>\n",
              "      <td>0.0</td>\n",
              "      <td>1.0</td>\n",
              "    </tr>\n",
              "    <tr>\n",
              "      <th>Soil_Type25</th>\n",
              "      <td>3999999.0</td>\n",
              "      <td>3.258251e-03</td>\n",
              "      <td>5.698803e-02</td>\n",
              "      <td>0.0</td>\n",
              "      <td>0.0</td>\n",
              "      <td>0.0</td>\n",
              "      <td>0.0</td>\n",
              "      <td>1.0</td>\n",
              "    </tr>\n",
              "    <tr>\n",
              "      <th>Soil_Type26</th>\n",
              "      <td>3999999.0</td>\n",
              "      <td>1.352700e-02</td>\n",
              "      <td>1.155163e-01</td>\n",
              "      <td>0.0</td>\n",
              "      <td>0.0</td>\n",
              "      <td>0.0</td>\n",
              "      <td>0.0</td>\n",
              "      <td>1.0</td>\n",
              "    </tr>\n",
              "    <tr>\n",
              "      <th>Soil_Type27</th>\n",
              "      <td>3999999.0</td>\n",
              "      <td>1.176575e-02</td>\n",
              "      <td>1.078301e-01</td>\n",
              "      <td>0.0</td>\n",
              "      <td>0.0</td>\n",
              "      <td>0.0</td>\n",
              "      <td>0.0</td>\n",
              "      <td>1.0</td>\n",
              "    </tr>\n",
              "    <tr>\n",
              "      <th>Soil_Type28</th>\n",
              "      <td>3999999.0</td>\n",
              "      <td>1.070775e-02</td>\n",
              "      <td>1.029228e-01</td>\n",
              "      <td>0.0</td>\n",
              "      <td>0.0</td>\n",
              "      <td>0.0</td>\n",
              "      <td>0.0</td>\n",
              "      <td>1.0</td>\n",
              "    </tr>\n",
              "    <tr>\n",
              "      <th>Soil_Type29</th>\n",
              "      <td>3999999.0</td>\n",
              "      <td>2.227351e-02</td>\n",
              "      <td>1.475717e-01</td>\n",
              "      <td>0.0</td>\n",
              "      <td>0.0</td>\n",
              "      <td>0.0</td>\n",
              "      <td>0.0</td>\n",
              "      <td>1.0</td>\n",
              "    </tr>\n",
              "    <tr>\n",
              "      <th>Soil_Type30</th>\n",
              "      <td>3999999.0</td>\n",
              "      <td>2.886701e-02</td>\n",
              "      <td>1.674327e-01</td>\n",
              "      <td>0.0</td>\n",
              "      <td>0.0</td>\n",
              "      <td>0.0</td>\n",
              "      <td>0.0</td>\n",
              "      <td>1.0</td>\n",
              "    </tr>\n",
              "    <tr>\n",
              "      <th>Soil_Type31</th>\n",
              "      <td>3999999.0</td>\n",
              "      <td>2.749326e-02</td>\n",
              "      <td>1.635157e-01</td>\n",
              "      <td>0.0</td>\n",
              "      <td>0.0</td>\n",
              "      <td>0.0</td>\n",
              "      <td>0.0</td>\n",
              "      <td>1.0</td>\n",
              "    </tr>\n",
              "    <tr>\n",
              "      <th>Soil_Type32</th>\n",
              "      <td>3999999.0</td>\n",
              "      <td>3.746201e-02</td>\n",
              "      <td>1.898911e-01</td>\n",
              "      <td>0.0</td>\n",
              "      <td>0.0</td>\n",
              "      <td>0.0</td>\n",
              "      <td>0.0</td>\n",
              "      <td>1.0</td>\n",
              "    </tr>\n",
              "    <tr>\n",
              "      <th>Soil_Type33</th>\n",
              "      <td>3999999.0</td>\n",
              "      <td>3.782076e-02</td>\n",
              "      <td>1.907626e-01</td>\n",
              "      <td>0.0</td>\n",
              "      <td>0.0</td>\n",
              "      <td>0.0</td>\n",
              "      <td>0.0</td>\n",
              "      <td>1.0</td>\n",
              "    </tr>\n",
              "    <tr>\n",
              "      <th>Soil_Type34</th>\n",
              "      <td>3999999.0</td>\n",
              "      <td>1.199500e-02</td>\n",
              "      <td>1.088629e-01</td>\n",
              "      <td>0.0</td>\n",
              "      <td>0.0</td>\n",
              "      <td>0.0</td>\n",
              "      <td>0.0</td>\n",
              "      <td>1.0</td>\n",
              "    </tr>\n",
              "    <tr>\n",
              "      <th>Soil_Type35</th>\n",
              "      <td>3999999.0</td>\n",
              "      <td>1.605350e-02</td>\n",
              "      <td>1.256813e-01</td>\n",
              "      <td>0.0</td>\n",
              "      <td>0.0</td>\n",
              "      <td>0.0</td>\n",
              "      <td>0.0</td>\n",
              "      <td>1.0</td>\n",
              "    </tr>\n",
              "    <tr>\n",
              "      <th>Soil_Type36</th>\n",
              "      <td>3999999.0</td>\n",
              "      <td>1.071275e-02</td>\n",
              "      <td>1.029466e-01</td>\n",
              "      <td>0.0</td>\n",
              "      <td>0.0</td>\n",
              "      <td>0.0</td>\n",
              "      <td>0.0</td>\n",
              "      <td>1.0</td>\n",
              "    </tr>\n",
              "    <tr>\n",
              "      <th>Soil_Type37</th>\n",
              "      <td>3999999.0</td>\n",
              "      <td>1.220750e-02</td>\n",
              "      <td>1.098111e-01</td>\n",
              "      <td>0.0</td>\n",
              "      <td>0.0</td>\n",
              "      <td>0.0</td>\n",
              "      <td>0.0</td>\n",
              "      <td>1.0</td>\n",
              "    </tr>\n",
              "    <tr>\n",
              "      <th>Soil_Type38</th>\n",
              "      <td>3999999.0</td>\n",
              "      <td>4.075151e-02</td>\n",
              "      <td>1.977140e-01</td>\n",
              "      <td>0.0</td>\n",
              "      <td>0.0</td>\n",
              "      <td>0.0</td>\n",
              "      <td>0.0</td>\n",
              "      <td>1.0</td>\n",
              "    </tr>\n",
              "    <tr>\n",
              "      <th>Soil_Type39</th>\n",
              "      <td>3999999.0</td>\n",
              "      <td>3.923926e-02</td>\n",
              "      <td>1.941637e-01</td>\n",
              "      <td>0.0</td>\n",
              "      <td>0.0</td>\n",
              "      <td>0.0</td>\n",
              "      <td>0.0</td>\n",
              "      <td>1.0</td>\n",
              "    </tr>\n",
              "    <tr>\n",
              "      <th>Soil_Type40</th>\n",
              "      <td>3999999.0</td>\n",
              "      <td>3.161851e-02</td>\n",
              "      <td>1.749822e-01</td>\n",
              "      <td>0.0</td>\n",
              "      <td>0.0</td>\n",
              "      <td>0.0</td>\n",
              "      <td>0.0</td>\n",
              "      <td>1.0</td>\n",
              "    </tr>\n",
              "    <tr>\n",
              "      <th>Cover_Type</th>\n",
              "      <td>3999999.0</td>\n",
              "      <td>1.771335e+00</td>\n",
              "      <td>8.938047e-01</td>\n",
              "      <td>1.0</td>\n",
              "      <td>1.0</td>\n",
              "      <td>2.0</td>\n",
              "      <td>2.0</td>\n",
              "      <td>7.0</td>\n",
              "    </tr>\n",
              "  </tbody>\n",
              "</table>\n",
              "</div>\n",
              "      <button class=\"colab-df-convert\" onclick=\"convertToInteractive('df-1abf6745-5f4f-4dc0-81aa-38980cb3a734')\"\n",
              "              title=\"Convert this dataframe to an interactive table.\"\n",
              "              style=\"display:none;\">\n",
              "        \n",
              "  <svg xmlns=\"http://www.w3.org/2000/svg\" height=\"24px\"viewBox=\"0 0 24 24\"\n",
              "       width=\"24px\">\n",
              "    <path d=\"M0 0h24v24H0V0z\" fill=\"none\"/>\n",
              "    <path d=\"M18.56 5.44l.94 2.06.94-2.06 2.06-.94-2.06-.94-.94-2.06-.94 2.06-2.06.94zm-11 1L8.5 8.5l.94-2.06 2.06-.94-2.06-.94L8.5 2.5l-.94 2.06-2.06.94zm10 10l.94 2.06.94-2.06 2.06-.94-2.06-.94-.94-2.06-.94 2.06-2.06.94z\"/><path d=\"M17.41 7.96l-1.37-1.37c-.4-.4-.92-.59-1.43-.59-.52 0-1.04.2-1.43.59L10.3 9.45l-7.72 7.72c-.78.78-.78 2.05 0 2.83L4 21.41c.39.39.9.59 1.41.59.51 0 1.02-.2 1.41-.59l7.78-7.78 2.81-2.81c.8-.78.8-2.07 0-2.86zM5.41 20L4 18.59l7.72-7.72 1.47 1.35L5.41 20z\"/>\n",
              "  </svg>\n",
              "      </button>\n",
              "      \n",
              "  <style>\n",
              "    .colab-df-container {\n",
              "      display:flex;\n",
              "      flex-wrap:wrap;\n",
              "      gap: 12px;\n",
              "    }\n",
              "\n",
              "    .colab-df-convert {\n",
              "      background-color: #E8F0FE;\n",
              "      border: none;\n",
              "      border-radius: 50%;\n",
              "      cursor: pointer;\n",
              "      display: none;\n",
              "      fill: #1967D2;\n",
              "      height: 32px;\n",
              "      padding: 0 0 0 0;\n",
              "      width: 32px;\n",
              "    }\n",
              "\n",
              "    .colab-df-convert:hover {\n",
              "      background-color: #E2EBFA;\n",
              "      box-shadow: 0px 1px 2px rgba(60, 64, 67, 0.3), 0px 1px 3px 1px rgba(60, 64, 67, 0.15);\n",
              "      fill: #174EA6;\n",
              "    }\n",
              "\n",
              "    [theme=dark] .colab-df-convert {\n",
              "      background-color: #3B4455;\n",
              "      fill: #D2E3FC;\n",
              "    }\n",
              "\n",
              "    [theme=dark] .colab-df-convert:hover {\n",
              "      background-color: #434B5C;\n",
              "      box-shadow: 0px 1px 3px 1px rgba(0, 0, 0, 0.15);\n",
              "      filter: drop-shadow(0px 1px 2px rgba(0, 0, 0, 0.3));\n",
              "      fill: #FFFFFF;\n",
              "    }\n",
              "  </style>\n",
              "\n",
              "      <script>\n",
              "        const buttonEl =\n",
              "          document.querySelector('#df-1abf6745-5f4f-4dc0-81aa-38980cb3a734 button.colab-df-convert');\n",
              "        buttonEl.style.display =\n",
              "          google.colab.kernel.accessAllowed ? 'block' : 'none';\n",
              "\n",
              "        async function convertToInteractive(key) {\n",
              "          const element = document.querySelector('#df-1abf6745-5f4f-4dc0-81aa-38980cb3a734');\n",
              "          const dataTable =\n",
              "            await google.colab.kernel.invokeFunction('convertToInteractive',\n",
              "                                                     [key], {});\n",
              "          if (!dataTable) return;\n",
              "\n",
              "          const docLinkHtml = 'Like what you see? Visit the ' +\n",
              "            '<a target=\"_blank\" href=https://colab.research.google.com/notebooks/data_table.ipynb>data table notebook</a>'\n",
              "            + ' to learn more about interactive tables.';\n",
              "          element.innerHTML = '';\n",
              "          dataTable['output_type'] = 'display_data';\n",
              "          await google.colab.output.renderOutput(dataTable, element);\n",
              "          const docLink = document.createElement('div');\n",
              "          docLink.innerHTML = docLinkHtml;\n",
              "          element.appendChild(docLink);\n",
              "        }\n",
              "      </script>\n",
              "    </div>\n",
              "  </div>\n",
              "  "
            ],
            "text/plain": [
              "                                        count  ...        max\n",
              "Id                                  3999999.0  ...  3999999.0\n",
              "Elevation                           3999999.0  ...     4383.0\n",
              "Aspect                              3999999.0  ...      407.0\n",
              "Slope                               3999999.0  ...       64.0\n",
              "Horizontal_Distance_To_Hydrology    3999999.0  ...     1602.0\n",
              "Vertical_Distance_To_Hydrology      3999999.0  ...      647.0\n",
              "Horizontal_Distance_To_Roadways     3999999.0  ...     7666.0\n",
              "Hillshade_9am                       3999999.0  ...      301.0\n",
              "Hillshade_Noon                      3999999.0  ...      279.0\n",
              "Hillshade_3pm                       3999999.0  ...      272.0\n",
              "Horizontal_Distance_To_Fire_Points  3999999.0  ...     8075.0\n",
              "Wilderness_Area1                    3999999.0  ...        1.0\n",
              "Wilderness_Area2                    3999999.0  ...        1.0\n",
              "Wilderness_Area3                    3999999.0  ...        1.0\n",
              "Wilderness_Area4                    3999999.0  ...        1.0\n",
              "Soil_Type1                          3999999.0  ...        1.0\n",
              "Soil_Type2                          3999999.0  ...        1.0\n",
              "Soil_Type3                          3999999.0  ...        1.0\n",
              "Soil_Type4                          3999999.0  ...        1.0\n",
              "Soil_Type5                          3999999.0  ...        1.0\n",
              "Soil_Type6                          3999999.0  ...        1.0\n",
              "Soil_Type7                          3999999.0  ...        0.0\n",
              "Soil_Type8                          3999999.0  ...        1.0\n",
              "Soil_Type9                          3999999.0  ...        1.0\n",
              "Soil_Type10                         3999999.0  ...        1.0\n",
              "Soil_Type11                         3999999.0  ...        1.0\n",
              "Soil_Type12                         3999999.0  ...        1.0\n",
              "Soil_Type13                         3999999.0  ...        1.0\n",
              "Soil_Type14                         3999999.0  ...        1.0\n",
              "Soil_Type15                         3999999.0  ...        0.0\n",
              "Soil_Type16                         3999999.0  ...        1.0\n",
              "Soil_Type17                         3999999.0  ...        1.0\n",
              "Soil_Type18                         3999999.0  ...        1.0\n",
              "Soil_Type19                         3999999.0  ...        1.0\n",
              "Soil_Type20                         3999999.0  ...        1.0\n",
              "Soil_Type21                         3999999.0  ...        1.0\n",
              "Soil_Type22                         3999999.0  ...        1.0\n",
              "Soil_Type23                         3999999.0  ...        1.0\n",
              "Soil_Type24                         3999999.0  ...        1.0\n",
              "Soil_Type25                         3999999.0  ...        1.0\n",
              "Soil_Type26                         3999999.0  ...        1.0\n",
              "Soil_Type27                         3999999.0  ...        1.0\n",
              "Soil_Type28                         3999999.0  ...        1.0\n",
              "Soil_Type29                         3999999.0  ...        1.0\n",
              "Soil_Type30                         3999999.0  ...        1.0\n",
              "Soil_Type31                         3999999.0  ...        1.0\n",
              "Soil_Type32                         3999999.0  ...        1.0\n",
              "Soil_Type33                         3999999.0  ...        1.0\n",
              "Soil_Type34                         3999999.0  ...        1.0\n",
              "Soil_Type35                         3999999.0  ...        1.0\n",
              "Soil_Type36                         3999999.0  ...        1.0\n",
              "Soil_Type37                         3999999.0  ...        1.0\n",
              "Soil_Type38                         3999999.0  ...        1.0\n",
              "Soil_Type39                         3999999.0  ...        1.0\n",
              "Soil_Type40                         3999999.0  ...        1.0\n",
              "Cover_Type                          3999999.0  ...        7.0\n",
              "\n",
              "[56 rows x 8 columns]"
            ]
          },
          "metadata": {},
          "execution_count": 9
        }
      ],
      "source": [
        "train.describe().T"
      ]
    },
    {
      "cell_type": "markdown",
      "metadata": {
        "id": "EO10hTpbEd3C"
      },
      "source": [
        "i will drop colums 'Soil_Type7' and 'Soil_Type15' because they have only '0'"
      ]
    },
    {
      "cell_type": "code",
      "execution_count": null,
      "metadata": {
        "execution": {
          "iopub.execute_input": "2021-12-25T04:31:25.282097Z",
          "iopub.status.busy": "2021-12-25T04:31:25.281695Z",
          "iopub.status.idle": "2021-12-25T04:31:26.346596Z",
          "shell.execute_reply": "2021-12-25T04:31:26.345487Z",
          "shell.execute_reply.started": "2021-12-25T04:31:25.282049Z"
        },
        "colab": {
          "base_uri": "https://localhost:8080/"
        },
        "id": "3dCcktZmEd3C",
        "outputId": "21861a39-a5e1-49e0-996d-7d37c00e07c2"
      },
      "outputs": [
        {
          "output_type": "stream",
          "name": "stdout",
          "text": [
            "(3999999, 54) (1000000, 53)\n"
          ]
        }
      ],
      "source": [
        "train.drop(['Soil_Type7','Soil_Type15'],axis = 1,inplace = True)\n",
        "test.drop(['Soil_Type7','Soil_Type15'],axis = 1,inplace = True)\n",
        "print(train.shape,test.shape)"
      ]
    },
    {
      "cell_type": "code",
      "execution_count": null,
      "metadata": {
        "execution": {
          "iopub.execute_input": "2021-12-25T04:31:26.348646Z",
          "iopub.status.busy": "2021-12-25T04:31:26.348306Z",
          "iopub.status.idle": "2021-12-25T04:31:26.36025Z",
          "shell.execute_reply": "2021-12-25T04:31:26.359064Z",
          "shell.execute_reply.started": "2021-12-25T04:31:26.348601Z"
        },
        "id": "FFl0-rd1Ed3D"
      },
      "outputs": [],
      "source": [
        "number_colums = [ 'Elevation','Aspect', 'Slope',\n",
        "       'Horizontal_Distance_To_Hydrology', 'Vertical_Distance_To_Hydrology',\n",
        "       'Horizontal_Distance_To_Roadways', 'Hillshade_9am', 'Hillshade_Noon',\n",
        "       'Hillshade_3pm', 'Horizontal_Distance_To_Fire_Points']\n",
        "categorical_colums1 = ['Wilderness_Area1', 'Wilderness_Area2', 'Wilderness_Area3','Wilderness_Area4'] \n",
        "categorical_colums2 = ['Soil_Type1', 'Soil_Type2', 'Soil_Type3',\n",
        "       'Soil_Type4', 'Soil_Type5', 'Soil_Type6',  'Soil_Type8',\n",
        "       'Soil_Type9', 'Soil_Type10', 'Soil_Type11', 'Soil_Type12',\n",
        "       'Soil_Type13', 'Soil_Type14',  'Soil_Type16',\n",
        "       'Soil_Type17', 'Soil_Type18', 'Soil_Type19', 'Soil_Type20',\n",
        "       'Soil_Type21', 'Soil_Type22', 'Soil_Type23', 'Soil_Type24',\n",
        "       'Soil_Type25', 'Soil_Type26', 'Soil_Type27', 'Soil_Type28',\n",
        "       'Soil_Type29', 'Soil_Type30', 'Soil_Type31', 'Soil_Type32',\n",
        "       'Soil_Type37', 'Soil_Type38', 'Soil_Type39', 'Soil_Type40']\n",
        "categorical_colums = categorical_colums1+categorical_colums2"
      ]
    },
    {
      "cell_type": "code",
      "execution_count": null,
      "metadata": {
        "execution": {
          "iopub.execute_input": "2021-12-25T04:31:26.361824Z",
          "iopub.status.busy": "2021-12-25T04:31:26.361571Z",
          "iopub.status.idle": "2021-12-25T04:31:39.129151Z",
          "shell.execute_reply": "2021-12-25T04:31:39.128405Z",
          "shell.execute_reply.started": "2021-12-25T04:31:26.361774Z"
        },
        "id": "EGIJLYTrEd3E"
      },
      "outputs": [],
      "source": [
        "train[\"f_c1\"] = train[categorical_colums1].sum(axis=1)\n",
        "train[\"f_c2\"] = train[categorical_colums2].sum(axis=1)\n",
        "train[\"f_c\"] = train[categorical_colums].sum(axis=1)\n",
        "train[\"max\"] = train[number_colums].max(axis=1)\n",
        "train[\"std\"] = train[number_colums].std(axis=1)\n",
        "\n",
        "\n",
        "test[\"f_c1\"] = test[categorical_colums1].sum(axis=1)\n",
        "test[\"f_c2\"] = test[categorical_colums2].sum(axis=1)\n",
        "test[\"f_c\"] = test[categorical_colums].sum(axis=1)\n",
        "test[\"max\"] = test[number_colums].max(axis=1)\n",
        "test[\"std\"] = test[number_colums].std(axis=1)\n"
      ]
    },
    {
      "cell_type": "code",
      "execution_count": null,
      "metadata": {
        "execution": {
          "iopub.execute_input": "2021-12-25T07:10:00.301046Z",
          "iopub.status.busy": "2021-12-25T07:10:00.300664Z",
          "iopub.status.idle": "2021-12-25T07:10:00.309057Z",
          "shell.execute_reply": "2021-12-25T07:10:00.307877Z",
          "shell.execute_reply.started": "2021-12-25T07:10:00.30101Z"
        },
        "id": "lew4VEYmEd3F"
      },
      "outputs": [],
      "source": [
        "def checkerrorcount(model):\n",
        "    predict_classifier = model.predict(X_valid)\n",
        "    y_reshape=np.ravel(y_valid)\n",
        "    c = 0\n",
        "    e = 0\n",
        "\n",
        "    for r in range(y_reshape.size):\n",
        "        if y_reshape[r]==predict_classifier[r]:\n",
        "            c = c + 1\n",
        "        if y_reshape[r]!=predict_classifier[r]:\n",
        "            e = e + 1\n",
        "    return f'correct count is: {c} ,error count is: {e}'"
      ]
    },
    {
      "cell_type": "markdown",
      "metadata": {
        "id": "uXaKloBeEd3F"
      },
      "source": [
        "**check features in train , each Cover_Type but exclude Cover_Type=5**"
      ]
    },
    {
      "cell_type": "markdown",
      "metadata": {
        "id": "PviePJHIEd3G"
      },
      "source": [
        "**prepare training data**"
      ]
    },
    {
      "cell_type": "code",
      "execution_count": null,
      "metadata": {
        "execution": {
          "iopub.execute_input": "2021-12-24T16:38:40.611894Z",
          "iopub.status.busy": "2021-12-24T16:38:40.611207Z",
          "iopub.status.idle": "2021-12-24T16:38:44.858184Z",
          "shell.execute_reply": "2021-12-24T16:38:44.857439Z",
          "shell.execute_reply.started": "2021-12-24T16:38:40.611845Z"
        },
        "id": "Me7E_6sSEd3G"
      },
      "outputs": [],
      "source": [
        "X=train.drop(['Id','Cover_Type'],axis = 1)\n",
        "y = train.Cover_Type\n",
        "\n",
        "#Separate data into training and validation sets\n",
        "X_train, X_valid, y_train, y_valid = train_test_split(X, y, train_size=0.8, test_size=0.2,random_state=0)"
      ]
    },
    {
      "cell_type": "markdown",
      "metadata": {
        "id": "q3bINz42Ed3H"
      },
      "source": [
        "**create model with using XGBClassifier**"
      ]
    },
    {
      "cell_type": "code",
      "execution_count": null,
      "metadata": {
        "execution": {
          "iopub.execute_input": "2021-12-24T03:19:06.267501Z",
          "iopub.status.busy": "2021-12-24T03:19:06.26726Z",
          "iopub.status.idle": "2021-12-24T04:31:17.509369Z",
          "shell.execute_reply": "2021-12-24T04:31:17.508122Z",
          "shell.execute_reply.started": "2021-12-24T03:19:06.267473Z"
        },
        "colab": {
          "base_uri": "https://localhost:8080/"
        },
        "id": "p-MH_NSaEd3H",
        "outputId": "0f0b89e9-25c3-4558-862f-0e0c9fea65c7"
      },
      "outputs": [
        {
          "output_type": "stream",
          "name": "stdout",
          "text": [
            "correct count is: 749171 ,error count is: 50829\n"
          ]
        }
      ],
      "source": [
        "model_classifier = XGBClassifier(objective='multi:softmax',eval_metric = 'mlogloss',tree_method='gpu_hist')\n",
        "model_classifier.fit(X_train, y_train)\n",
        "print(checkerrorcount(model_classifier))"
      ]
    },
    {
      "cell_type": "code",
      "source": [
        "lightGBM=LGBMClassifier(objective='multi:softmax',eval_metric = 'mlogloss',tree_learner=\"data\")\n",
        "lightGBM.fit(X_train, y_train)\n",
        "print(checkerrorcount(lightGBM))"
      ],
      "metadata": {
        "colab": {
          "base_uri": "https://localhost:8080/"
        },
        "id": "xmLOwwiWwGis",
        "outputId": "1d26e6f4-32f9-4e7c-a32e-eb0019f588a1"
      },
      "execution_count": null,
      "outputs": [
        {
          "output_type": "stream",
          "name": "stdout",
          "text": [
            "correct count is: 765117 ,error count is: 34883\n"
          ]
        }
      ]
    },
    {
      "cell_type": "code",
      "source": [
        "test_target = test.drop(['Id'],axis = 1)\n",
        "lightGBM_predict =lightGBM.predict(test_target)\n",
        "output_lightGBM = pd.DataFrame({'Id': test.Id, 'Cover_Type': lightGBM_predict})\n",
        "output_lightGBM.to_csv('submission_lightGBM.csv', index=False)"
      ],
      "metadata": {
        "id": "H_gWeCMoFSzB"
      },
      "execution_count": null,
      "outputs": []
    },
    {
      "cell_type": "code",
      "source": [
        "files.download(\"submission_lightGBM.csv\")"
      ],
      "metadata": {
        "colab": {
          "base_uri": "https://localhost:8080/",
          "height": 34
        },
        "id": "gepBdCZFFbKu",
        "outputId": "4bc28316-0f41-4315-c39b-45a569a73cc5"
      },
      "execution_count": null,
      "outputs": [
        {
          "output_type": "display_data",
          "data": {
            "application/javascript": [
              "\n",
              "    async function download(id, filename, size) {\n",
              "      if (!google.colab.kernel.accessAllowed) {\n",
              "        return;\n",
              "      }\n",
              "      const div = document.createElement('div');\n",
              "      const label = document.createElement('label');\n",
              "      label.textContent = `Downloading \"${filename}\": `;\n",
              "      div.appendChild(label);\n",
              "      const progress = document.createElement('progress');\n",
              "      progress.max = size;\n",
              "      div.appendChild(progress);\n",
              "      document.body.appendChild(div);\n",
              "\n",
              "      const buffers = [];\n",
              "      let downloaded = 0;\n",
              "\n",
              "      const channel = await google.colab.kernel.comms.open(id);\n",
              "      // Send a message to notify the kernel that we're ready.\n",
              "      channel.send({})\n",
              "\n",
              "      for await (const message of channel.messages) {\n",
              "        // Send a message to notify the kernel that we're ready.\n",
              "        channel.send({})\n",
              "        if (message.buffers) {\n",
              "          for (const buffer of message.buffers) {\n",
              "            buffers.push(buffer);\n",
              "            downloaded += buffer.byteLength;\n",
              "            progress.value = downloaded;\n",
              "          }\n",
              "        }\n",
              "      }\n",
              "      const blob = new Blob(buffers, {type: 'application/binary'});\n",
              "      const a = document.createElement('a');\n",
              "      a.href = window.URL.createObjectURL(blob);\n",
              "      a.download = filename;\n",
              "      div.appendChild(a);\n",
              "      a.click();\n",
              "      div.remove();\n",
              "    }\n",
              "  "
            ],
            "text/plain": [
              "<IPython.core.display.Javascript object>"
            ]
          },
          "metadata": {}
        },
        {
          "output_type": "display_data",
          "data": {
            "application/javascript": [
              "download(\"download_d1f3ce85-7685-4fef-af26-53d7a9362f6e\", \"submission_lightGBM.csv\", 10000014)"
            ],
            "text/plain": [
              "<IPython.core.display.Javascript object>"
            ]
          },
          "metadata": {}
        }
      ]
    },
    {
      "cell_type": "code",
      "execution_count": null,
      "metadata": {
        "execution": {
          "iopub.execute_input": "2021-12-24T01:17:32.958189Z",
          "iopub.status.busy": "2021-12-24T01:17:32.957943Z",
          "iopub.status.idle": "2021-12-24T01:17:34.232126Z",
          "shell.execute_reply": "2021-12-24T01:17:34.230676Z",
          "shell.execute_reply.started": "2021-12-24T01:17:32.95816Z"
        },
        "id": "3h_azfnFEd3I",
        "colab": {
          "base_uri": "https://localhost:8080/",
          "height": 1000
        },
        "outputId": "64a0eff2-dd87-4d30-b009-9101c7b9781b"
      },
      "outputs": [
        {
          "output_type": "display_data",
          "data": {
            "image/png": "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\n",
            "text/plain": [
              "<Figure size 720x1440 with 1 Axes>"
            ]
          },
          "metadata": {
            "needs_background": "light"
          }
        }
      ],
      "source": [
        "plt.figure(figsize=(10,20))\n",
        "\n",
        "importances = pd.Series(model_classifier.feature_importances_, index = X.columns)\n",
        "importances = importances.sort_values()\n",
        "importances.plot(kind = \"barh\")\n",
        "plt.title(\"importance in the XGBClassifier Model\")\n",
        "\n",
        "plt.show()"
      ]
    },
    {
      "cell_type": "markdown",
      "source": [
        "### Hyperparameter tuning"
      ],
      "metadata": {
        "id": "HGU3GlrgHduJ"
      }
    },
    {
      "cell_type": "code",
      "source": [
        "params = {\n",
        "        'min_child_weight': [1, 5, 10],\n",
        "        'gamma': [0.5, 1, 1.5, 2, 5],\n",
        "        'subsample': [0.6, 0.8, 1.0],\n",
        "        'colsample_bytree': [0.6, 0.8, 1.0],\n",
        "        'max_depth': [3, 4, 5]\n",
        "        }"
      ],
      "metadata": {
        "id": "xxe3fSXYWHjV"
      },
      "execution_count": null,
      "outputs": []
    },
    {
      "cell_type": "code",
      "source": [
        "xgb = XGBClassifier(objective='multi:softmax',eval_metric = 'mlogloss',tree_method='gpu_hist',silent=True)\n"
      ],
      "metadata": {
        "id": "UtyvImHtHm6Q"
      },
      "execution_count": null,
      "outputs": []
    },
    {
      "cell_type": "code",
      "source": [
        "param_comb = 20\n",
        "\n",
        "random_search = RandomizedSearchCV(xgb, param_distributions=params, n_iter=param_comb, scoring='f1_macro', verbose=3, random_state=1001 )\n",
        "\n",
        "# Here we go\n",
        "\n",
        "random_search.fit(X, y)"
      ],
      "metadata": {
        "colab": {
          "base_uri": "https://localhost:8080/"
        },
        "id": "3d2YHYc2H_Dx",
        "outputId": "69ff473b-9283-40bb-eeb6-e8a0fbe9fe33"
      },
      "execution_count": null,
      "outputs": [
        {
          "output_type": "stream",
          "name": "stdout",
          "text": [
            "Fitting 5 folds for each of 20 candidates, totalling 100 fits\n",
            "[CV 1/5] END colsample_bytree=1.0, gamma=5, max_depth=3, min_child_weight=5, subsample=1.0;, score=0.558 total time=  54.0s\n",
            "[CV 2/5] END colsample_bytree=1.0, gamma=5, max_depth=3, min_child_weight=5, subsample=1.0;, score=0.613 total time=  51.9s\n",
            "[CV 3/5] END colsample_bytree=1.0, gamma=5, max_depth=3, min_child_weight=5, subsample=1.0;, score=0.605 total time=  51.8s\n",
            "[CV 4/5] END colsample_bytree=1.0, gamma=5, max_depth=3, min_child_weight=5, subsample=1.0;, score=0.618 total time=  51.5s\n",
            "[CV 5/5] END colsample_bytree=1.0, gamma=5, max_depth=3, min_child_weight=5, subsample=1.0;, score=0.624 total time=  51.4s\n",
            "[CV 1/5] END colsample_bytree=0.8, gamma=1.5, max_depth=5, min_child_weight=1, subsample=0.6;, score=0.697 total time=  57.9s\n",
            "[CV 2/5] END colsample_bytree=0.8, gamma=1.5, max_depth=5, min_child_weight=1, subsample=0.6;, score=0.702 total time=  58.6s\n",
            "[CV 3/5] END colsample_bytree=0.8, gamma=1.5, max_depth=5, min_child_weight=1, subsample=0.6;, score=0.699 total time=  58.2s\n",
            "[CV 4/5] END colsample_bytree=0.8, gamma=1.5, max_depth=5, min_child_weight=1, subsample=0.6;, score=0.699 total time=  57.9s\n",
            "[CV 5/5] END colsample_bytree=0.8, gamma=1.5, max_depth=5, min_child_weight=1, subsample=0.6;, score=0.710 total time=  58.0s\n",
            "[CV 1/5] END colsample_bytree=0.8, gamma=1, max_depth=5, min_child_weight=5, subsample=0.8;, score=0.703 total time=  58.3s\n",
            "[CV 2/5] END colsample_bytree=0.8, gamma=1, max_depth=5, min_child_weight=5, subsample=0.8;, score=0.708 total time=  59.2s\n",
            "[CV 3/5] END colsample_bytree=0.8, gamma=1, max_depth=5, min_child_weight=5, subsample=0.8;, score=0.690 total time=  58.8s\n",
            "[CV 4/5] END colsample_bytree=0.8, gamma=1, max_depth=5, min_child_weight=5, subsample=0.8;, score=0.694 total time=  58.5s\n",
            "[CV 5/5] END colsample_bytree=0.8, gamma=1, max_depth=5, min_child_weight=5, subsample=0.8;, score=0.702 total time=  58.4s\n",
            "[CV 1/5] END colsample_bytree=0.6, gamma=5, max_depth=5, min_child_weight=5, subsample=1.0;, score=0.687 total time=  58.5s\n",
            "[CV 2/5] END colsample_bytree=0.6, gamma=5, max_depth=5, min_child_weight=5, subsample=1.0;, score=0.697 total time=  59.3s\n",
            "[CV 3/5] END colsample_bytree=0.6, gamma=5, max_depth=5, min_child_weight=5, subsample=1.0;, score=0.679 total time=  59.3s\n",
            "[CV 4/5] END colsample_bytree=0.6, gamma=5, max_depth=5, min_child_weight=5, subsample=1.0;, score=0.689 total time=  58.6s\n",
            "[CV 5/5] END colsample_bytree=0.6, gamma=5, max_depth=5, min_child_weight=5, subsample=1.0;, score=0.699 total time=  59.0s\n",
            "[CV 1/5] END colsample_bytree=1.0, gamma=1, max_depth=4, min_child_weight=1, subsample=0.8;, score=0.635 total time=  54.7s\n",
            "[CV 2/5] END colsample_bytree=1.0, gamma=1, max_depth=4, min_child_weight=1, subsample=0.8;, score=0.680 total time=  55.2s\n",
            "[CV 3/5] END colsample_bytree=1.0, gamma=1, max_depth=4, min_child_weight=1, subsample=0.8;, score=0.669 total time=  55.2s\n",
            "[CV 4/5] END colsample_bytree=1.0, gamma=1, max_depth=4, min_child_weight=1, subsample=0.8;, score=0.669 total time=  54.9s\n",
            "[CV 5/5] END colsample_bytree=1.0, gamma=1, max_depth=4, min_child_weight=1, subsample=0.8;, score=0.671 total time=  54.8s\n",
            "[CV 1/5] END colsample_bytree=0.6, gamma=1.5, max_depth=4, min_child_weight=10, subsample=1.0;, score=0.630 total time=  55.2s\n",
            "[CV 2/5] END colsample_bytree=0.6, gamma=1.5, max_depth=4, min_child_weight=10, subsample=1.0;, score=0.666 total time=  55.8s\n",
            "[CV 3/5] END colsample_bytree=0.6, gamma=1.5, max_depth=4, min_child_weight=10, subsample=1.0;, score=0.657 total time=  55.8s\n",
            "[CV 4/5] END colsample_bytree=0.6, gamma=1.5, max_depth=4, min_child_weight=10, subsample=1.0;, score=0.662 total time=  55.3s\n",
            "[CV 5/5] END colsample_bytree=0.6, gamma=1.5, max_depth=4, min_child_weight=10, subsample=1.0;, score=0.674 total time=  55.4s\n",
            "[CV 1/5] END colsample_bytree=0.6, gamma=5, max_depth=5, min_child_weight=1, subsample=1.0;, score=0.678 total time=  58.5s\n",
            "[CV 2/5] END colsample_bytree=0.6, gamma=5, max_depth=5, min_child_weight=1, subsample=1.0;, score=0.693 total time=  59.3s\n",
            "[CV 3/5] END colsample_bytree=0.6, gamma=5, max_depth=5, min_child_weight=1, subsample=1.0;, score=0.679 total time=  59.1s\n",
            "[CV 4/5] END colsample_bytree=0.6, gamma=5, max_depth=5, min_child_weight=1, subsample=1.0;, score=0.689 total time=  58.6s\n",
            "[CV 5/5] END colsample_bytree=0.6, gamma=5, max_depth=5, min_child_weight=1, subsample=1.0;, score=0.702 total time=  58.9s\n",
            "[CV 1/5] END colsample_bytree=0.8, gamma=2, max_depth=3, min_child_weight=1, subsample=0.8;, score=0.561 total time=  52.6s\n",
            "[CV 2/5] END colsample_bytree=0.8, gamma=2, max_depth=3, min_child_weight=1, subsample=0.8;, score=0.610 total time=  53.1s\n",
            "[CV 3/5] END colsample_bytree=0.8, gamma=2, max_depth=3, min_child_weight=1, subsample=0.8;, score=0.611 total time=  52.8s\n",
            "[CV 4/5] END colsample_bytree=0.8, gamma=2, max_depth=3, min_child_weight=1, subsample=0.8;, score=0.628 total time=  52.5s\n",
            "[CV 5/5] END colsample_bytree=0.8, gamma=2, max_depth=3, min_child_weight=1, subsample=0.8;, score=0.628 total time=  52.7s\n",
            "[CV 1/5] END colsample_bytree=0.6, gamma=0.5, max_depth=5, min_child_weight=1, subsample=0.8;, score=0.683 total time=  59.2s\n",
            "[CV 2/5] END colsample_bytree=0.6, gamma=0.5, max_depth=5, min_child_weight=1, subsample=0.8;, score=0.691 total time=  59.9s\n",
            "[CV 3/5] END colsample_bytree=0.6, gamma=0.5, max_depth=5, min_child_weight=1, subsample=0.8;, score=0.679 total time=  59.9s\n",
            "[CV 4/5] END colsample_bytree=0.6, gamma=0.5, max_depth=5, min_child_weight=1, subsample=0.8;, score=0.689 total time=  59.5s\n",
            "[CV 5/5] END colsample_bytree=0.6, gamma=0.5, max_depth=5, min_child_weight=1, subsample=0.8;, score=0.698 total time=  59.7s\n",
            "[CV 1/5] END colsample_bytree=0.6, gamma=1.5, max_depth=4, min_child_weight=1, subsample=0.8;, score=0.639 total time=  56.0s\n",
            "[CV 2/5] END colsample_bytree=0.6, gamma=1.5, max_depth=4, min_child_weight=1, subsample=0.8;, score=0.666 total time=  56.5s\n",
            "[CV 3/5] END colsample_bytree=0.6, gamma=1.5, max_depth=4, min_child_weight=1, subsample=0.8;, score=0.656 total time=  56.5s\n",
            "[CV 4/5] END colsample_bytree=0.6, gamma=1.5, max_depth=4, min_child_weight=1, subsample=0.8;, score=0.663 total time=  56.1s\n",
            "[CV 5/5] END colsample_bytree=0.6, gamma=1.5, max_depth=4, min_child_weight=1, subsample=0.8;, score=0.678 total time=  56.2s\n",
            "[CV 1/5] END colsample_bytree=0.8, gamma=0.5, max_depth=4, min_child_weight=1, subsample=1.0;, score=0.626 total time=  54.4s\n",
            "[CV 2/5] END colsample_bytree=0.8, gamma=0.5, max_depth=4, min_child_weight=1, subsample=1.0;, score=0.670 total time=  55.1s\n",
            "[CV 3/5] END colsample_bytree=0.8, gamma=0.5, max_depth=4, min_child_weight=1, subsample=1.0;, score=0.674 total time=  55.0s\n",
            "[CV 4/5] END colsample_bytree=0.8, gamma=0.5, max_depth=4, min_child_weight=1, subsample=1.0;, score=0.661 total time=  54.8s\n",
            "[CV 5/5] END colsample_bytree=0.8, gamma=0.5, max_depth=4, min_child_weight=1, subsample=1.0;, score=0.675 total time=  54.6s\n",
            "[CV 1/5] END colsample_bytree=1.0, gamma=1.5, max_depth=3, min_child_weight=10, subsample=1.0;, score=0.561 total time=  51.3s\n",
            "[CV 2/5] END colsample_bytree=1.0, gamma=1.5, max_depth=3, min_child_weight=10, subsample=1.0;, score=0.612 total time=  51.8s\n",
            "[CV 3/5] END colsample_bytree=1.0, gamma=1.5, max_depth=3, min_child_weight=10, subsample=1.0;, score=0.605 total time=  51.7s\n",
            "[CV 4/5] END colsample_bytree=1.0, gamma=1.5, max_depth=3, min_child_weight=10, subsample=1.0;, score=0.618 total time=  51.4s\n",
            "[CV 5/5] END colsample_bytree=1.0, gamma=1.5, max_depth=3, min_child_weight=10, subsample=1.0;, score=0.625 total time=  51.4s\n",
            "[CV 1/5] END colsample_bytree=0.6, gamma=1, max_depth=5, min_child_weight=10, subsample=0.6;, score=0.683 total time=  58.8s\n",
            "[CV 2/5] END colsample_bytree=0.6, gamma=1, max_depth=5, min_child_weight=10, subsample=0.6;, score=0.696 total time=  59.4s\n",
            "[CV 3/5] END colsample_bytree=0.6, gamma=1, max_depth=5, min_child_weight=10, subsample=0.6;, score=0.680 total time=  59.4s\n",
            "[CV 4/5] END colsample_bytree=0.6, gamma=1, max_depth=5, min_child_weight=10, subsample=0.6;, score=0.693 total time=  59.0s\n",
            "[CV 5/5] END colsample_bytree=0.6, gamma=1, max_depth=5, min_child_weight=10, subsample=0.6;, score=0.698 total time=  59.1s\n",
            "[CV 1/5] END colsample_bytree=1.0, gamma=0.5, max_depth=5, min_child_weight=5, subsample=1.0;, score=0.695 total time=  56.4s\n",
            "[CV 2/5] END colsample_bytree=1.0, gamma=0.5, max_depth=5, min_child_weight=5, subsample=1.0;, score=0.707 total time=  57.1s\n",
            "[CV 3/5] END colsample_bytree=1.0, gamma=0.5, max_depth=5, min_child_weight=5, subsample=1.0;, score=0.694 total time=  56.9s\n",
            "[CV 4/5] END colsample_bytree=1.0, gamma=0.5, max_depth=5, min_child_weight=5, subsample=1.0;, score=0.699 total time=  56.4s\n",
            "[CV 5/5] END colsample_bytree=1.0, gamma=0.5, max_depth=5, min_child_weight=5, subsample=1.0;, score=0.696 total time=  56.5s\n",
            "[CV 1/5] END colsample_bytree=1.0, gamma=0.5, max_depth=5, min_child_weight=1, subsample=1.0;, score=0.686 total time=  56.3s\n",
            "[CV 2/5] END colsample_bytree=1.0, gamma=0.5, max_depth=5, min_child_weight=1, subsample=1.0;, score=0.708 total time=  57.0s\n",
            "[CV 3/5] END colsample_bytree=1.0, gamma=0.5, max_depth=5, min_child_weight=1, subsample=1.0;, score=0.697 total time=  57.0s\n",
            "[CV 4/5] END colsample_bytree=1.0, gamma=0.5, max_depth=5, min_child_weight=1, subsample=1.0;, score=0.698 total time=  56.4s\n",
            "[CV 5/5] END colsample_bytree=1.0, gamma=0.5, max_depth=5, min_child_weight=1, subsample=1.0;, score=0.700 total time=  56.5s\n",
            "[CV 1/5] END colsample_bytree=0.8, gamma=1.5, max_depth=4, min_child_weight=10, subsample=0.8;, score=0.644 total time=  55.3s\n",
            "[CV 2/5] END colsample_bytree=0.8, gamma=1.5, max_depth=4, min_child_weight=10, subsample=0.8;, score=0.673 total time=  55.9s\n",
            "[CV 3/5] END colsample_bytree=0.8, gamma=1.5, max_depth=4, min_child_weight=10, subsample=0.8;, score=0.664 total time=  55.8s\n",
            "[CV 4/5] END colsample_bytree=0.8, gamma=1.5, max_depth=4, min_child_weight=10, subsample=0.8;, score=0.670 total time=  55.4s\n",
            "[CV 5/5] END colsample_bytree=0.8, gamma=1.5, max_depth=4, min_child_weight=10, subsample=0.8;, score=0.676 total time=  55.5s\n",
            "[CV 1/5] END colsample_bytree=1.0, gamma=1, max_depth=4, min_child_weight=10, subsample=1.0;, score=0.634 total time=  53.8s\n",
            "[CV 2/5] END colsample_bytree=1.0, gamma=1, max_depth=4, min_child_weight=10, subsample=1.0;, score=0.674 total time=  54.2s\n",
            "[CV 3/5] END colsample_bytree=1.0, gamma=1, max_depth=4, min_child_weight=10, subsample=1.0;, score=0.670 total time=  54.4s\n",
            "[CV 4/5] END colsample_bytree=1.0, gamma=1, max_depth=4, min_child_weight=10, subsample=1.0;, score=0.668 total time=  53.9s\n",
            "[CV 5/5] END colsample_bytree=1.0, gamma=1, max_depth=4, min_child_weight=10, subsample=1.0;, score=0.667 total time=  53.8s\n",
            "[CV 1/5] END colsample_bytree=1.0, gamma=1.5, max_depth=4, min_child_weight=10, subsample=0.8;, score=0.641 total time=  54.9s\n",
            "[CV 2/5] END colsample_bytree=1.0, gamma=1.5, max_depth=4, min_child_weight=10, subsample=0.8;, score=0.679 total time=  55.2s\n",
            "[CV 3/5] END colsample_bytree=1.0, gamma=1.5, max_depth=4, min_child_weight=10, subsample=0.8;, score=0.671 total time=  55.1s\n",
            "[CV 4/5] END colsample_bytree=1.0, gamma=1.5, max_depth=4, min_child_weight=10, subsample=0.8;, score=0.669 total time=  54.9s\n",
            "[CV 5/5] END colsample_bytree=1.0, gamma=1.5, max_depth=4, min_child_weight=10, subsample=0.8;, score=0.678 total time=  54.7s\n",
            "[CV 1/5] END colsample_bytree=0.8, gamma=0.5, max_depth=4, min_child_weight=1, subsample=0.6;, score=0.640 total time=  55.1s\n",
            "[CV 2/5] END colsample_bytree=0.8, gamma=0.5, max_depth=4, min_child_weight=1, subsample=0.6;, score=0.675 total time=  55.5s\n",
            "[CV 3/5] END colsample_bytree=0.8, gamma=0.5, max_depth=4, min_child_weight=1, subsample=0.6;, score=0.668 total time=  55.6s\n",
            "[CV 4/5] END colsample_bytree=0.8, gamma=0.5, max_depth=4, min_child_weight=1, subsample=0.6;, score=0.665 total time=  55.2s\n",
            "[CV 5/5] END colsample_bytree=0.8, gamma=0.5, max_depth=4, min_child_weight=1, subsample=0.6;, score=0.674 total time=  55.3s\n",
            "[CV 1/5] END colsample_bytree=0.8, gamma=2, max_depth=5, min_child_weight=1, subsample=0.6;, score=0.697 total time=  58.0s\n",
            "[CV 2/5] END colsample_bytree=0.8, gamma=2, max_depth=5, min_child_weight=1, subsample=0.6;, score=0.702 total time=  58.6s\n",
            "[CV 3/5] END colsample_bytree=0.8, gamma=2, max_depth=5, min_child_weight=1, subsample=0.6;, score=0.692 total time=  58.2s\n",
            "[CV 4/5] END colsample_bytree=0.8, gamma=2, max_depth=5, min_child_weight=1, subsample=0.6;, score=0.699 total time=  58.0s\n",
            "[CV 5/5] END colsample_bytree=0.8, gamma=2, max_depth=5, min_child_weight=1, subsample=0.6;, score=0.703 total time=  58.2s\n"
          ]
        },
        {
          "output_type": "execute_result",
          "data": {
            "text/plain": [
              "RandomizedSearchCV(estimator=XGBClassifier(eval_metric='mlogloss',\n",
              "                                           objective='multi:softmax',\n",
              "                                           silent=True,\n",
              "                                           tree_method='gpu_hist'),\n",
              "                   n_iter=20,\n",
              "                   param_distributions={'colsample_bytree': [0.6, 0.8, 1.0],\n",
              "                                        'gamma': [0.5, 1, 1.5, 2, 5],\n",
              "                                        'max_depth': [3, 4, 5],\n",
              "                                        'min_child_weight': [1, 5, 10],\n",
              "                                        'subsample': [0.6, 0.8, 1.0]},\n",
              "                   random_state=1001, scoring='f1_macro', verbose=3)"
            ]
          },
          "metadata": {},
          "execution_count": 28
        }
      ]
    },
    {
      "cell_type": "code",
      "source": [
        "print('\\n All results:')\n",
        "print(random_search.cv_results_)\n",
        "print('\\n Best estimator:')\n",
        "print(random_search.best_estimator_)\n",
        "print('\\n Best normalized gini score with %d parameter combinations:' % (param_comb))\n",
        "print(random_search.best_score_ * 2 - 1)\n",
        "print('\\n Best hyperparameters:')\n",
        "print(random_search.best_params_)"
      ],
      "metadata": {
        "colab": {
          "base_uri": "https://localhost:8080/",
          "height": 1000
        },
        "id": "1EK3xjYsI0kG",
        "outputId": "3ab87363-1823-470b-eba7-11df26412deb"
      },
      "execution_count": null,
      "outputs": [
        {
          "output_type": "stream",
          "name": "stdout",
          "text": [
            "\n",
            " All results:\n",
            "{'mean_fit_time': array([51.0646172 , 57.04623375, 57.56485014, 57.86469321, 53.90921278,\n",
            "       54.44432626, 57.80834756, 51.70812182, 58.55959201, 55.18915319,\n",
            "       53.71725888, 50.46096601, 58.03945565, 55.58594661, 55.5668088 ,\n",
            "       54.51074996, 52.97428031, 53.8859127 , 54.26777558, 57.13394217]), 'std_fit_time': array([0.9520448 , 0.24573003, 0.32715303, 0.32894064, 0.20074703,\n",
            "       0.24738882, 0.28240968, 0.23010242, 0.27856897, 0.22656169,\n",
            "       0.25340441, 0.18069415, 0.25416064, 0.27704728, 0.29159454,\n",
            "       0.23817019, 0.22866151, 0.18520209, 0.1918873 , 0.23765767]), 'mean_score_time': array([1.04804435, 1.07695618, 1.07939725, 1.08425674, 1.06467905,\n",
            "       1.06022472, 1.08119311, 1.03121653, 1.07141037, 1.05265279,\n",
            "       1.05943441, 1.03662925, 1.0792038 , 1.07946563, 1.07507911,\n",
            "       1.0562201 , 1.0504519 , 1.07530065, 1.06517997, 1.07750883]), 'std_score_time': array([0.00668365, 0.00796111, 0.00969902, 0.0095215 , 0.00690336,\n",
            "       0.00937036, 0.01803485, 0.0154577 , 0.02033169, 0.00899411,\n",
            "       0.00861083, 0.01523028, 0.01206812, 0.00835064, 0.01659266,\n",
            "       0.02321896, 0.01007318, 0.01680286, 0.01269474, 0.00594731]), 'param_subsample': masked_array(data=[1.0, 0.6, 0.8, 1.0, 0.8, 1.0, 1.0, 0.8, 0.8, 0.8, 1.0,\n",
            "                   1.0, 0.6, 1.0, 1.0, 0.8, 1.0, 0.8, 0.6, 0.6],\n",
            "             mask=[False, False, False, False, False, False, False, False,\n",
            "                   False, False, False, False, False, False, False, False,\n",
            "                   False, False, False, False],\n",
            "       fill_value='?',\n",
            "            dtype=object), 'param_min_child_weight': masked_array(data=[5, 1, 5, 5, 1, 10, 1, 1, 1, 1, 1, 10, 10, 5, 1, 10, 10,\n",
            "                   10, 1, 1],\n",
            "             mask=[False, False, False, False, False, False, False, False,\n",
            "                   False, False, False, False, False, False, False, False,\n",
            "                   False, False, False, False],\n",
            "       fill_value='?',\n",
            "            dtype=object), 'param_max_depth': masked_array(data=[3, 5, 5, 5, 4, 4, 5, 3, 5, 4, 4, 3, 5, 5, 5, 4, 4, 4,\n",
            "                   4, 5],\n",
            "             mask=[False, False, False, False, False, False, False, False,\n",
            "                   False, False, False, False, False, False, False, False,\n",
            "                   False, False, False, False],\n",
            "       fill_value='?',\n",
            "            dtype=object), 'param_gamma': masked_array(data=[5, 1.5, 1, 5, 1, 1.5, 5, 2, 0.5, 1.5, 0.5, 1.5, 1, 0.5,\n",
            "                   0.5, 1.5, 1, 1.5, 0.5, 2],\n",
            "             mask=[False, False, False, False, False, False, False, False,\n",
            "                   False, False, False, False, False, False, False, False,\n",
            "                   False, False, False, False],\n",
            "       fill_value='?',\n",
            "            dtype=object), 'param_colsample_bytree': masked_array(data=[1.0, 0.8, 0.8, 0.6, 1.0, 0.6, 0.6, 0.8, 0.6, 0.6, 0.8,\n",
            "                   1.0, 0.6, 1.0, 1.0, 0.8, 1.0, 1.0, 0.8, 0.8],\n",
            "             mask=[False, False, False, False, False, False, False, False,\n",
            "                   False, False, False, False, False, False, False, False,\n",
            "                   False, False, False, False],\n",
            "       fill_value='?',\n",
            "            dtype=object), 'params': [{'subsample': 1.0, 'min_child_weight': 5, 'max_depth': 3, 'gamma': 5, 'colsample_bytree': 1.0}, {'subsample': 0.6, 'min_child_weight': 1, 'max_depth': 5, 'gamma': 1.5, 'colsample_bytree': 0.8}, {'subsample': 0.8, 'min_child_weight': 5, 'max_depth': 5, 'gamma': 1, 'colsample_bytree': 0.8}, {'subsample': 1.0, 'min_child_weight': 5, 'max_depth': 5, 'gamma': 5, 'colsample_bytree': 0.6}, {'subsample': 0.8, 'min_child_weight': 1, 'max_depth': 4, 'gamma': 1, 'colsample_bytree': 1.0}, {'subsample': 1.0, 'min_child_weight': 10, 'max_depth': 4, 'gamma': 1.5, 'colsample_bytree': 0.6}, {'subsample': 1.0, 'min_child_weight': 1, 'max_depth': 5, 'gamma': 5, 'colsample_bytree': 0.6}, {'subsample': 0.8, 'min_child_weight': 1, 'max_depth': 3, 'gamma': 2, 'colsample_bytree': 0.8}, {'subsample': 0.8, 'min_child_weight': 1, 'max_depth': 5, 'gamma': 0.5, 'colsample_bytree': 0.6}, {'subsample': 0.8, 'min_child_weight': 1, 'max_depth': 4, 'gamma': 1.5, 'colsample_bytree': 0.6}, {'subsample': 1.0, 'min_child_weight': 1, 'max_depth': 4, 'gamma': 0.5, 'colsample_bytree': 0.8}, {'subsample': 1.0, 'min_child_weight': 10, 'max_depth': 3, 'gamma': 1.5, 'colsample_bytree': 1.0}, {'subsample': 0.6, 'min_child_weight': 10, 'max_depth': 5, 'gamma': 1, 'colsample_bytree': 0.6}, {'subsample': 1.0, 'min_child_weight': 5, 'max_depth': 5, 'gamma': 0.5, 'colsample_bytree': 1.0}, {'subsample': 1.0, 'min_child_weight': 1, 'max_depth': 5, 'gamma': 0.5, 'colsample_bytree': 1.0}, {'subsample': 0.8, 'min_child_weight': 10, 'max_depth': 4, 'gamma': 1.5, 'colsample_bytree': 0.8}, {'subsample': 1.0, 'min_child_weight': 10, 'max_depth': 4, 'gamma': 1, 'colsample_bytree': 1.0}, {'subsample': 0.8, 'min_child_weight': 10, 'max_depth': 4, 'gamma': 1.5, 'colsample_bytree': 1.0}, {'subsample': 0.6, 'min_child_weight': 1, 'max_depth': 4, 'gamma': 0.5, 'colsample_bytree': 0.8}, {'subsample': 0.6, 'min_child_weight': 1, 'max_depth': 5, 'gamma': 2, 'colsample_bytree': 0.8}], 'split0_test_score': array([0.55793224, 0.69705481, 0.70277371, 0.68664485, 0.63492599,\n",
            "       0.63025571, 0.67842427, 0.561458  , 0.68298685, 0.63925078,\n",
            "       0.62622988, 0.56069154, 0.6830063 , 0.69487154, 0.68571979,\n",
            "       0.644283  , 0.63444712, 0.64056001, 0.64026327, 0.69726449]), 'split1_test_score': array([0.61261076, 0.7016647 , 0.70836085, 0.69693702, 0.67992518,\n",
            "       0.66645579, 0.69299128, 0.60987016, 0.69146678, 0.66611079,\n",
            "       0.66987526, 0.61213184, 0.69580667, 0.70734816, 0.70781484,\n",
            "       0.67300478, 0.67352488, 0.67926145, 0.67495912, 0.70172149]), 'split2_test_score': array([0.60480271, 0.69866162, 0.69016947, 0.67934321, 0.66924079,\n",
            "       0.65661229, 0.6793024 , 0.61092815, 0.67910224, 0.65601468,\n",
            "       0.67397061, 0.60479995, 0.67996239, 0.6943582 , 0.69680052,\n",
            "       0.66364   , 0.6704414 , 0.67126142, 0.6678858 , 0.69182192]), 'split3_test_score': array([0.61779245, 0.69866942, 0.69411975, 0.68911668, 0.66870422,\n",
            "       0.66197655, 0.6885014 , 0.62791959, 0.68870967, 0.66346091,\n",
            "       0.66145803, 0.61784404, 0.69346643, 0.69937348, 0.69756463,\n",
            "       0.67010993, 0.66808886, 0.66908542, 0.66509387, 0.69861798]), 'split4_test_score': array([0.6243529 , 0.71018538, 0.70239073, 0.6993253 , 0.6705501 ,\n",
            "       0.67392909, 0.70228323, 0.62838087, 0.69847546, 0.6781459 ,\n",
            "       0.67531512, 0.62472873, 0.69776712, 0.6962553 , 0.70008319,\n",
            "       0.67629102, 0.66708431, 0.67800615, 0.6738685 , 0.70333766]), 'mean_test_score': array([0.60349821, 0.70124718, 0.6995629 , 0.69027341, 0.66466926,\n",
            "       0.65784588, 0.68830052, 0.60771136, 0.6881482 , 0.66059662,\n",
            "       0.66136978, 0.60403922, 0.69000178, 0.69844134, 0.6975966 ,\n",
            "       0.66546575, 0.66271731, 0.66763489, 0.66441411, 0.69855271]), 'std_test_score': array([0.02366534, 0.00471109, 0.00653566, 0.00721546, 0.01542186,\n",
            "       0.01491712, 0.00890019, 0.02445397, 0.00672978, 0.01283142,\n",
            "       0.01822316, 0.02264385, 0.0071516 , 0.00478319, 0.00710336,\n",
            "       0.01138099, 0.01430799, 0.01407867, 0.0126203 , 0.0039976 ]), 'rank_test_score': array([20,  1,  2,  6, 12, 17,  8, 18,  9, 16, 15, 19,  7,  4,  5, 11, 14,\n",
            "       10, 13,  3], dtype=int32)}\n",
            "\n",
            " Best estimator:\n",
            "XGBClassifier(colsample_bytree=0.8, eval_metric='mlogloss', gamma=1.5,\n",
            "              max_depth=5, objective='multi:softprob', silent=True,\n",
            "              subsample=0.6, tree_method='gpu_hist')\n"
          ]
        },
        {
          "output_type": "error",
          "ename": "TypeError",
          "evalue": "ignored",
          "traceback": [
            "\u001b[0;31m---------------------------------------------------------------------------\u001b[0m",
            "\u001b[0;31mTypeError\u001b[0m                                 Traceback (most recent call last)",
            "\u001b[0;32m<ipython-input-29-bc256b7c4577>\u001b[0m in \u001b[0;36m<module>\u001b[0;34m()\u001b[0m\n\u001b[1;32m      3\u001b[0m \u001b[0mprint\u001b[0m\u001b[0;34m(\u001b[0m\u001b[0;34m'\\n Best estimator:'\u001b[0m\u001b[0;34m)\u001b[0m\u001b[0;34m\u001b[0m\u001b[0;34m\u001b[0m\u001b[0m\n\u001b[1;32m      4\u001b[0m \u001b[0mprint\u001b[0m\u001b[0;34m(\u001b[0m\u001b[0mrandom_search\u001b[0m\u001b[0;34m.\u001b[0m\u001b[0mbest_estimator_\u001b[0m\u001b[0;34m)\u001b[0m\u001b[0;34m\u001b[0m\u001b[0;34m\u001b[0m\u001b[0m\n\u001b[0;32m----> 5\u001b[0;31m \u001b[0mprint\u001b[0m\u001b[0;34m(\u001b[0m\u001b[0;34m'\\n Best normalized gini score for %d-fold search with %d parameter combinations:'\u001b[0m \u001b[0;34m%\u001b[0m \u001b[0;34m(\u001b[0m\u001b[0mparam_comb\u001b[0m\u001b[0;34m)\u001b[0m\u001b[0;34m)\u001b[0m\u001b[0;34m\u001b[0m\u001b[0;34m\u001b[0m\u001b[0m\n\u001b[0m\u001b[1;32m      6\u001b[0m \u001b[0mprint\u001b[0m\u001b[0;34m(\u001b[0m\u001b[0mrandom_search\u001b[0m\u001b[0;34m.\u001b[0m\u001b[0mbest_score_\u001b[0m \u001b[0;34m*\u001b[0m \u001b[0;36m2\u001b[0m \u001b[0;34m-\u001b[0m \u001b[0;36m1\u001b[0m\u001b[0;34m)\u001b[0m\u001b[0;34m\u001b[0m\u001b[0;34m\u001b[0m\u001b[0m\n\u001b[1;32m      7\u001b[0m \u001b[0mprint\u001b[0m\u001b[0;34m(\u001b[0m\u001b[0;34m'\\n Best hyperparameters:'\u001b[0m\u001b[0;34m)\u001b[0m\u001b[0;34m\u001b[0m\u001b[0;34m\u001b[0m\u001b[0m\n",
            "\u001b[0;31mTypeError\u001b[0m: not enough arguments for format string"
          ]
        }
      ]
    },
    {
      "cell_type": "code",
      "source": [
        "best_xgb=XGBClassifier(colsample_bytree=0.8, eval_metric='mlogloss', gamma=1.5,\n",
        "              max_depth=5, objective='multi:softprob', silent=True,\n",
        "              subsample=0.6, tree_method='gpu_hist')\n",
        "best_xgb.fit(X_train, y_train)\n",
        "print(checkerrorcount(best_xgb))"
      ],
      "metadata": {
        "colab": {
          "base_uri": "https://localhost:8080/"
        },
        "id": "nKI7PcdQRCX_",
        "outputId": "a02fc884-81f9-4256-f1b1-525b704603f3"
      },
      "execution_count": null,
      "outputs": [
        {
          "output_type": "stream",
          "name": "stdout",
          "text": [
            "correct count is: 761380 ,error count is: 38620\n"
          ]
        }
      ]
    },
    {
      "cell_type": "code",
      "source": [
        "plt.figure(figsize=(10,20))\n",
        "\n",
        "importances = pd.Series(best_xgb.feature_importances_, index = X.columns)\n",
        "importances = importances.sort_values()\n",
        "importances.plot(kind = \"barh\")\n",
        "plt.title(\"importance in the best_xgb Model\")\n",
        "\n",
        "plt.show()"
      ],
      "metadata": {
        "colab": {
          "base_uri": "https://localhost:8080/",
          "height": 1000
        },
        "id": "ybkkZue_Ugjd",
        "outputId": "dd14bd05-0118-4cd2-bf19-5b91b6d977dd"
      },
      "execution_count": null,
      "outputs": [
        {
          "output_type": "display_data",
          "data": {
            "image/png": "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\n",
            "text/plain": [
              "<Figure size 720x1440 with 1 Axes>"
            ]
          },
          "metadata": {
            "needs_background": "light"
          }
        }
      ]
    },
    {
      "cell_type": "code",
      "source": [
        "test_target = test.drop(['Id'],axis = 1)\n",
        "int_predict = np.ravel(best_xgb.predict(test_target))\n",
        "output_best_xgb = pd.DataFrame({'Id': test.Id, 'Cover_Type': int_predict})\n",
        "output_best_xgb.to_csv('submission_best_xgb.csv', index=False)"
      ],
      "metadata": {
        "id": "GBt3syTaVieO"
      },
      "execution_count": null,
      "outputs": []
    },
    {
      "cell_type": "code",
      "source": [
        "from google.colab import files\n",
        "files.download(\"submission_best_xgb.csv\")"
      ],
      "metadata": {
        "colab": {
          "base_uri": "https://localhost:8080/",
          "height": 17
        },
        "id": "l67oLtuuVq2c",
        "outputId": "0f3fc17d-e15c-4a8c-a908-f94e2ad97de4"
      },
      "execution_count": null,
      "outputs": [
        {
          "output_type": "display_data",
          "data": {
            "application/javascript": [
              "\n",
              "    async function download(id, filename, size) {\n",
              "      if (!google.colab.kernel.accessAllowed) {\n",
              "        return;\n",
              "      }\n",
              "      const div = document.createElement('div');\n",
              "      const label = document.createElement('label');\n",
              "      label.textContent = `Downloading \"${filename}\": `;\n",
              "      div.appendChild(label);\n",
              "      const progress = document.createElement('progress');\n",
              "      progress.max = size;\n",
              "      div.appendChild(progress);\n",
              "      document.body.appendChild(div);\n",
              "\n",
              "      const buffers = [];\n",
              "      let downloaded = 0;\n",
              "\n",
              "      const channel = await google.colab.kernel.comms.open(id);\n",
              "      // Send a message to notify the kernel that we're ready.\n",
              "      channel.send({})\n",
              "\n",
              "      for await (const message of channel.messages) {\n",
              "        // Send a message to notify the kernel that we're ready.\n",
              "        channel.send({})\n",
              "        if (message.buffers) {\n",
              "          for (const buffer of message.buffers) {\n",
              "            buffers.push(buffer);\n",
              "            downloaded += buffer.byteLength;\n",
              "            progress.value = downloaded;\n",
              "          }\n",
              "        }\n",
              "      }\n",
              "      const blob = new Blob(buffers, {type: 'application/binary'});\n",
              "      const a = document.createElement('a');\n",
              "      a.href = window.URL.createObjectURL(blob);\n",
              "      a.download = filename;\n",
              "      div.appendChild(a);\n",
              "      a.click();\n",
              "      div.remove();\n",
              "    }\n",
              "  "
            ],
            "text/plain": [
              "<IPython.core.display.Javascript object>"
            ]
          },
          "metadata": {}
        },
        {
          "output_type": "display_data",
          "data": {
            "application/javascript": [
              "download(\"download_cdf534d8-3bf9-46da-8542-ef44b50d98d4\", \"submission_best_xgb.csv\", 10000014)"
            ],
            "text/plain": [
              "<IPython.core.display.Javascript object>"
            ]
          },
          "metadata": {}
        }
      ]
    },
    {
      "cell_type": "code",
      "source": [
        ""
      ],
      "metadata": {
        "id": "EfsrWM0UWBGk"
      },
      "execution_count": null,
      "outputs": []
    }
  ],
  "metadata": {
    "kernelspec": {
      "display_name": "Python 3 (ipykernel)",
      "language": "python",
      "name": "python3"
    },
    "language_info": {
      "codemirror_mode": {
        "name": "ipython",
        "version": 3
      },
      "file_extension": ".py",
      "mimetype": "text/x-python",
      "name": "python",
      "nbconvert_exporter": "python",
      "pygments_lexer": "ipython3",
      "version": "3.8.10"
    },
    "colab": {
      "name": "using-xgboost-and-catboost.ipynb",
      "provenance": [],
      "machine_shape": "hm"
    },
    "accelerator": "GPU"
  },
  "nbformat": 4,
  "nbformat_minor": 0
}
