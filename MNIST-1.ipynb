{
 "cells": [
  {
   "cell_type": "code",
   "execution_count": 1,
   "metadata": {},
   "outputs": [],
   "source": [
    "import numpy as np\n",
    "from PIL import Image\n",
    "import tensorflow as tf\n",
    "import matplotlib.pyplot as plt\n",
    "from tensorflow.python.keras.utils import to_categorical\n",
    "import os\n",
    "os.environ[\"KMP_DUPLICATE_LIB_OK\"]=\"TRUE\""
   ]
  },
  {
   "cell_type": "code",
   "execution_count": 2,
   "metadata": {},
   "outputs": [],
   "source": [
    "#Load the data\n",
    "from tensorflow.keras.datasets import mnist\n",
    "(x_train, y_train), (x_test, y_test) = mnist.load_data()"
   ]
  },
  {
   "cell_type": "code",
   "execution_count": 3,
   "metadata": {},
   "outputs": [
    {
     "name": "stdout",
     "output_type": "stream",
     "text": [
      "x_train shape:  (60000, 28, 28)\n",
      "y_train shape:  (60000,)\n",
      "x_test shape:  (10000, 28, 28)\n",
      "y_test shape:  (10000,)\n"
     ]
    }
   ],
   "source": [
    "#Check the data format\n",
    "print('x_train shape: ', x_train.shape)\n",
    "print('y_train shape: ', y_train.shape)\n",
    "print('x_test shape: ', x_test.shape)\n",
    "print('y_test shape: ', y_test.shape)"
   ]
  },
  {
   "cell_type": "code",
   "execution_count": 4,
   "metadata": {},
   "outputs": [
    {
     "data": {
      "image/png": "[encoded data removed]",
      "text/plain": [
       "<Figure size 432x288 with 1 Axes>"
      ]
     },
     "metadata": {
      "needs_background": "light"
     },
     "output_type": "display_data"
    }
   ],
   "source": [
    "%matplotlib inline\n",
    "plt.imshow(x_train[0], cmap = 'binary')\n",
    "plt.show()"
   ]
  },
  {
   "cell_type": "code",
   "execution_count": 312,
   "metadata": {},
   "outputs": [],
   "source": [
    "y_train_encoded = to_categorical(y_train)\n",
    "y_test_encoded = to_categorical(y_test)"
   ]
  },
  {
   "cell_type": "code",
   "execution_count": 6,
   "metadata": {},
   "outputs": [
    {
     "name": "stdout",
     "output_type": "stream",
     "text": [
      "y_train shape:  (60000, 10)\n",
      "y_test shape:  (10000, 10)\n"
     ]
    }
   ],
   "source": [
    "print('y_train shape: ', y_train_encoded.shape)\n",
    "print('y_test shape: ', y_test_encoded.shape)"
   ]
  },
  {
   "cell_type": "code",
   "execution_count": 7,
   "metadata": {},
   "outputs": [
    {
     "data": {
      "text/plain": [
       "array([0., 0., 0., 0., 0., 1., 0., 0., 0., 0.], dtype=float32)"
      ]
     },
     "execution_count": 7,
     "metadata": {},
     "output_type": "execute_result"
    }
   ],
   "source": [
    "y_train_encoded[0]"
   ]
  },
  {
   "cell_type": "code",
   "execution_count": 335,
   "metadata": {},
   "outputs": [
    {
     "name": "stdout",
     "output_type": "stream",
     "text": [
      "x_train_reshaped shape:  (60000, 784)\n",
      "x_test_reshaped shape:  (10000, 784)\n"
     ]
    }
   ],
   "source": [
    "#reshape the training/test dataset\n",
    "x_train_reshaped = np.reshape(x_train, (60000, 784))\n",
    "x_test_reshaped = np.reshape(x_test, (10000, 784))\n",
    "\n",
    "print('x_train_reshaped shape: ', x_train_reshaped.shape)\n",
    "print('x_test_reshaped shape: ', x_test_reshaped.shape)"
   ]
  },
  {
   "cell_type": "code",
   "execution_count": 336,
   "metadata": {},
   "outputs": [],
   "source": [
    "#Normalization\n",
    "x_train_norm=x_train_reshaped/255\n",
    "x_test_norm=x_test_reshaped/255"
   ]
  },
  {
   "cell_type": "code",
   "execution_count": 13,
   "metadata": {},
   "outputs": [],
   "source": [
    "#Model 1 with 3 Dense layers\n",
    "from tensorflow.keras.models import Sequential\n",
    "from tensorflow.keras.layers import Dense\n",
    "\n",
    "model = Sequential([\n",
    "    Dense(128, activation = 'relu', input_shape = (784,)),\n",
    "    Dense(128, activation = 'relu'),\n",
    "    Dense(10, activation = 'softmax')\n",
    "])"
   ]
  },
  {
   "cell_type": "code",
   "execution_count": 14,
   "metadata": {},
   "outputs": [
    {
     "name": "stdout",
     "output_type": "stream",
     "text": [
      "Model: \"sequential\"\n",
      "_________________________________________________________________\n",
      "Layer (type)                 Output Shape              Param #   \n",
      "=================================================================\n",
      "dense (Dense)                (None, 128)               100480    \n",
      "_________________________________________________________________\n",
      "dense_1 (Dense)              (None, 128)               16512     \n",
      "_________________________________________________________________\n",
      "dense_2 (Dense)              (None, 10)                1290      \n",
      "=================================================================\n",
      "Total params: 118,282\n",
      "Trainable params: 118,282\n",
      "Non-trainable params: 0\n",
      "_________________________________________________________________\n"
     ]
    }
   ],
   "source": [
    "model.compile(\n",
    "    optimizer = 'sgd',\n",
    "    loss = 'categorical_crossentropy',\n",
    "    metrics = ['accuracy']\n",
    ")\n",
    "\n",
    "model.summary()"
   ]
  },
  {
   "cell_type": "code",
   "execution_count": 15,
   "metadata": {},
   "outputs": [
    {
     "name": "stdout",
     "output_type": "stream",
     "text": [
      "Train on 60000 samples\n",
      "Epoch 1/3\n",
      "60000/60000 [==============================] - 10s 163us/sample - loss: 0.3764 - accuracy: 0.8903\n",
      "Epoch 2/3\n",
      "60000/60000 [==============================] - 9s 149us/sample - loss: 0.1816 - accuracy: 0.9473\n",
      "Epoch 3/3\n",
      "60000/60000 [==============================] - 8s 136us/sample - loss: 0.1376 - accuracy: 0.9596\n"
     ]
    }
   ],
   "source": [
    "h = model.fit(\n",
    "    x_train_norm,\n",
    "    y_train_encoded,\n",
    "    epochs = 3\n",
    ")"
   ]
  },
  {
   "cell_type": "code",
   "execution_count": 17,
   "metadata": {},
   "outputs": [
    {
     "name": "stdout",
     "output_type": "stream",
     "text": [
      "test set accuracy:  95.8899974822998\n"
     ]
    }
   ],
   "source": [
    "print('test set accuracy: ', accuracy * 100)"
   ]
  },
  {
   "cell_type": "code",
   "execution_count": 18,
   "metadata": {},
   "outputs": [
    {
     "name": "stdout",
     "output_type": "stream",
     "text": [
      "shape of preds:  (10000, 10)\n"
     ]
    }
   ],
   "source": [
    "preds = model.predict(x_test_norm)\n",
    "print('shape of preds: ', preds.shape)"
   ]
  },
  {
   "cell_type": "code",
   "execution_count": 20,
   "metadata": {},
   "outputs": [],
   "source": [
    "pred_label=[]\n",
    "for i in range(len(preds)):\n",
    "    pred_label.append(np.argmax(preds[i]))"
   ]
  },
  {
   "cell_type": "code",
   "execution_count": 21,
   "metadata": {},
   "outputs": [],
   "source": [
    "from mlxtend.plotting import plot_confusion_matrix\n",
    "from sklearn.metrics import confusion_matrix"
   ]
  },
  {
   "cell_type": "code",
   "execution_count": 304,
   "metadata": {},
   "outputs": [],
   "source": [
    "val_pred=model.predict_classes(x_test.reshape(10000,784,))"
   ]
  },
  {
   "cell_type": "code",
   "execution_count": 306,
   "metadata": {},
   "outputs": [],
   "source": [
    "diff_index_model_0=[]\n",
    "for i in range(len(y_test)):\n",
    "    if y_test[i]!=val_pred[i]:\n",
    "        diff_index_model_0.append(i)"
   ]
  },
  {
   "cell_type": "code",
   "execution_count": 307,
   "metadata": {},
   "outputs": [
    {
     "data": {
      "text/plain": [
       "536"
      ]
     },
     "execution_count": 307,
     "metadata": {},
     "output_type": "execute_result"
    }
   ],
   "source": [
    "#number of wrong labeled pictures\n",
    "len(diff_index_model_0)"
   ]
  },
  {
   "cell_type": "code",
   "execution_count": 58,
   "metadata": {},
   "outputs": [
    {
     "data": {
      "text/plain": [
       "(<Figure size 864x864 with 1 Axes>,\n",
       " <matplotlib.axes._subplots.AxesSubplot at 0x644d52e90>)"
      ]
     },
     "execution_count": 58,
     "metadata": {},
     "output_type": "execute_result"
    },
    {
     "data": {
      "image/png": "[encoded data removed]",
      "text/plain": [
       "<Figure size 864x864 with 1 Axes>"
      ]
     },
     "metadata": {
      "needs_background": "light"
     },
     "output_type": "display_data"
    }
   ],
   "source": [
    "#confusion matrix of test set\n",
    "mat=confusion_matrix(y_test,val_pred)\n",
    "plot_confusion_matrix(mat,figsize=(12,12),class_names=[0,1,2,3,4,5,6,7,8,9])"
   ]
  },
  {
   "cell_type": "code",
   "execution_count": 27,
   "metadata": {},
   "outputs": [],
   "source": [
    "diff_index=[]\n",
    "for i in range(len(pred_label)):\n",
    "    if y_test[i]!=pred_label[i]:\n",
    "        diff_index.append(i)   "
   ]
  },
  {
   "cell_type": "code",
   "execution_count": 317,
   "metadata": {},
   "outputs": [
    {
     "data": {
      "image/png": "[encoded data removed]",
      "text/plain": [
       "<Figure size 864x864 with 25 Axes>"
      ]
     },
     "metadata": {},
     "output_type": "display_data"
    }
   ],
   "source": [
    "plt.figure(figsize = (12, 12))\n",
    "start_index=0\n",
    "for i in range(25):\n",
    "    plt.subplot(5, 5, i + 1)\n",
    "    plt.grid(False)\n",
    "    plt.xticks([])\n",
    "    plt.yticks([])\n",
    "    col = 'r'\n",
    "    plt.xlabel('i={} | pred={} | true={}'.format(start_index + i, pred_label[diff_index[i]], y_test[diff_index[i]]), color = col)\n",
    "    plt.imshow(x_test[diff_index[i]], cmap='binary')\n",
    "plt.show()"
   ]
  },
  {
   "cell_type": "code",
   "execution_count": 31,
   "metadata": {},
   "outputs": [],
   "source": [
    "img_3_digit=np.invert(Image.open(\"Image_3_resized.png\").convert('L'))"
   ]
  },
  {
   "cell_type": "code",
   "execution_count": 32,
   "metadata": {},
   "outputs": [],
   "source": [
    "img_3_digit_norm=img_3_digit/255"
   ]
  },
  {
   "cell_type": "code",
   "execution_count": 33,
   "metadata": {},
   "outputs": [],
   "source": [
    "img_3_digit_norm_reshaped=img_3_digit_norm.reshape(1,784,)"
   ]
  },
  {
   "cell_type": "code",
   "execution_count": 34,
   "metadata": {},
   "outputs": [],
   "source": [
    "preds_3 = model.predict(img_3_digit_norm_reshaped)"
   ]
  },
  {
   "cell_type": "code",
   "execution_count": 35,
   "metadata": {},
   "outputs": [],
   "source": [
    "preds_3_label =np.argmax(preds_3)"
   ]
  },
  {
   "cell_type": "code",
   "execution_count": 36,
   "metadata": {},
   "outputs": [
    {
     "data": {
      "text/plain": [
       "3"
      ]
     },
     "execution_count": 36,
     "metadata": {},
     "output_type": "execute_result"
    }
   ],
   "source": [
    "preds_3_label"
   ]
  },
  {
   "cell_type": "code",
   "execution_count": 37,
   "metadata": {},
   "outputs": [
    {
     "data": {
      "text/plain": [
       "array([[0.0964295 , 0.09826421, 0.09130302, 0.12495676, 0.09254111,\n",
       "        0.10466257, 0.0943895 , 0.09995516, 0.09976217, 0.09773592]],\n",
       "      dtype=float32)"
      ]
     },
     "execution_count": 37,
     "metadata": {},
     "output_type": "execute_result"
    }
   ],
   "source": [
    "preds_3"
   ]
  },
  {
   "cell_type": "code",
   "execution_count": 38,
   "metadata": {},
   "outputs": [],
   "source": [
    "img_3_digit_revised=img_3_digit+244"
   ]
  },
  {
   "cell_type": "code",
   "execution_count": 39,
   "metadata": {},
   "outputs": [
    {
     "data": {
      "text/plain": [
       "3"
      ]
     },
     "execution_count": 39,
     "metadata": {},
     "output_type": "execute_result"
    }
   ],
   "source": [
    "img_3_digit_revised_norm=img_3_digit_revised/255\n",
    "img_3_digit_revised_norm_reshaped=img_3_digit_revised_norm.reshape(1,784,)\n",
    "preds_3_revised = model.predict(img_3_digit_revised_norm_reshaped)\n",
    "preds_3_revised_label =np.argmax(preds_3_revised)\n",
    "preds_3_revised_label"
   ]
  },
  {
   "cell_type": "code",
   "execution_count": 40,
   "metadata": {},
   "outputs": [
    {
     "data": {
      "text/plain": [
       "array([[0.1162521 , 0.02632905, 0.08478498, 0.24797593, 0.06777888,\n",
       "        0.0405129 , 0.08021574, 0.06355789, 0.16978472, 0.10280781]],\n",
       "      dtype=float32)"
      ]
     },
     "execution_count": 40,
     "metadata": {},
     "output_type": "execute_result"
    }
   ],
   "source": [
    "preds_3_revised"
   ]
  },
  {
   "cell_type": "code",
   "execution_count": 41,
   "metadata": {},
   "outputs": [],
   "source": [
    "from PIL import Image\n",
    "img_3 = Image.open(\"Image_3_resized.png\")\n",
    "img_3_digit=np.invert(Image.open(\"Image_3_resized.png\").convert('L'))\n",
    "\n",
    "img_3_digit_dark=img_3_digit+244\n",
    "img_3_dark = Image.fromarray(img_3_digit_dark)\n",
    "img_3_dark.save(\"image_3_dark.png\", \"PNG\")"
   ]
  },
  {
   "cell_type": "code",
   "execution_count": 42,
   "metadata": {},
   "outputs": [],
   "source": [
    "img_3_dark = Image.open(\"image_3_dark.png\")"
   ]
  },
  {
   "cell_type": "code",
   "execution_count": 333,
   "metadata": {},
   "outputs": [
    {
     "data": {
      "image/png": "[encoded data removed]",
      "text/plain": [
       "<PIL.PngImagePlugin.PngImageFile image mode=L size=28x28 at 0x1A68D9CAD0>"
      ]
     },
     "execution_count": 333,
     "metadata": {},
     "output_type": "execute_result"
    }
   ],
   "source": [
    "img_3_dark"
   ]
  },
  {
   "cell_type": "code",
   "execution_count": 334,
   "metadata": {},
   "outputs": [
    {
     "data": {
      "text/plain": [
       "array([[254, 254, 254, 254, 254, 254, 254, 254, 254, 254, 254, 254, 254,\n",
       "        254, 254, 254, 254, 254, 254, 254, 254, 254, 254, 254, 254, 254,\n",
       "        254, 254],\n",
       "       [254, 254, 254, 254, 254, 254, 254, 254, 254, 254, 254, 254, 254,\n",
       "        255, 255, 254, 254, 254, 254, 254, 254, 254, 254, 254, 254, 254,\n",
       "        254, 254],\n",
       "       [254, 254, 254, 254, 254, 254, 254, 254, 254, 254, 254, 254, 251,\n",
       "        250, 250, 251, 251, 252, 254, 254, 254, 254, 254, 254, 254, 254,\n",
       "        254, 254],\n",
       "       [254, 254, 254, 254, 254, 254, 254, 254, 254, 254, 252, 252,   9,\n",
       "         18,  21,  18,  16,   4, 251, 254, 254, 254, 254, 254, 254, 254,\n",
       "        254, 254],\n",
       "       [254, 254, 254, 254, 254, 254, 254, 254, 254, 252,   3,  26,  20,\n",
       "          9,   6,   4,   6,  21,  10, 251, 254, 254, 253, 254, 254, 254,\n",
       "        254, 254],\n",
       "       [254, 254, 254, 254, 254, 254, 254, 254, 253,   1,  23,   2, 249,\n",
       "        251, 252, 252, 252, 251,  19,   5, 252, 254, 254, 254, 254, 254,\n",
       "        254, 254],\n",
       "       [254, 254, 254, 254, 254, 254, 254, 254, 253,   1, 255, 252, 255,\n",
       "        254, 254, 254, 254, 253,   1,  16, 251, 254, 254, 254, 254, 254,\n",
       "        254, 254],\n",
       "       [254, 254, 254, 254, 254, 254, 254, 254, 254, 253, 253, 254, 254,\n",
       "        254, 254, 254, 254, 255, 253,  15, 254, 254, 254, 254, 254, 254,\n",
       "        254, 254],\n",
       "       [254, 254, 254, 254, 254, 254, 254, 254, 254, 254, 254, 254, 254,\n",
       "        254, 254, 254, 255, 250,   3,  18, 252, 254, 254, 254, 254, 254,\n",
       "        254, 254],\n",
       "       [254, 254, 254, 254, 254, 254, 254, 254, 254, 254, 254, 254, 254,\n",
       "        254, 255, 254, 249,   8,  29,   2, 253, 254, 254, 254, 254, 254,\n",
       "        254, 254],\n",
       "       [254, 254, 254, 254, 254, 254, 254, 254, 254, 253, 254, 254, 251,\n",
       "        249, 246, 252,  19,  26,   0, 252, 254, 254, 254, 254, 254, 254,\n",
       "        254, 254],\n",
       "       [254, 254, 254, 254, 254, 254, 254, 254, 254, 254, 253, 253,   9,\n",
       "         17,  38,  48,  28, 250, 250, 255, 253, 254, 254, 254, 254, 254,\n",
       "        254, 254],\n",
       "       [254, 254, 254, 254, 254, 254, 254, 254, 254, 254, 254,  39,  54,\n",
       "         30,  27,  19,  21,  36,   9, 250, 255, 254, 254, 254, 254, 254,\n",
       "        254, 254],\n",
       "       [254, 254, 254, 254, 254, 254, 254, 254, 254, 254, 254, 255, 248,\n",
       "        247, 247, 249, 249, 254,  30,   6, 252, 254, 254, 254, 254, 254,\n",
       "        254, 254],\n",
       "       [254, 254, 254, 254, 254, 254, 254, 254, 254, 254, 254, 253, 255,\n",
       "        255, 255, 255, 255, 251,   2,  23, 251, 254, 254, 254, 254, 254,\n",
       "        254, 254],\n",
       "       [254, 254, 254, 254, 254, 254, 254, 254, 254, 253, 254, 254, 254,\n",
       "        254, 254, 254, 254, 254, 253,  20, 255, 254, 253, 254, 254, 254,\n",
       "        254, 254],\n",
       "       [254, 254, 254, 254, 254, 254, 254, 254, 254, 254, 254, 254, 254,\n",
       "        254, 254, 254, 254, 254, 252,  18,   0, 253, 254, 254, 254, 254,\n",
       "        254, 254],\n",
       "       [254, 254, 254, 254, 254, 254, 254, 254, 254, 254, 254, 254, 254,\n",
       "        254, 254, 254, 254, 254, 252,  19,   1, 253, 254, 254, 254, 254,\n",
       "        254, 254],\n",
       "       [254, 254, 254, 254, 254, 254, 254, 254, 254, 254, 254, 254, 254,\n",
       "        254, 254, 254, 254, 253,   0,  22, 252, 254, 254, 254, 254, 254,\n",
       "        254, 254],\n",
       "       [254, 254, 254, 254, 254, 254, 254, 254, 254, 254, 254, 254, 255,\n",
       "        254, 254, 255, 255, 248,  20,   9, 251, 254, 254, 254, 254, 254,\n",
       "        254, 254],\n",
       "       [254, 254, 254, 254, 254, 254, 254, 254, 254, 253, 254, 253, 248,\n",
       "        251, 251, 249, 249,  19,  18, 250, 254, 254, 253, 254, 254, 254,\n",
       "        254, 254],\n",
       "       [254, 254, 254, 254, 254, 254, 254, 254, 254, 254, 251,  33,  24,\n",
       "          7,  11,  19,  31,  17, 250, 254, 254, 254, 254, 254, 254, 254,\n",
       "        254, 254],\n",
       "       [254, 254, 254, 254, 254, 254, 254, 254, 254, 254, 253,   2,  35,\n",
       "         35,  31,  23,   4, 250, 254, 254, 254, 254, 254, 254, 254, 254,\n",
       "        254, 254],\n",
       "       [254, 254, 254, 254, 254, 254, 254, 254, 254, 254, 254, 252, 247,\n",
       "        249, 248, 248, 252, 255, 254, 254, 254, 254, 254, 254, 254, 254,\n",
       "        254, 254],\n",
       "       [254, 254, 254, 254, 254, 254, 254, 254, 254, 254, 254, 254, 255,\n",
       "        255, 255, 255, 254, 254, 254, 254, 254, 254, 254, 254, 254, 254,\n",
       "        254, 254],\n",
       "       [254, 254, 254, 254, 254, 254, 254, 254, 254, 254, 254, 254, 254,\n",
       "        254, 254, 254, 254, 254, 254, 254, 254, 254, 254, 254, 254, 254,\n",
       "        254, 254],\n",
       "       [254, 254, 254, 254, 254, 254, 254, 254, 254, 254, 254, 254, 254,\n",
       "        254, 254, 254, 254, 254, 254, 254, 254, 254, 254, 254, 254, 254,\n",
       "        254, 254],\n",
       "       [254, 254, 254, 254, 254, 254, 254, 254, 254, 254, 254, 254, 254,\n",
       "        254, 254, 254, 254, 254, 254, 254, 254, 254, 254, 254, 254, 254,\n",
       "        254, 254]], dtype=uint8)"
      ]
     },
     "execution_count": 334,
     "metadata": {},
     "output_type": "execute_result"
    }
   ],
   "source": [
    "img_3_digit_dark"
   ]
  },
  {
   "cell_type": "code",
   "execution_count": null,
   "metadata": {},
   "outputs": [],
   "source": []
  },
  {
   "cell_type": "code",
   "execution_count": 76,
   "metadata": {},
   "outputs": [],
   "source": [
    "from matplotlib import pyplot"
   ]
  },
  {
   "cell_type": "code",
   "execution_count": 77,
   "metadata": {},
   "outputs": [],
   "source": [
    "img_8_digit=np.invert(Image.open(\"Image_8_resized.png\").convert('L'))"
   ]
  },
  {
   "cell_type": "code",
   "execution_count": null,
   "metadata": {},
   "outputs": [],
   "source": [
    "img_8_digit_revised=img_8_digit*1.2"
   ]
  },
  {
   "cell_type": "code",
   "execution_count": null,
   "metadata": {},
   "outputs": [],
   "source": [
    "import matplotlib.pyplot as pyplot\n",
    "pyplot.imshow(img_8_digit_revised)"
   ]
  },
  {
   "cell_type": "code",
   "execution_count": null,
   "metadata": {},
   "outputs": [],
   "source": [
    "img_3 = Image.open(\"Image_3.png\")"
   ]
  },
  {
   "cell_type": "code",
   "execution_count": null,
   "metadata": {},
   "outputs": [],
   "source": [
    "img_3_digit=np.invert(Image.open(\"Image_3_resized.png\").convert('L'))"
   ]
  },
  {
   "cell_type": "code",
   "execution_count": null,
   "metadata": {},
   "outputs": [],
   "source": [
    "img_3_digit_dark=img_3_digit+150"
   ]
  },
  {
   "cell_type": "code",
   "execution_count": null,
   "metadata": {},
   "outputs": [],
   "source": [
    "pyplot.imshow(img_3_digit_dark,cmap=\"binary\")"
   ]
  },
  {
   "cell_type": "code",
   "execution_count": null,
   "metadata": {},
   "outputs": [],
   "source": [
    "img_3_dark = Image.fromarray(img_3_digit_dark)"
   ]
  },
  {
   "cell_type": "code",
   "execution_count": null,
   "metadata": {},
   "outputs": [],
   "source": [
    "img_3_dark.save(\"image_3_dark.png\", \"PNG\")"
   ]
  },
  {
   "cell_type": "code",
   "execution_count": null,
   "metadata": {},
   "outputs": [],
   "source": [
    "img_3_digit_dark_1=img_3_digit*2\n",
    "img_3_dark_1=Image.fromarray(img_3_digit_dark_1)\n",
    "img_3_dark_1.save(\"image_3_dark_1.png\", \"PNG\")"
   ]
  },
  {
   "cell_type": "code",
   "execution_count": null,
   "metadata": {},
   "outputs": [],
   "source": [
    "img_3_digit_dark_2=img_3_digit*3\n",
    "img_3_dark_2=Image.fromarray(img_3_digit_dark_2)\n",
    "img_3_dark_2.save(\"image_3_dark_2.png\", \"PNG\")"
   ]
  },
  {
   "cell_type": "code",
   "execution_count": 74,
   "metadata": {},
   "outputs": [
    {
     "ename": "NameError",
     "evalue": "name 'pyplot' is not defined",
     "output_type": "error",
     "traceback": [
      "\u001b[0;31m---------------------------------------------------------------------------\u001b[0m",
      "\u001b[0;31mNameError\u001b[0m                                 Traceback (most recent call last)",
      "\u001b[0;32m<ipython-input-74-bc518fa2ae60>\u001b[0m in \u001b[0;36m<module>\u001b[0;34m\u001b[0m\n\u001b[0;32m----> 1\u001b[0;31m \u001b[0mpyplot\u001b[0m\u001b[0;34m.\u001b[0m\u001b[0mimshow\u001b[0m\u001b[0;34m(\u001b[0m\u001b[0mimg_3_digit\u001b[0m\u001b[0;34m,\u001b[0m\u001b[0mcmap\u001b[0m\u001b[0;34m=\u001b[0m\u001b[0;34m\"binary\"\u001b[0m\u001b[0;34m)\u001b[0m\u001b[0;34m\u001b[0m\u001b[0;34m\u001b[0m\u001b[0m\n\u001b[0m",
      "\u001b[0;31mNameError\u001b[0m: name 'pyplot' is not defined"
     ]
    }
   ],
   "source": [
    "pyplot.imshow(img_3_digit,cmap=\"binary\")"
   ]
  },
  {
   "cell_type": "code",
   "execution_count": null,
   "metadata": {},
   "outputs": [],
   "source": []
  },
  {
   "cell_type": "code",
   "execution_count": null,
   "metadata": {},
   "outputs": [],
   "source": [
    "img_3_dight_reshaped=img_3_digit.reshape(784,)"
   ]
  },
  {
   "cell_type": "code",
   "execution_count": null,
   "metadata": {},
   "outputs": [],
   "source": [
    "for i in range(1,len(img_3_dight_reshaped)):\n",
    "    if img_3_dight_reshaped[i]<=10:\n",
    "        img_3_dight_reshaped[i]=0 "
   ]
  },
  {
   "cell_type": "code",
   "execution_count": null,
   "metadata": {},
   "outputs": [],
   "source": [
    "img_3_dight_28_28=img_3_dight_reshaped.reshape(28,28)"
   ]
  },
  {
   "cell_type": "code",
   "execution_count": null,
   "metadata": {},
   "outputs": [],
   "source": [
    "img_3_28_28=Image.fromarray(img_3_dight_28_28)"
   ]
  },
  {
   "cell_type": "code",
   "execution_count": null,
   "metadata": {},
   "outputs": [],
   "source": [
    "img_3_28_28.save(\"img_3_dight_28_28.png\", \"PNG\")"
   ]
  },
  {
   "cell_type": "code",
   "execution_count": null,
   "metadata": {},
   "outputs": [],
   "source": [
    "pyplot.imshow(img_3_dight_28_28,cmap=\"binary\")"
   ]
  },
  {
   "cell_type": "code",
   "execution_count": null,
   "metadata": {},
   "outputs": [],
   "source": [
    "img_3_dight_reshaped"
   ]
  },
  {
   "cell_type": "code",
   "execution_count": null,
   "metadata": {},
   "outputs": [],
   "source": [
    "pyplot.imshow(img_3_digit,cmap=\"binary\")"
   ]
  },
  {
   "cell_type": "code",
   "execution_count": null,
   "metadata": {},
   "outputs": [],
   "source": [
    "img_3_digit"
   ]
  },
  {
   "cell_type": "code",
   "execution_count": null,
   "metadata": {},
   "outputs": [],
   "source": [
    "from tensorflow.keras import Sequential\n",
    "from tensorflow.keras.layers import Conv2D,MaxPooling2D,Dropout,Flatten,Dense\n",
    "model_2=Sequential()\n",
    "\n",
    "model_2.add(Conv2D(filters=24,kernel_size=(3,3),padding='same',activation='relu',input_shape=(28,28,1)))\n",
    "model_2.add(Conv2D(filters=24,kernel_size=(3,3),padding='same',activation='relu'))\n",
    "model_2.add(MaxPooling2D(pool_size=(2,2),strides=2))\n",
    "model_2.add(Dropout(0.4))\n",
    "\n",
    "model_2.add(Conv2D(filters=48,kernel_size=(3,3),padding='same',activation='relu'))\n",
    "model_2.add(Conv2D(filters=48,kernel_size=(3,3),padding='same',activation='relu'))\n",
    "model_2.add(MaxPooling2D(pool_size=(2,2)))\n",
    "model_2.add(Dropout(0.4))\n",
    "\n",
    "model_2.add(Conv2D(filters=64,kernel_size=5,padding='same',activation='relu'))\n",
    "model_2.add(Conv2D(filters=64,kernel_size=5,padding='same',activation='relu'))\n",
    "model_2.add(MaxPooling2D(pool_size=(2,2)))\n",
    "model_2.add(Dropout(0.4))\n",
    "\n",
    "model_2.add(Flatten())\n",
    "model_2.add(Dense(256,activation='relu'))\n",
    "model_2.add(Dropout(0.5))\n",
    "model_2.add(Dense(10,activation='softmax'))"
   ]
  },
  {
   "cell_type": "code",
   "execution_count": null,
   "metadata": {},
   "outputs": [],
   "source": [
    "model_2.compile(\n",
    "    optimizer = 'adam',\n",
    "    loss = 'sparse_categorical_crossentropy',\n",
    "    metrics = ['sparse_categorical_accuracy']\n",
    ")\n",
    "\n",
    "model_2.summary()"
   ]
  },
  {
   "cell_type": "code",
   "execution_count": null,
   "metadata": {},
   "outputs": [],
   "source": [
    "hist_2 = model_2.fit(\n",
    "    x_train_norm.reshape(-1, 28,28, 1),\n",
    "    y_train_encoded,\n",
    "    batch_size=64,\n",
    "    epochs = 3\n",
    ")"
   ]
  },
  {
   "cell_type": "code",
   "execution_count": null,
   "metadata": {},
   "outputs": [],
   "source": []
  },
  {
   "cell_type": "code",
   "execution_count": 46,
   "metadata": {},
   "outputs": [
    {
     "name": "stderr",
     "output_type": "stream",
     "text": [
      "Using TensorFlow backend.\n"
     ]
    },
    {
     "name": "stdout",
     "output_type": "stream",
     "text": [
      "Model: \"sequential_1\"\n",
      "_________________________________________________________________\n",
      "Layer (type)                 Output Shape              Param #   \n",
      "=================================================================\n",
      "conv2d_1 (Conv2D)            (None, 26, 26, 64)        640       \n",
      "_________________________________________________________________\n",
      "activation_1 (Activation)    (None, 26, 26, 64)        0         \n",
      "_________________________________________________________________\n",
      "max_pooling2d_1 (MaxPooling2 (None, 13, 13, 64)        0         \n",
      "_________________________________________________________________\n",
      "conv2d_2 (Conv2D)            (None, 11, 11, 64)        36928     \n",
      "_________________________________________________________________\n",
      "activation_2 (Activation)    (None, 11, 11, 64)        0         \n",
      "_________________________________________________________________\n",
      "max_pooling2d_2 (MaxPooling2 (None, 5, 5, 64)          0         \n",
      "_________________________________________________________________\n",
      "flatten_1 (Flatten)          (None, 1600)              0         \n",
      "_________________________________________________________________\n",
      "dense_1 (Dense)              (None, 64)                102464    \n",
      "_________________________________________________________________\n",
      "dense_2 (Dense)              (None, 10)                650       \n",
      "_________________________________________________________________\n",
      "activation_3 (Activation)    (None, 10)                0         \n",
      "=================================================================\n",
      "Total params: 140,682\n",
      "Trainable params: 140,682\n",
      "Non-trainable params: 0\n",
      "_________________________________________________________________\n"
     ]
    }
   ],
   "source": [
    "import keras\n",
    "from keras.datasets import fashion_mnist \n",
    "from keras.layers import Dense, Activation, Flatten, Conv2D, MaxPooling2D\n",
    "from keras.models import Sequential\n",
    "from keras.utils import to_categorical\n",
    "model_3 = Sequential()\n",
    "\n",
    "model_3.add(Conv2D(64, (3,3), input_shape=(28, 28, 1)))\n",
    "model_3.add(Activation('relu'))\n",
    "model_3.add(MaxPooling2D(pool_size=(2,2)))\n",
    "\n",
    "model_3.add(Conv2D(64, (3,3)))\n",
    "model_3.add(Activation('relu'))\n",
    "model_3.add(MaxPooling2D(pool_size=(2,2)))\n",
    "\n",
    "model_3.add(Flatten())\n",
    "model_3.add(Dense(64))\n",
    "\n",
    "model_3.add(Dense(10))\n",
    "model_3.add(Activation('softmax'))\n",
    "\n",
    "model_3.compile(loss=keras.losses.categorical_crossentropy, optimizer=keras.optimizers.Adam(),metrics=['accuracy'])\n",
    "model_3.summary()"
   ]
  },
  {
   "cell_type": "code",
   "execution_count": 47,
   "metadata": {},
   "outputs": [
    {
     "name": "stdout",
     "output_type": "stream",
     "text": [
      "Epoch 1/3\n",
      "60000/60000 [==============================] - 57s 954us/step - loss: 0.1236 - accuracy: 0.9629\n",
      "Epoch 2/3\n",
      "60000/60000 [==============================] - 58s 961us/step - loss: 0.0446 - accuracy: 0.9860\n",
      "Epoch 3/3\n",
      "60000/60000 [==============================] - 59s 987us/step - loss: 0.0317 - accuracy: 0.9904\n"
     ]
    }
   ],
   "source": [
    "hist_3 = model_3.fit(\n",
    "    x_train_norm.reshape(-1, 28,28, 1),\n",
    "    y_train_encoded,\n",
    "    batch_size=64,\n",
    "    epochs = 3\n",
    ")"
   ]
  },
  {
   "cell_type": "code",
   "execution_count": null,
   "metadata": {},
   "outputs": [],
   "source": [
    "#convergent plot"
   ]
  },
  {
   "cell_type": "code",
   "execution_count": 56,
   "metadata": {},
   "outputs": [],
   "source": [
    "preds_model_3 = model_3.predict_classes(x_test_norm.reshape(-1,28,28,1))"
   ]
  },
  {
   "cell_type": "code",
   "execution_count": 63,
   "metadata": {},
   "outputs": [
    {
     "data": {
      "text/plain": [
       "array([7, 2, 1, ..., 4, 5, 6])"
      ]
     },
     "execution_count": 63,
     "metadata": {},
     "output_type": "execute_result"
    }
   ],
   "source": [
    "preds_model_3"
   ]
  },
  {
   "cell_type": "code",
   "execution_count": 318,
   "metadata": {},
   "outputs": [
    {
     "data": {
      "text/plain": [
       "array([7, 2, 1, ..., 4, 5, 6], dtype=uint8)"
      ]
     },
     "execution_count": 318,
     "metadata": {},
     "output_type": "execute_result"
    }
   ],
   "source": [
    "y_test"
   ]
  },
  {
   "cell_type": "code",
   "execution_count": 320,
   "metadata": {},
   "outputs": [
    {
     "name": "stdout",
     "output_type": "stream",
     "text": [
      "10000/10000 [==============================] - 5s 545us/step\n"
     ]
    }
   ],
   "source": [
    "loss_3, accuracy_3 = model_3.evaluate(x_test_norm.reshape(-1,28,28,1), y_test_encoded)"
   ]
  },
  {
   "cell_type": "code",
   "execution_count": 321,
   "metadata": {},
   "outputs": [
    {
     "data": {
      "text/plain": [
       "0.9901999831199646"
      ]
     },
     "execution_count": 321,
     "metadata": {},
     "output_type": "execute_result"
    }
   ],
   "source": [
    "accuracy_3"
   ]
  },
  {
   "cell_type": "code",
   "execution_count": null,
   "metadata": {},
   "outputs": [],
   "source": []
  },
  {
   "cell_type": "code",
   "execution_count": null,
   "metadata": {},
   "outputs": [],
   "source": []
  },
  {
   "cell_type": "code",
   "execution_count": 70,
   "metadata": {},
   "outputs": [],
   "source": [
    "diff_index_model_3=[]\n",
    "for i in range(len(y_test)):\n",
    "    if y_test[i]!=preds_model_3[i]:\n",
    "        diff_index_model_3.append(i)"
   ]
  },
  {
   "cell_type": "code",
   "execution_count": 72,
   "metadata": {},
   "outputs": [
    {
     "data": {
      "text/plain": [
       "98"
      ]
     },
     "execution_count": 72,
     "metadata": {},
     "output_type": "execute_result"
    }
   ],
   "source": [
    "len(diff_index_model_3)"
   ]
  },
  {
   "cell_type": "code",
   "execution_count": 62,
   "metadata": {},
   "outputs": [
    {
     "data": {
      "text/plain": [
       "(<Figure size 864x864 with 1 Axes>,\n",
       " <matplotlib.axes._subplots.AxesSubplot at 0x6649354d0>)"
      ]
     },
     "execution_count": 62,
     "metadata": {},
     "output_type": "execute_result"
    },
    {
     "data": {
      "image/png": "[encoded data removed]",
      "text/plain": [
       "<Figure size 864x864 with 1 Axes>"
      ]
     },
     "metadata": {
      "needs_background": "light"
     },
     "output_type": "display_data"
    }
   ],
   "source": [
    "mat_3=confusion_matrix(y_test,preds_model_3)\n",
    "plot_confusion_matrix(mat_3,figsize=(12,12),class_names=[0,1,2,3,4,5,6,7,8,9])"
   ]
  },
  {
   "cell_type": "code",
   "execution_count": 322,
   "metadata": {},
   "outputs": [
    {
     "data": {
      "image/png": "[encoded data removed]",
      "text/plain": [
       "<Figure size 864x864 with 25 Axes>"
      ]
     },
     "metadata": {},
     "output_type": "display_data"
    }
   ],
   "source": [
    "plt.figure(figsize = (12, 12))\n",
    "start_index=0\n",
    "for i in range(25):\n",
    "    plt.subplot(5, 5, i + 1)\n",
    "    plt.grid(False)\n",
    "    plt.xticks([])\n",
    "    plt.yticks([])\n",
    "    col = 'r'\n",
    "    plt.xlabel('i={} | pred={} | true={}'.format(start_index + i, preds_model_3[diff_index_model_3[i]], y_test[diff_index_model_3[i]]), color = col)\n",
    "    plt.imshow(x_test[diff_index_model_3[i]], cmap='binary')\n",
    "plt.show()"
   ]
  },
  {
   "cell_type": "code",
   "execution_count": 80,
   "metadata": {},
   "outputs": [],
   "source": [
    "img_3_digit=np.invert(Image.open(\"Image_3_resized.png\").convert('L'))"
   ]
  },
  {
   "cell_type": "code",
   "execution_count": 308,
   "metadata": {},
   "outputs": [],
   "source": [
    "img_3=Image.open(\"Image_3_resized.png\")"
   ]
  },
  {
   "cell_type": "code",
   "execution_count": 310,
   "metadata": {},
   "outputs": [
    {
     "data": {
      "image/png": "[encoded data removed]",
      "text/plain": [
       "<PIL.PngImagePlugin.PngImageFile image mode=RGBA size=28x28 at 0x1DD1E59C90>"
      ]
     },
     "execution_count": 310,
     "metadata": {},
     "output_type": "execute_result"
    }
   ],
   "source": [
    "img_3"
   ]
  },
  {
   "cell_type": "code",
   "execution_count": 83,
   "metadata": {},
   "outputs": [],
   "source": [
    "img_3_digit_norm=img_3_digit/255"
   ]
  },
  {
   "cell_type": "code",
   "execution_count": null,
   "metadata": {},
   "outputs": [],
   "source": [
    "img_3_digit_norm"
   ]
  },
  {
   "cell_type": "code",
   "execution_count": 84,
   "metadata": {},
   "outputs": [],
   "source": [
    "preds_model_3_img_3 = model_3.predict_classes(img_3_digit_norm.reshape(-1,28,28,1))"
   ]
  },
  {
   "cell_type": "code",
   "execution_count": 323,
   "metadata": {},
   "outputs": [],
   "source": [
    "preds_model_img_3_arr = model.predict(img_3_digit_norm.reshape(-1,784,))"
   ]
  },
  {
   "cell_type": "code",
   "execution_count": 324,
   "metadata": {},
   "outputs": [
    {
     "data": {
      "text/plain": [
       "array([[0.0964295 , 0.09826421, 0.09130302, 0.12495676, 0.09254111,\n",
       "        0.10466257, 0.0943895 , 0.09995516, 0.09976217, 0.09773592]],\n",
       "      dtype=float32)"
      ]
     },
     "execution_count": 324,
     "metadata": {},
     "output_type": "execute_result"
    }
   ],
   "source": [
    "preds_model_img_3_arr"
   ]
  },
  {
   "cell_type": "code",
   "execution_count": 93,
   "metadata": {},
   "outputs": [],
   "source": [
    "preds_model_3_img_3_arr = model_3.predict(img_3_digit_norm.reshape(-1,28,28,1))"
   ]
  },
  {
   "cell_type": "code",
   "execution_count": 96,
   "metadata": {},
   "outputs": [],
   "source": [
    "img_3_dark_digit=np.invert(Image.open(\"Image_3_dark.png\").convert('L'))\n",
    "img_3_dark_digit_norm=img_3_dark_digit/255\n",
    "preds_model_3_img_dark_3=model_3.predict_classes(img_3_dark_digit_norm.reshape(-1,28,28,1))"
   ]
  },
  {
   "cell_type": "code",
   "execution_count": 98,
   "metadata": {},
   "outputs": [],
   "source": [
    "preds_model_3_img_dark_3_array=model_3.predict(img_3_dark_digit_norm.reshape(-1,28,28,1))"
   ]
  },
  {
   "cell_type": "code",
   "execution_count": 99,
   "metadata": {},
   "outputs": [
    {
     "data": {
      "text/plain": [
       "array([[0.00690787, 0.00942214, 0.05382695, 0.8222213 , 0.00446025,\n",
       "        0.01569902, 0.00195717, 0.03151449, 0.01972073, 0.03427014]],\n",
       "      dtype=float32)"
      ]
     },
     "execution_count": 99,
     "metadata": {},
     "output_type": "execute_result"
    }
   ],
   "source": [
    "preds_model_3_img_dark_3_array"
   ]
  },
  {
   "cell_type": "code",
   "execution_count": 111,
   "metadata": {},
   "outputs": [],
   "source": [
    "from tensorflow.keras.preprocessing.image import ImageDataGenerator\n",
    "train_datagen = ImageDataGenerator(\n",
    "    rotation_range = 25,\n",
    "    width_shift_range = 0.2,\n",
    "    height_shift_range = 0.2,\n",
    "    shear_range = 0.2,\n",
    "    zoom_range = 0.2,\n",
    "    horizontal_flip = True,\n",
    ")"
   ]
  },
  {
   "cell_type": "code",
   "execution_count": 130,
   "metadata": {},
   "outputs": [],
   "source": [
    "img_3_digit_gen=train_datagen.flow(img_3_digit.reshape(-1,28,28,1))"
   ]
  },
  {
   "cell_type": "code",
   "execution_count": 122,
   "metadata": {},
   "outputs": [
    {
     "data": {
      "image/png": "[encoded data removed]",
      "text/plain": [
       "<PIL.PngImagePlugin.PngImageFile image mode=RGBA size=28x28 at 0x66409E490>"
      ]
     },
     "execution_count": 122,
     "metadata": {},
     "output_type": "execute_result"
    }
   ],
   "source": [
    "img_3"
   ]
  },
  {
   "cell_type": "code",
   "execution_count": 210,
   "metadata": {},
   "outputs": [],
   "source": [
    "x_train_augment_1=np.ndarray(shape=(60000,28,28),dtype=int)\n",
    "for i in range(len(x_train)):\n",
    "    img_digit_gen=train_datagen.flow(x_train[i].reshape(-1,28,28,1))\n",
    "    a=0\n",
    "    for j in img_digit_gen:\n",
    "        x_train_augment_1[i]=j.reshape(28,28)\n",
    "        a+=1\n",
    "        if a>1:\n",
    "            break"
   ]
  },
  {
   "cell_type": "code",
   "execution_count": null,
   "metadata": {},
   "outputs": [],
   "source": []
  },
  {
   "cell_type": "code",
   "execution_count": 211,
   "metadata": {},
   "outputs": [],
   "source": [
    "x_train_augment_2=np.ndarray(shape=(60000,28,28),dtype=int)\n",
    "for i in range(len(x_train)):\n",
    "    img_digit_gen=train_datagen.flow(x_train[i].reshape(-1,28,28,1))\n",
    "    a=0\n",
    "    for j in img_digit_gen:\n",
    "        x_train_augment_2[i]=j.reshape(28,28)\n",
    "        a+=1\n",
    "        if a>1:\n",
    "            break"
   ]
  },
  {
   "cell_type": "code",
   "execution_count": null,
   "metadata": {},
   "outputs": [],
   "source": []
  },
  {
   "cell_type": "code",
   "execution_count": 212,
   "metadata": {},
   "outputs": [],
   "source": [
    "x_train_augment_3=np.ndarray(shape=(60000,28,28),dtype=int)\n",
    "for i in range(len(x_train)):\n",
    "    img_digit_gen=train_datagen.flow(x_train[i].reshape(-1,28,28,1))\n",
    "    a=0\n",
    "    for j in img_digit_gen:\n",
    "        x_train_augment_3[i]=j.reshape(28,28)\n",
    "        a+=1\n",
    "        if a>1:\n",
    "            break\n"
   ]
  },
  {
   "cell_type": "code",
   "execution_count": null,
   "metadata": {},
   "outputs": [],
   "source": []
  },
  {
   "cell_type": "code",
   "execution_count": 216,
   "metadata": {},
   "outputs": [],
   "source": [
    "x_train_new=np.append(x_train,x_train_augment_1)\n",
    "y_train_new=np.append(y_train,y_train)"
   ]
  },
  {
   "cell_type": "code",
   "execution_count": 217,
   "metadata": {},
   "outputs": [],
   "source": [
    "x_train_new_1=np.append(x_train_new,x_train_augment_2)\n",
    "y_train_new_1=np.append(y_train_new,y_train)"
   ]
  },
  {
   "cell_type": "code",
   "execution_count": 218,
   "metadata": {},
   "outputs": [],
   "source": [
    "x_train_new_2=np.append(x_train_new_1,x_train_augment_3)\n",
    "y_train_new_2=np.append(y_train_new_1,y_train)"
   ]
  },
  {
   "cell_type": "code",
   "execution_count": 326,
   "metadata": {},
   "outputs": [
    {
     "data": {
      "text/plain": [
       "(240000, 28, 28)"
      ]
     },
     "execution_count": 326,
     "metadata": {},
     "output_type": "execute_result"
    }
   ],
   "source": [
    "x_train_new_2_reshaped=x_train_new_2.reshape(240000,28,28)\n",
    "x_train_new_2_reshaped.shape"
   ]
  },
  {
   "cell_type": "code",
   "execution_count": 228,
   "metadata": {},
   "outputs": [],
   "source": [
    "x_train_new_2_reshaped_norm=x_train_new_2_reshaped/255"
   ]
  },
  {
   "cell_type": "code",
   "execution_count": 230,
   "metadata": {},
   "outputs": [
    {
     "name": "stdout",
     "output_type": "stream",
     "text": [
      "Model: \"sequential_3\"\n",
      "_________________________________________________________________\n",
      "Layer (type)                 Output Shape              Param #   \n",
      "=================================================================\n",
      "conv2d_5 (Conv2D)            (None, 26, 26, 64)        640       \n",
      "_________________________________________________________________\n",
      "activation_7 (Activation)    (None, 26, 26, 64)        0         \n",
      "_________________________________________________________________\n",
      "max_pooling2d_5 (MaxPooling2 (None, 13, 13, 64)        0         \n",
      "_________________________________________________________________\n",
      "conv2d_6 (Conv2D)            (None, 11, 11, 64)        36928     \n",
      "_________________________________________________________________\n",
      "activation_8 (Activation)    (None, 11, 11, 64)        0         \n",
      "_________________________________________________________________\n",
      "max_pooling2d_6 (MaxPooling2 (None, 5, 5, 64)          0         \n",
      "_________________________________________________________________\n",
      "flatten_3 (Flatten)          (None, 1600)              0         \n",
      "_________________________________________________________________\n",
      "dense_5 (Dense)              (None, 64)                102464    \n",
      "_________________________________________________________________\n",
      "dense_6 (Dense)              (None, 10)                650       \n",
      "_________________________________________________________________\n",
      "activation_9 (Activation)    (None, 10)                0         \n",
      "=================================================================\n",
      "Total params: 140,682\n",
      "Trainable params: 140,682\n",
      "Non-trainable params: 0\n",
      "_________________________________________________________________\n"
     ]
    }
   ],
   "source": [
    "model_4 = Sequential()\n",
    "\n",
    "model_4.add(Conv2D(64, (3,3), input_shape=(28, 28, 1)))\n",
    "model_4.add(Activation('relu'))\n",
    "model_4.add(MaxPooling2D(pool_size=(2,2)))\n",
    "\n",
    "model_4.add(Conv2D(64, (3,3)))\n",
    "model_4.add(Activation('relu'))\n",
    "model_4.add(MaxPooling2D(pool_size=(2,2)))\n",
    "\n",
    "model_4.add(Flatten())\n",
    "model_4.add(Dense(64))\n",
    "\n",
    "model_4.add(Dense(10))\n",
    "model_4.add(Activation('softmax'))\n",
    "\n",
    "model_4.compile(loss=keras.losses.categorical_crossentropy, optimizer=keras.optimizers.Adam(),metrics=['accuracy'])\n",
    "model_4.summary()"
   ]
  },
  {
   "cell_type": "code",
   "execution_count": 232,
   "metadata": {},
   "outputs": [],
   "source": [
    "y_train_new_2_encoded=to_categorical(y_train_new_2)"
   ]
  },
  {
   "cell_type": "code",
   "execution_count": 235,
   "metadata": {},
   "outputs": [
    {
     "name": "stdout",
     "output_type": "stream",
     "text": [
      "Epoch 1/3\n",
      "240000/240000 [==============================] - 229s 955us/step - loss: 0.5215 - accuracy: 0.8303\n",
      "Epoch 2/3\n",
      "240000/240000 [==============================] - 277s 1ms/step - loss: 0.2776 - accuracy: 0.9109\n",
      "Epoch 3/3\n",
      "240000/240000 [==============================] - 279s 1ms/step - loss: 0.2292 - accuracy: 0.9271\n"
     ]
    }
   ],
   "source": [
    "hist_4 = model_4.fit(\n",
    "    x_train_new_2_reshaped_norm.reshape(-1, 28,28, 1),\n",
    "    y_train_new_2_encoded,\n",
    "    batch_size=64,\n",
    "    epochs = 3\n",
    ")"
   ]
  },
  {
   "cell_type": "code",
   "execution_count": 250,
   "metadata": {},
   "outputs": [
    {
     "data": {
      "text/plain": [
       "<matplotlib.image.AxesImage at 0x1c68031f10>"
      ]
     },
     "execution_count": 250,
     "metadata": {},
     "output_type": "execute_result"
    },
    {
     "data": {
      "image/png": "[encoded data removed]",
      "text/plain": [
       "<Figure size 432x288 with 1 Axes>"
      ]
     },
     "metadata": {
      "needs_background": "light"
     },
     "output_type": "display_data"
    }
   ],
   "source": [
    "plt.imshow(x_train_new_2_reshaped[1])"
   ]
  },
  {
   "cell_type": "code",
   "execution_count": 251,
   "metadata": {},
   "outputs": [
    {
     "data": {
      "text/plain": [
       "0"
      ]
     },
     "execution_count": 251,
     "metadata": {},
     "output_type": "execute_result"
    }
   ],
   "source": [
    "y_train_new_2[1]"
   ]
  },
  {
   "cell_type": "code",
   "execution_count": 252,
   "metadata": {},
   "outputs": [
    {
     "data": {
      "text/plain": [
       "<matplotlib.image.AxesImage at 0x1a7643f0d0>"
      ]
     },
     "execution_count": 252,
     "metadata": {},
     "output_type": "execute_result"
    },
    {
     "data": {
      "image/png": "[encoded data removed]",
      "text/plain": [
       "<Figure size 432x288 with 1 Axes>"
      ]
     },
     "metadata": {
      "needs_background": "light"
     },
     "output_type": "display_data"
    }
   ],
   "source": [
    "plt.imshow(x_train_augment_1[1])"
   ]
  },
  {
   "cell_type": "code",
   "execution_count": 253,
   "metadata": {},
   "outputs": [
    {
     "data": {
      "text/plain": [
       "0"
      ]
     },
     "execution_count": 253,
     "metadata": {},
     "output_type": "execute_result"
    }
   ],
   "source": [
    "y_train_new[1]"
   ]
  },
  {
   "cell_type": "code",
   "execution_count": 262,
   "metadata": {},
   "outputs": [
    {
     "ename": "IndexError",
     "evalue": "invalid index to scalar variable.",
     "output_type": "error",
     "traceback": [
      "\u001b[0;31m---------------------------------------------------------------------------\u001b[0m",
      "\u001b[0;31mIndexError\u001b[0m                                Traceback (most recent call last)",
      "\u001b[0;32m<ipython-input-262-1e44a7b91e26>\u001b[0m in \u001b[0;36m<module>\u001b[0;34m\u001b[0m\n\u001b[0;32m----> 1\u001b[0;31m \u001b[0mx_train_augment_1\u001b[0m\u001b[0;34m=\u001b[0m\u001b[0mx_train_augment_1\u001b[0m\u001b[0;34m[\u001b[0m\u001b[0;36m1\u001b[0m\u001b[0;34m]\u001b[0m\u001b[0;34m/\u001b[0m\u001b[0;36m255\u001b[0m\u001b[0;34m\u001b[0m\u001b[0;34m\u001b[0m\u001b[0m\n\u001b[0m\u001b[1;32m      2\u001b[0m \u001b[0mpreds_model_3_aug_train_1\u001b[0m\u001b[0;34m=\u001b[0m \u001b[0mmodel_3\u001b[0m\u001b[0;34m.\u001b[0m\u001b[0mpredict\u001b[0m\u001b[0;34m(\u001b[0m\u001b[0mx_train_augment_1\u001b[0m\u001b[0;34m.\u001b[0m\u001b[0mreshape\u001b[0m\u001b[0;34m(\u001b[0m\u001b[0;34m-\u001b[0m\u001b[0;36m1\u001b[0m\u001b[0;34m,\u001b[0m\u001b[0;36m28\u001b[0m\u001b[0;34m,\u001b[0m\u001b[0;36m28\u001b[0m\u001b[0;34m,\u001b[0m\u001b[0;36m1\u001b[0m\u001b[0;34m)\u001b[0m\u001b[0;34m)\u001b[0m\u001b[0;34m\u001b[0m\u001b[0;34m\u001b[0m\u001b[0m\n",
      "\u001b[0;31mIndexError\u001b[0m: invalid index to scalar variable."
     ]
    }
   ],
   "source": [
    "x_train_augment_1=x_train_augment_1[1]/255\n",
    "preds_model_3_aug_train_1= model_3.predict(x_train_augment_1.reshape(-1,28,28,1))"
   ]
  },
  {
   "cell_type": "code",
   "execution_count": null,
   "metadata": {},
   "outputs": [],
   "source": []
  },
  {
   "cell_type": "code",
   "execution_count": 195,
   "metadata": {},
   "outputs": [],
   "source": [
    "x_train_new_28_28=x_train_new.reshape(120000,28,28)"
   ]
  },
  {
   "cell_type": "code",
   "execution_count": 268,
   "metadata": {},
   "outputs": [],
   "source": [
    "x_test_aug_0_norm=x_test_augment[0]/255\n",
    "preds_model_3_aug_test = model_3.predict_classes(x_test_aug_0_norm.reshape(-1,28,28,1))"
   ]
  },
  {
   "cell_type": "code",
   "execution_count": 269,
   "metadata": {},
   "outputs": [
    {
     "data": {
      "text/plain": [
       "array([7])"
      ]
     },
     "execution_count": 269,
     "metadata": {},
     "output_type": "execute_result"
    }
   ],
   "source": [
    "preds_model_3_aug_test"
   ]
  },
  {
   "cell_type": "code",
   "execution_count": null,
   "metadata": {},
   "outputs": [],
   "source": []
  },
  {
   "cell_type": "code",
   "execution_count": 267,
   "metadata": {},
   "outputs": [
    {
     "data": {
      "text/plain": [
       "array([[0.01609692, 0.26779124, 0.13945414, 0.02237866, 0.02179217,\n",
       "        0.01931005, 0.00568619, 0.40441352, 0.0578432 , 0.04523396]],\n",
       "      dtype=float32)"
      ]
     },
     "execution_count": 267,
     "metadata": {},
     "output_type": "execute_result"
    }
   ],
   "source": [
    "preds_model_3_aug_test"
   ]
  },
  {
   "cell_type": "code",
   "execution_count": null,
   "metadata": {},
   "outputs": [],
   "source": []
  },
  {
   "cell_type": "code",
   "execution_count": 206,
   "metadata": {},
   "outputs": [
    {
     "data": {
      "text/plain": [
       "numpy.ndarray"
      ]
     },
     "execution_count": 206,
     "metadata": {},
     "output_type": "execute_result"
    }
   ],
   "source": [
    "x_test_augment[0]"
   ]
  },
  {
   "cell_type": "code",
   "execution_count": null,
   "metadata": {},
   "outputs": [],
   "source": []
  },
  {
   "cell_type": "code",
   "execution_count": null,
   "metadata": {},
   "outputs": [],
   "source": []
  },
  {
   "cell_type": "code",
   "execution_count": 202,
   "metadata": {},
   "outputs": [
    {
     "data": {
      "text/plain": [
       "(1,)"
      ]
     },
     "execution_count": 202,
     "metadata": {},
     "output_type": "execute_result"
    }
   ],
   "source": [
    "preds_model_3_aug_test.shape"
   ]
  },
  {
   "cell_type": "code",
   "execution_count": null,
   "metadata": {},
   "outputs": [],
   "source": []
  },
  {
   "cell_type": "code",
   "execution_count": 265,
   "metadata": {},
   "outputs": [],
   "source": [
    "preds_model_4=model_4.predict_classes(x_test_norm.reshape(-1,28,28,1))"
   ]
  },
  {
   "cell_type": "code",
   "execution_count": null,
   "metadata": {},
   "outputs": [],
   "source": []
  },
  {
   "cell_type": "code",
   "execution_count": 241,
   "metadata": {},
   "outputs": [],
   "source": [
    "diff_index_model_4=[]\n",
    "for i in range(len(y_test)):\n",
    "    if y_test[i]!=preds_model_4[i]:\n",
    "        diff_index_model_4.append(i)"
   ]
  },
  {
   "cell_type": "code",
   "execution_count": 242,
   "metadata": {},
   "outputs": [
    {
     "data": {
      "text/plain": [
       "1035"
      ]
     },
     "execution_count": 242,
     "metadata": {},
     "output_type": "execute_result"
    }
   ],
   "source": [
    "len(diff_index_model_4)"
   ]
  },
  {
   "cell_type": "code",
   "execution_count": 244,
   "metadata": {},
   "outputs": [
    {
     "data": {
      "text/plain": [
       "(<Figure size 864x864 with 1 Axes>,\n",
       " <matplotlib.axes._subplots.AxesSubplot at 0x1a780666d0>)"
      ]
     },
     "execution_count": 244,
     "metadata": {},
     "output_type": "execute_result"
    },
    {
     "data": {
      "image/png": "[encoded data removed]",
      "text/plain": [
       "<Figure size 864x864 with 1 Axes>"
      ]
     },
     "metadata": {
      "needs_background": "light"
     },
     "output_type": "display_data"
    }
   ],
   "source": [
    "mat_4=confusion_matrix(y_test,preds_model_4)\n",
    "plot_confusion_matrix(mat_4,figsize=(12,12),class_names=[0,1,2,3,4,5,6,7,8,9])"
   ]
  },
  {
   "cell_type": "code",
   "execution_count": null,
   "metadata": {},
   "outputs": [],
   "source": []
  },
  {
   "cell_type": "code",
   "execution_count": 243,
   "metadata": {},
   "outputs": [
    {
     "data": {
      "image/png": "[encoded data removed]",
      "text/plain": [
       "<Figure size 864x864 with 40 Axes>"
      ]
     },
     "metadata": {},
     "output_type": "display_data"
    }
   ],
   "source": [
    "plt.figure(figsize = (12, 12))\n",
    "start_index=0\n",
    "for i in range(40):\n",
    "    plt.subplot(10, 4, i + 1)\n",
    "    plt.grid(False)\n",
    "    plt.xticks([])\n",
    "    plt.yticks([])\n",
    "    col = 'r'\n",
    "    plt.xlabel('i={} | pred={} | true={}'.format(start_index + i, preds_model_4[diff_index_model_4[i]], y_test[diff_index_model_4[i]]), color = col)\n",
    "    plt.imshow(x_test[diff_index_model_4[i]], cmap='binary')\n",
    "plt.show()"
   ]
  },
  {
   "cell_type": "code",
   "execution_count": null,
   "metadata": {},
   "outputs": [],
   "source": [
    "x_test_augment"
   ]
  },
  {
   "cell_type": "code",
   "execution_count": null,
   "metadata": {},
   "outputs": [],
   "source": []
  },
  {
   "cell_type": "code",
   "execution_count": 154,
   "metadata": {},
   "outputs": [],
   "source": [
    "x_test_augment=np.ndarray(shape=(60000,28,28),dtype=int)"
   ]
  },
  {
   "cell_type": "code",
   "execution_count": 271,
   "metadata": {},
   "outputs": [],
   "source": [
    "#data augmentation\n",
    "#only rotation\n",
    "train_datagen_1 = ImageDataGenerator(\n",
    "    rotation_range = 20,\n",
    "    width_shift_range = 0,\n",
    "    height_shift_range = 0,\n",
    "    shear_range = 0,\n",
    "    zoom_range = 0,\n",
    "    horizontal_flip = False,\n",
    ")"
   ]
  },
  {
   "cell_type": "code",
   "execution_count": 272,
   "metadata": {},
   "outputs": [],
   "source": [
    "x_train_augment_4=np.ndarray(shape=(60000,28,28),dtype=int)\n",
    "for i in range(len(x_train)):\n",
    "    img_digit_gen=train_datagen_1.flow(x_train[i].reshape(-1,28,28,1))\n",
    "    a=0\n",
    "    for j in img_digit_gen:\n",
    "        x_train_augment_4[i]=j.reshape(28,28)\n",
    "        a+=1\n",
    "        if a>1:\n",
    "            break"
   ]
  },
  {
   "cell_type": "code",
   "execution_count": 273,
   "metadata": {},
   "outputs": [],
   "source": [
    "x_train_augment_5=np.ndarray(shape=(60000,28,28),dtype=int)\n",
    "for i in range(len(x_train)):\n",
    "    img_digit_gen=train_datagen_1.flow(x_train[i].reshape(-1,28,28,1))\n",
    "    a=0\n",
    "    for j in img_digit_gen:\n",
    "        x_train_augment_5[i]=j.reshape(28,28)\n",
    "        a+=1\n",
    "        if a>1:\n",
    "            break"
   ]
  },
  {
   "cell_type": "code",
   "execution_count": 274,
   "metadata": {},
   "outputs": [],
   "source": [
    "x_train_augment_6=np.ndarray(shape=(60000,28,28),dtype=int)\n",
    "for i in range(len(x_train)):\n",
    "    img_digit_gen=train_datagen_1.flow(x_train[i].reshape(-1,28,28,1))\n",
    "    a=0\n",
    "    for j in img_digit_gen:\n",
    "        x_train_augment_6[i]=j.reshape(28,28)\n",
    "        a+=1\n",
    "        if a>1:\n",
    "            break"
   ]
  },
  {
   "cell_type": "code",
   "execution_count": 280,
   "metadata": {},
   "outputs": [],
   "source": [
    "x_train_new_3=np.append(x_train,x_train_augment_4,axis=0)\n",
    "y_train_new_3=np.append(y_train,y_train)\n",
    "x_train_new_4=np.append(x_train_new_3,x_train_augment_5,axis=0)\n",
    "y_train_new_4=np.append(y_train_new_3,y_train)\n",
    "x_train_new_5=np.append(x_train_new_4,x_train_augment_6,axis=0)\n",
    "y_train_new_5=np.append(y_train_new_4,y_train)"
   ]
  },
  {
   "cell_type": "code",
   "execution_count": 283,
   "metadata": {},
   "outputs": [],
   "source": [
    "x_train_new_5_norm=x_train_new_5/255"
   ]
  },
  {
   "cell_type": "code",
   "execution_count": 285,
   "metadata": {},
   "outputs": [
    {
     "name": "stdout",
     "output_type": "stream",
     "text": [
      "Model: \"sequential_4\"\n",
      "_________________________________________________________________\n",
      "Layer (type)                 Output Shape              Param #   \n",
      "=================================================================\n",
      "conv2d_7 (Conv2D)            (None, 26, 26, 64)        640       \n",
      "_________________________________________________________________\n",
      "activation_10 (Activation)   (None, 26, 26, 64)        0         \n",
      "_________________________________________________________________\n",
      "max_pooling2d_7 (MaxPooling2 (None, 13, 13, 64)        0         \n",
      "_________________________________________________________________\n",
      "conv2d_8 (Conv2D)            (None, 11, 11, 64)        36928     \n",
      "_________________________________________________________________\n",
      "activation_11 (Activation)   (None, 11, 11, 64)        0         \n",
      "_________________________________________________________________\n",
      "max_pooling2d_8 (MaxPooling2 (None, 5, 5, 64)          0         \n",
      "_________________________________________________________________\n",
      "flatten_4 (Flatten)          (None, 1600)              0         \n",
      "_________________________________________________________________\n",
      "dense_7 (Dense)              (None, 64)                102464    \n",
      "_________________________________________________________________\n",
      "dense_8 (Dense)              (None, 10)                650       \n",
      "_________________________________________________________________\n",
      "activation_12 (Activation)   (None, 10)                0         \n",
      "=================================================================\n",
      "Total params: 140,682\n",
      "Trainable params: 140,682\n",
      "Non-trainable params: 0\n",
      "_________________________________________________________________\n"
     ]
    }
   ],
   "source": [
    "model_5 = Sequential()\n",
    "\n",
    "model_5.add(Conv2D(64, (3,3), input_shape=(28, 28, 1)))\n",
    "model_5.add(Activation('relu'))\n",
    "model_5.add(MaxPooling2D(pool_size=(2,2)))\n",
    "\n",
    "model_5.add(Conv2D(64, (3,3)))\n",
    "model_5.add(Activation('relu'))\n",
    "model_5.add(MaxPooling2D(pool_size=(2,2)))\n",
    "\n",
    "model_5.add(Flatten())\n",
    "model_5.add(Dense(64))\n",
    "\n",
    "model_5.add(Dense(10))\n",
    "model_5.add(Activation('softmax'))\n",
    "\n",
    "model_5.compile(loss=keras.losses.categorical_crossentropy, optimizer=keras.optimizers.Adam(),metrics=['accuracy'])\n",
    "model_5.summary()"
   ]
  },
  {
   "cell_type": "code",
   "execution_count": 286,
   "metadata": {},
   "outputs": [],
   "source": [
    "y_train_new_5_encoded=to_categorical(y_train_new_5)"
   ]
  },
  {
   "cell_type": "code",
   "execution_count": 287,
   "metadata": {
    "scrolled": true
   },
   "outputs": [
    {
     "name": "stdout",
     "output_type": "stream",
     "text": [
      "Epoch 1/3\n",
      "240000/240000 [==============================] - 248s 1ms/step - loss: 0.0860 - accuracy: 0.9735\n",
      "Epoch 2/3\n",
      "240000/240000 [==============================] - 245s 1ms/step - loss: 0.0330 - accuracy: 0.9895\n",
      "Epoch 3/3\n",
      "240000/240000 [==============================] - 234s 975us/step - loss: 0.0230 - accuracy: 0.9927\n"
     ]
    }
   ],
   "source": [
    "hist_5 = model_5.fit(\n",
    "    x_train_new_5_norm.reshape(-1, 28,28, 1),\n",
    "    y_train_new_5_encoded,\n",
    "    batch_size=64,\n",
    "    epochs = 3\n",
    ")"
   ]
  },
  {
   "cell_type": "code",
   "execution_count": 327,
   "metadata": {},
   "outputs": [],
   "source": [
    "preds_model_5=model_5.predict_classes(x_test_norm.reshape(-1,28,28,1))\n",
    "diff_index_model_5=[]\n",
    "for i in range(len(y_test)):\n",
    "    if y_test[i]!=preds_model_5[i]:\n",
    "        diff_index_model_5.append(i)"
   ]
  },
  {
   "cell_type": "code",
   "execution_count": 329,
   "metadata": {},
   "outputs": [
    {
     "name": "stdout",
     "output_type": "stream",
     "text": [
      "10000/10000 [==============================] - 5s 527us/step\n"
     ]
    }
   ],
   "source": [
    "loss, accuracy = model_5.evaluate(x_test_norm.reshape(-1,28,28,1), y_test_encoded)"
   ]
  },
  {
   "cell_type": "code",
   "execution_count": 330,
   "metadata": {},
   "outputs": [
    {
     "data": {
      "text/plain": [
       "0.9890999794006348"
      ]
     },
     "execution_count": 330,
     "metadata": {},
     "output_type": "execute_result"
    }
   ],
   "source": [
    "accuracy"
   ]
  },
  {
   "cell_type": "code",
   "execution_count": 291,
   "metadata": {},
   "outputs": [
    {
     "data": {
      "text/plain": [
       "109"
      ]
     },
     "execution_count": 291,
     "metadata": {},
     "output_type": "execute_result"
    }
   ],
   "source": [
    "len(diff_index_model_5)"
   ]
  },
  {
   "cell_type": "code",
   "execution_count": 292,
   "metadata": {
    "scrolled": true
   },
   "outputs": [
    {
     "data": {
      "text/plain": [
       "(<Figure size 864x864 with 1 Axes>,\n",
       " <matplotlib.axes._subplots.AxesSubplot at 0x1c687cb310>)"
      ]
     },
     "execution_count": 292,
     "metadata": {},
     "output_type": "execute_result"
    },
    {
     "data": {
      "image/png": "[encoded data removed]",
      "text/plain": [
       "<Figure size 864x864 with 1 Axes>"
      ]
     },
     "metadata": {
      "needs_background": "light"
     },
     "output_type": "display_data"
    }
   ],
   "source": [
    "mat_5=confusion_matrix(y_test,preds_model_5)\n",
    "plot_confusion_matrix(mat_5,figsize=(12,12),class_names=[0,1,2,3,4,5,6,7,8,9])"
   ]
  },
  {
   "cell_type": "code",
   "execution_count": 293,
   "metadata": {},
   "outputs": [
    {
     "data": {
      "text/plain": [
       "(<Figure size 864x864 with 1 Axes>,\n",
       " <matplotlib.axes._subplots.AxesSubplot at 0x1dd0592650>)"
      ]
     },
     "execution_count": 293,
     "metadata": {},
     "output_type": "execute_result"
    },
    {
     "data": {
      "image/png": "[encoded data removed]",
      "text/plain": [
       "<Figure size 864x864 with 1 Axes>"
      ]
     },
     "metadata": {
      "needs_background": "light"
     },
     "output_type": "display_data"
    }
   ],
   "source": [
    "mat_3=confusion_matrix(y_test,preds_model_3)\n",
    "plot_confusion_matrix(mat_3,figsize=(12,12),class_names=[0,1,2,3,4,5,6,7,8,9])"
   ]
  },
  {
   "cell_type": "code",
   "execution_count": 331,
   "metadata": {},
   "outputs": [
    {
     "data": {
      "image/png": "[encoded data removed]",
      "text/plain": [
       "<Figure size 864x864 with 25 Axes>"
      ]
     },
     "metadata": {},
     "output_type": "display_data"
    }
   ],
   "source": [
    "plt.figure(figsize = (12, 12))\n",
    "start_index=0\n",
    "for i in range(25):\n",
    "    plt.subplot(5, 5, i + 1)\n",
    "    plt.grid(False)\n",
    "    plt.xticks([])\n",
    "    plt.yticks([])\n",
    "    col = 'r'\n",
    "    plt.xlabel('i={} | pred={} | true={}'.format(start_index + i, preds_model_5[diff_index_model_5[i]], y_test[diff_index_model_5[i]]), color = col)\n",
    "    plt.imshow(x_test[diff_index_model_5[i]], cmap='binary')\n",
    "plt.show()"
   ]
  },
  {
   "cell_type": "code",
   "execution_count": null,
   "metadata": {},
   "outputs": [],
   "source": []
  },
  {
   "cell_type": "code",
   "execution_count": 303,
   "metadata": {},
   "outputs": [
    {
     "data": {
      "text/plain": [
       "[321,\n",
       " 340,\n",
       " 619,\n",
       " 646,\n",
       " 659,\n",
       " 740,\n",
       " 938,\n",
       " 1039,\n",
       " 1112,\n",
       " 1224,\n",
       " 1226,\n",
       " 1232,\n",
       " 1242,\n",
       " 1260,\n",
       " 1299,\n",
       " 1319,\n",
       " 1364,\n",
       " 1527,\n",
       " 1641,\n",
       " 1709,\n",
       " 1717,\n",
       " 1754,\n",
       " 1878,\n",
       " 1901,\n",
       " 2035,\n",
       " 2040,\n",
       " 2070,\n",
       " 2098,\n",
       " 2130,\n",
       " 2135,\n",
       " 2185,\n",
       " 2293,\n",
       " 2447,\n",
       " 2454,\n",
       " 2462,\n",
       " 2488,\n",
       " 2582,\n",
       " 2597,\n",
       " 2654,\n",
       " 2896]"
      ]
     },
     "execution_count": 303,
     "metadata": {},
     "output_type": "execute_result"
    }
   ],
   "source": [
    "diff_index_model_3[:40]"
   ]
  },
  {
   "cell_type": "code",
   "execution_count": 300,
   "metadata": {},
   "outputs": [
    {
     "data": {
      "image/png": "[encoded data removed]",
      "text/plain": [
       "<Figure size 864x864 with 40 Axes>"
      ]
     },
     "metadata": {},
     "output_type": "display_data"
    }
   ],
   "source": [
    "plt.figure(figsize = (12, 12))\n",
    "start_index=0\n",
    "for i in range(40):\n",
    "    plt.subplot(10, 4, i + 1)\n",
    "    plt.grid(False)\n",
    "    plt.xticks([])\n",
    "    plt.yticks([])\n",
    "    col = 'r'\n",
    "    plt.xlabel('i={} | pred={} | true={}'.format(start_index + i, preds_model_3[diff_index_model_3[i]], y_test[diff_index_model_3[i]]), color = col)\n",
    "    plt.imshow(x_test[diff_index_model_3[i]], cmap='binary')\n",
    "plt.show()"
   ]
  },
  {
   "cell_type": "code",
   "execution_count": null,
   "metadata": {},
   "outputs": [],
   "source": [
    "#augmentation would work better for more complicated pattern"
   ]
  }
 ],
 "metadata": {
  "kernelspec": {
   "display_name": "Python 3",
   "language": "python",
   "name": "python3"
  },
  "language_info": {
   "codemirror_mode": {
    "name": "ipython",
    "version": 3
   },
   "file_extension": ".py",
   "mimetype": "text/x-python",
   "name": "python",
   "nbconvert_exporter": "python",
   "pygments_lexer": "ipython3",
   "version": "3.7.6"
  }
 },
 "nbformat": 4,
 "nbformat_minor": 4
}
